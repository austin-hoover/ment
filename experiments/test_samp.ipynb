{
 "cells": [
  {
   "cell_type": "markdown",
   "id": "2c795b88-378b-489d-85bb-3e1786930b4a",
   "metadata": {},
   "source": [
    "# Test grid sampling"
   ]
  },
  {
   "cell_type": "code",
   "execution_count": null,
   "id": "eafc9aac-719c-434f-8816-7aae59f171db",
   "metadata": {},
   "outputs": [],
   "source": [
    "import os\n",
    "import time\n",
    "\n",
    "import matplotlib.pyplot as plt\n",
    "import numpy as np\n",
    "import proplot as pplt\n",
    "import psdist as ps\n",
    "import psdist.plot as psv\n",
    "import scipy.interpolate\n",
    "from tqdm import tqdm\n",
    "\n",
    "import ment"
   ]
  },
  {
   "cell_type": "code",
   "execution_count": null,
   "id": "4cee8542-05d6-413f-8dc4-e2e0cde02748",
   "metadata": {},
   "outputs": [],
   "source": [
    "pplt.rc[\"cmap.discrete\"] = False\n",
    "pplt.rc[\"cmap.sequential\"] = \"viridis\"\n",
    "pplt.rc[\"figure.facecolor\"] = \"white\"\n",
    "pplt.rc[\"grid\"] = False"
   ]
  },
  {
   "cell_type": "markdown",
   "id": "e5922304-a9c9-47a7-b09f-7ae4f4845d2d",
   "metadata": {},
   "source": [
    "Create a particle distribution."
   ]
  },
  {
   "cell_type": "code",
   "execution_count": null,
   "id": "3b8a7941-17c2-446d-aa36-6a3cb7308de2",
   "metadata": {},
   "outputs": [],
   "source": [
    "# Settings\n",
    "ndim = 6\n",
    "size = 1_000_000\n",
    "n_modes = 5\n",
    "seed = 1241\n",
    "\n",
    "# Create gaussian particle distribution.\n",
    "rng = np.random.default_rng(seed)\n",
    "mean = np.zeros(ndim)\n",
    "cov = np.identity(ndim)\n",
    "for i in range(ndim):\n",
    "    for j in range(i):\n",
    "        cov[i, j] = cov[j, i] = rng.uniform(-0.2, 0.2)\n",
    "x = rng.multivariate_normal(mean, cov, size=size)\n",
    "\n",
    "# Add gaussian blobs.\n",
    "for _ in range(n_modes):\n",
    "    scale = rng.uniform(0.5, 1.5, size=ndim)\n",
    "    loc = rng.uniform(-3.0, 3.0, size=ndim)\n",
    "    x = np.vstack([x, rng.normal(loc=loc, scale=scale, size=(size // n_modes, ndim))])\n",
    "x = x - np.mean(x, axis=0)\n",
    "\n",
    "x_true = np.copy(x)"
   ]
  },
  {
   "cell_type": "code",
   "execution_count": null,
   "id": "92462b5d-00ec-473e-bed9-83890cb84f8d",
   "metadata": {},
   "outputs": [],
   "source": [
    "limits = ps.points.limits(x_true)\n",
    "\n",
    "grid = psv.CornerGrid(ndim, corner=True)\n",
    "grid.plot_points(\n",
    "    x_true, \n",
    "    bins=50, \n",
    "    limits=limits, \n",
    "    cmap=\"mono\",\n",
    ")\n",
    "plt.show()"
   ]
  },
  {
   "cell_type": "markdown",
   "id": "a6acffc0-ca57-4eaf-b653-277d50c9de1f",
   "metadata": {},
   "source": [
    "Compute ground-truth histogram."
   ]
  },
  {
   "cell_type": "code",
   "execution_count": null,
   "id": "b867c8bf-4249-4e08-91c7-0b47bec1bde7",
   "metadata": {},
   "outputs": [],
   "source": [
    "n_bins = 25\n",
    "hist, edges = np.histogramdd(x_true, bins=n_bins, range=limits, density=True)\n",
    "coords = [ment.grid.edges_to_coords(e) for e in edges]\n",
    "print(\"hist.shape =\", hist.shape)"
   ]
  },
  {
   "cell_type": "markdown",
   "id": "6bc9ba5f-1a70-4025-a3ce-78ba5ed78d8a",
   "metadata": {},
   "source": [
    "Interpolate to obtain a smooth density function."
   ]
  },
  {
   "cell_type": "code",
   "execution_count": null,
   "id": "c2fa95da-05ec-4202-93d6-a869ac508ea0",
   "metadata": {},
   "outputs": [],
   "source": [
    "prob_func = scipy.interpolate.RegularGridInterpolator(\n",
    "    coords, hist, method=\"linear\", bounds_error=False, fill_value=0.0,\n",
    ")"
   ]
  },
  {
   "cell_type": "markdown",
   "id": "edd37ee4-e77d-4e63-8ac7-655ea2a717a5",
   "metadata": {},
   "source": [
    "## Grid Sampling (GS)"
   ]
  },
  {
   "cell_type": "markdown",
   "id": "3ae3e130-c6aa-49c8-a3ad-a9031c5321cf",
   "metadata": {},
   "source": [
    "Sample from the distribution."
   ]
  },
  {
   "cell_type": "code",
   "execution_count": null,
   "id": "1cae078b-f513-4520-bc58-701acd1a532a",
   "metadata": {},
   "outputs": [],
   "source": [
    "samp_grid_res = 15  # limit ~ 15\n",
    "grid_shape = [samp_grid_res] * ndim\n",
    "grid_limits = limits\n",
    "\n",
    "sampler = ment.samp.GridSampler(\n",
    "    grid_limits=grid_limits,\n",
    "    grid_shape=grid_shape,\n",
    "    noise=0.0,\n",
    ")\n",
    "\n",
    "start_time = time.time()\n",
    "x_samp = sampler(prob_func, size)\n",
    "\n",
    "print(\"time:\", time.time() - start_time)"
   ]
  },
  {
   "cell_type": "markdown",
   "id": "8ce9518f-fc65-4b53-ac4d-329f5f7d56db",
   "metadata": {},
   "source": [
    "Plot a samples over histogram projections."
   ]
  },
  {
   "cell_type": "code",
   "execution_count": null,
   "id": "50b729de-d06f-49ec-a751-eae75e5f0e86",
   "metadata": {},
   "outputs": [],
   "source": [
    "def plot_corner_samp(x_samp: np.ndarray):\n",
    "    limits = ps.points.limits(x_true)\n",
    "    \n",
    "    grid = psv.CornerGrid(ndim, corner=True)\n",
    "    grid.set_limits(limits)\n",
    "    grid.plot_image(hist, coords=coords, cmap=\"mono\")\n",
    "    grid.plot_points(\n",
    "        x_samp[:1000, :], \n",
    "        kind=\"scatter\", \n",
    "        color=\"red\", \n",
    "        s=0.5,\n",
    "        diag_kws=dict(color=\"red\")\n",
    "    )\n",
    "    return grid\n",
    "    \n",
    "def plot_corner_hist(x_samp: np.ndarray):\n",
    "    grid = psv.CornerGrid(ndim, corner=False)\n",
    "    grid.set_limits(limits)\n",
    "    grid.plot_image(hist, coords=coords, lower=False, cmap=\"mono\")\n",
    "    grid.plot_points(x_samp, upper=False, bins=n_bins, limits=limits, cmap=\"mono\")\n",
    "    return grid"
   ]
  },
  {
   "cell_type": "code",
   "execution_count": null,
   "id": "b2df452c-954d-4f8c-a797-1572a2f7e4ba",
   "metadata": {},
   "outputs": [],
   "source": [
    "plot_corner_samp(x_samp)\n",
    "plot_corner_hist(x_samp)"
   ]
  },
  {
   "cell_type": "markdown",
   "id": "9a78a618-78c5-4ab6-b20d-cccb0ad3eb2e",
   "metadata": {},
   "source": [
    "## Slice Grid Sampling (GS)"
   ]
  },
  {
   "cell_type": "code",
   "execution_count": null,
   "id": "4655da16-a2b9-4c78-8bf4-5ec5b73a6455",
   "metadata": {},
   "outputs": [],
   "source": [
    "samp_res = 20\n",
    "int_res  = 10\n",
    "\n",
    "ndim_proj = 2\n",
    "ndim_samp = ndim_int = ndim - ndim_proj\n",
    "\n",
    "grid_shape = [samp_res] * ndim\n",
    "grid_limits = limits\n",
    "int_size = int(int_res ** ndim_int)\n",
    "\n",
    "sampler = ment.samp.SliceGridSampler(\n",
    "    grid_limits=grid_limits,\n",
    "    grid_shape=grid_shape,\n",
    "    proj_dim=ndim_proj,\n",
    "    int_size=int_size,\n",
    "    int_method=\"grid\",\n",
    "    int_batches=1,\n",
    "    noise=0.0,\n",
    "    verbose=True,\n",
    ")\n",
    "\n",
    "start_time = time.time()\n",
    "x_samp = sampler(prob_func, size)\n",
    "print(\"time:\", time.time() - start_time)"
   ]
  },
  {
   "cell_type": "code",
   "execution_count": null,
   "id": "19d7cdc4-fd5a-42e2-b9c9-7cec1671e4df",
   "metadata": {},
   "outputs": [],
   "source": [
    "plot_corner_samp(x_samp)\n",
    "plot_corner_hist(x_samp)"
   ]
  },
  {
   "cell_type": "markdown",
   "id": "b5ed19a4-6153-4253-beb1-261f0ea193e4",
   "metadata": {},
   "source": [
    "## Monte Carlo — Metropolis Hastings"
   ]
  },
  {
   "cell_type": "code",
   "execution_count": null,
   "id": "6165f684-1aa4-43c5-bfa7-d9ff57c32132",
   "metadata": {},
   "outputs": [],
   "source": [
    "sampler = ment.samp.MetropolisHastingsSampler(ndim=ndim, scale=1.0, burnin=100_000, shuffle=True)\n",
    "x_samp = sampler(prob_func, size=200_000)"
   ]
  },
  {
   "cell_type": "code",
   "execution_count": null,
   "id": "ee58ab3a-ac36-43fe-8e40-9dc7d9da5efb",
   "metadata": {},
   "outputs": [],
   "source": [
    "plot_corner_samp(x_samp)\n",
    "plot_corner_hist(x_samp)"
   ]
  },
  {
   "cell_type": "code",
   "execution_count": null,
   "id": "26d63265-7a8b-4522-bc39-052eb18e12cd",
   "metadata": {},
   "outputs": [],
   "source": []
  }
 ],
 "metadata": {
  "kernelspec": {
   "display_name": "ment",
   "language": "python",
   "name": "ment"
  },
  "language_info": {
   "codemirror_mode": {
    "name": "ipython",
    "version": 3
   },
   "file_extension": ".py",
   "mimetype": "text/x-python",
   "name": "python",
   "nbconvert_exporter": "python",
   "pygments_lexer": "ipython3",
   "version": "3.11.9"
  }
 },
 "nbformat": 4,
 "nbformat_minor": 5
}
