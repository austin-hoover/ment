{
 "cells": [
  {
   "cell_type": "markdown",
   "id": "d74f0ec2-28b2-45ab-834b-4ed9c3a51f3b",
   "metadata": {},
   "source": [
    "# 2D reconstruction from mismatched turn-by-turn profiles — McMillan map"
   ]
  },
  {
   "cell_type": "code",
   "execution_count": null,
   "id": "ff9fc3bd-50b5-457f-961b-37bcbda59b87",
   "metadata": {},
   "outputs": [],
   "source": [
    "import os\n",
    "import sys\n",
    "import time\n",
    "from typing import Callable\n",
    "\n",
    "import matplotlib.pyplot as plt\n",
    "import matplotlib.colors\n",
    "import matplotlib.lines\n",
    "import numpy as np\n",
    "import proplot as pplt\n",
    "import psdist as ps\n",
    "import psdist.plot as psv\n",
    "from ipywidgets import interact\n",
    "from ipywidgets import widgets\n",
    "from ipywidgets import Dropdown\n",
    "from ipywidgets import IntSlider\n",
    "from ipywidgets import BoundedIntText\n",
    "\n",
    "import ment\n",
    "from ment.sim import Transform\n",
    "from ment.sim import LinearTransform\n",
    "from ment.sim import ComposedTransform"
   ]
  },
  {
   "cell_type": "code",
   "execution_count": null,
   "id": "fad842d4-68bc-4e53-9f51-33f00e3b0d84",
   "metadata": {},
   "outputs": [],
   "source": [
    "pplt.rc[\"cmap.discrete\"] = False\n",
    "pplt.rc[\"cmap.sequential\"] = \"viridis\"\n",
    "pplt.rc[\"figure.facecolor\"] = \"white\"\n",
    "pplt.rc[\"grid\"] = False"
   ]
  },
  {
   "cell_type": "markdown",
   "id": "675ede76-6d7c-4c76-bd74-980cf9410556",
   "metadata": {},
   "source": [
    "Create lattice."
   ]
  },
  {
   "cell_type": "code",
   "execution_count": null,
   "id": "a91983f8-e676-468c-81ce-caba95872716",
   "metadata": {},
   "outputs": [],
   "source": [
    "class AxiallySymmetricNonlinearKick(Transform):\n",
    "    def __init__(self, alpha: float, beta: float, phi: float, A: float, E: float, T: float) -> None:\n",
    "        super().__init__()\n",
    "        self.alpha = alpha\n",
    "        self.beta = beta\n",
    "        self.phi = phi\n",
    "        self.A = A\n",
    "        self.E = E\n",
    "        self.T = T\n",
    "\n",
    "    def forward(self, x: np.ndarray) -> np.ndarray:\n",
    "        ndim = x.shape[1]\n",
    "        if ndim == 2:\n",
    "            x = np.hstack([x, np.zeros((x.shape[0], 2))])\n",
    "\n",
    "        r = np.sqrt(x[:, 0] ** 2 + x[:, 2] ** 2)\n",
    "        theta = np.arctan2(x[:, 2], x[:, 0])\n",
    "\n",
    "        dr = -(1.0 / (self.beta * np.sin(self.phi))) * (\n",
    "            (self.E * r) / (self.A * r**2 + self.T)\n",
    "        ) - ((2.0 * r) / (self.beta * np.tan(self.phi)))\n",
    "\n",
    "        x_out = np.copy(x)\n",
    "        x_out[:, 1] += dr * np.cos(theta)\n",
    "        x_out[:, 3] += dr * np.cos(theta)\n",
    "        return x_out[:, :ndim]"
   ]
  },
  {
   "cell_type": "code",
   "execution_count": null,
   "id": "36263283-ab46-4084-8558-b7148c6ab817",
   "metadata": {},
   "outputs": [],
   "source": [
    "# Define periodic lattice parameters\n",
    "alpha = 0.0\n",
    "beta = 1.0\n",
    "phi = 2.0 * np.pi * 0.18\n",
    "\n",
    "# Create one-turn transfer matrix\n",
    "Vinv = ps.cov.norm_matrix_from_twiss_2x2(alpha, beta)\n",
    "V = np.linalg.inv(Vinv)\n",
    "R = ps.ap.phase_adv_matrix(phi)\n",
    "M = np.linalg.multi_dot([V, R, Vinv])\n",
    "\n",
    "# Make lattice transform\n",
    "lattice = ComposedTransform(\n",
    "    LinearTransform(M),\n",
    "    AxiallySymmetricNonlinearKick(alpha, beta, phi, A=1.0, E=0.5, T=1.0),\n",
    ")"
   ]
  },
  {
   "cell_type": "markdown",
   "id": "ce4a54d7-bd40-46ab-ab2f-9bd2ae7be21b",
   "metadata": {},
   "source": [
    "Make ground-truth phase space distribution. The distribution must not be matched to the lattice optics, else all profiles will be the same and provide no new information. We can apply a linear mismatch. But note that the distribution will *not* be matched to the nonlinear lattice --- it will diffuse."
   ]
  },
  {
   "cell_type": "code",
   "execution_count": null,
   "id": "f2ec404e-2c37-4287-95c2-b4034e8cf6ef",
   "metadata": {},
   "outputs": [],
   "source": [
    "n_parts = 100_000\n",
    "mismatch = False\n",
    "\n",
    "theta = np.linspace(0.0, 2.0 * np.pi, n_parts)\n",
    "x_true = np.stack([np.cos(theta), np.sin(theta)], axis=-1)\n",
    "x_true *= 2.5\n",
    "x_true += np.random.normal(scale=0.25, size=x_true.shape)\n",
    "x_true = x_true / np.std(x_true, axis=0)\n",
    "\n",
    "if mismatch:\n",
    "    Vinv_mismatch = ps.cov.norm_matrix_from_twiss_2x2(alpha=1.5, beta=1.0)\n",
    "    x_true = np.matmul(x_true, Vinv_mismatch.T)"
   ]
  },
  {
   "cell_type": "markdown",
   "id": "676c6190-5faf-4193-a8d6-0f43a1248c82",
   "metadata": {},
   "source": [
    "Define tomographic phase space transformations. Each transformation just tracks the beam for a certain number of turns."
   ]
  },
  {
   "cell_type": "code",
   "execution_count": null,
   "id": "97140e15-b8c8-462b-bddc-51d321ddc725",
   "metadata": {},
   "outputs": [],
   "source": [
    "n_turns = 50\n",
    "\n",
    "transforms = []\n",
    "for turn in range(n_turns):\n",
    "    transform = [lattice] * turn\n",
    "    transform = ComposedTransform(*transform)\n",
    "    transforms.append(transform)"
   ]
  },
  {
   "cell_type": "code",
   "execution_count": null,
   "id": "8b3403d4-0df5-4f6a-9f17-3f2e0bd34741",
   "metadata": {},
   "outputs": [],
   "source": [
    "xmax = 4.0\n",
    "limits = 2 * [(-xmax, xmax)]\n",
    "n_bins = 64\n",
    "bin_edges = np.linspace(-xmax, xmax, 100)\n",
    "bin_coords = 0.5 * (bin_edges[1:] + bin_edges[:-1])\n",
    "\n",
    "diagnostic = ment.diag.Histogram1D(axis=0, edges=bin_edges)\n",
    "diagnostics = [[diagnostic] for transform in transforms]"
   ]
  },
  {
   "cell_type": "markdown",
   "id": "d832303a-e7be-4cca-9767-41749de02e63",
   "metadata": {},
   "source": [
    "Generate training data."
   ]
  },
  {
   "cell_type": "code",
   "execution_count": null,
   "id": "c1c4adf8-f1b3-473d-9df5-e864ae0c6855",
   "metadata": {},
   "outputs": [],
   "source": [
    "measurements = ment.sim.forward(x_true, transforms, diagnostics)"
   ]
  },
  {
   "cell_type": "markdown",
   "id": "f47580ea-fa9e-4d1b-915a-e9538799560c",
   "metadata": {},
   "source": [
    "Plot transformed distribution."
   ]
  },
  {
   "cell_type": "code",
   "execution_count": null,
   "id": "f0c5af94-a859-4aab-a568-3ca190bf2bd9",
   "metadata": {},
   "outputs": [],
   "source": [
    "@interact(\n",
    "    index=IntSlider(min=0, max=(n_turns - 1), val=0),\n",
    "    bins=(32, 128),\n",
    ")\n",
    "def int_plot_meas(index: int, bins: int):\n",
    "    diag_index = 0\n",
    "    transform = transforms[index]\n",
    "    diagnostic = diagnostics[index][diag_index]\n",
    "\n",
    "    u = transform(x_true)\n",
    "\n",
    "    _hist, _edges = np.histogram(u[:, 0], bins=bins, range=limits[0])\n",
    "    _hist = _hist / np.max(_hist)\n",
    "\n",
    "    fig, ax = pplt.subplots()\n",
    "    ax.hist2d(u[:, 0], u[:, 1], bins=bins, range=limits, cmap=\"mono\")\n",
    "    pax = ax.panel_axes(\"bottom\")\n",
    "    pax.stairs(_hist, _edges, color=\"black\", lw=1.25, fill=False)\n",
    "    pax.format(ylim=(0.0, 1.15))\n",
    "    plt.show()"
   ]
  },
  {
   "cell_type": "markdown",
   "id": "713be80a-63a7-4f03-b14f-b07200dad17d",
   "metadata": {},
   "source": [
    "Create MENT model."
   ]
  },
  {
   "cell_type": "code",
   "execution_count": null,
   "id": "e76ed591-2e9c-48cf-ab0d-69d7c8cbe450",
   "metadata": {},
   "outputs": [],
   "source": [
    "ndim = 2\n",
    "prior = ment.GaussianPrior(ndim=ndim, scale=1.0)\n",
    "\n",
    "limits = [(-xmax, xmax)] * ndim\n",
    "\n",
    "samp_grid_limits = limits\n",
    "samp_grid_shape = ndim * [128]\n",
    "sampler = ment.samp.GridSampler(grid_limits=samp_grid_limits, grid_shape=samp_grid_shape)\n",
    "\n",
    "integration_limits = limits[1]\n",
    "integration_limits = [[integration_limits] for transform in transforms]\n",
    "integration_size = 200\n",
    "\n",
    "model = ment.MENT(\n",
    "    ndim=ndim,\n",
    "    measurements=measurements,\n",
    "    transforms=transforms,\n",
    "    diagnostics=diagnostics,\n",
    "    prior=prior,\n",
    "    interpolation_kws=dict(method=\"linear\"),\n",
    "    sampler=sampler,\n",
    "    n_samples=100_000,\n",
    "    integration_limits=integration_limits,\n",
    "    integration_size=integration_size,\n",
    "    verbose=2,\n",
    "    mode=\"sample\",  # {\"integrate\", \"sample\"}\n",
    ")"
   ]
  },
  {
   "cell_type": "markdown",
   "id": "99b9f35c-ddcb-42fe-b576-3c1a45d1f873",
   "metadata": {},
   "source": [
    "Train MENT model."
   ]
  },
  {
   "cell_type": "code",
   "execution_count": null,
   "id": "872cd0f0-744c-43a6-bcaf-e660acb970b4",
   "metadata": {},
   "outputs": [],
   "source": [
    "learning_rate = 0.80\n",
    "n_epochs = 6\n",
    "\n",
    "for epoch in range(-1, n_epochs):\n",
    "    print(\"epoch =\", epoch)\n",
    "\n",
    "    if epoch >= 0:\n",
    "        model.gauss_seidel_step(learning_rate)\n",
    "\n",
    "    x_pred = model.sample(1_000_000)\n",
    "\n",
    "    fig, axs = pplt.subplots(ncols=2)\n",
    "    for i, ax in enumerate(axs):\n",
    "        hist, edges = np.histogramdd(x_true, bins=75, range=limits)\n",
    "        psv.plot_points(\n",
    "            x_pred,\n",
    "            limits=limits,\n",
    "            bins=75,\n",
    "            offset=1.0,\n",
    "            norm=(\"log\" if i else None),\n",
    "            colorbar=True,\n",
    "            ax=ax,\n",
    "        )\n",
    "    plt.show()\n",
    "\n",
    "    ncols = min(len(transforms), 7)\n",
    "    nrows = int(np.ceil(len(transforms) / ncols))\n",
    "    figwidth = 1.5 * ncols\n",
    "    figheight = 1.0 * nrows\n",
    "\n",
    "    fig, axs = pplt.subplots(\n",
    "        ncols=ncols, nrows=nrows, figwidth=figwidth, figheight=figheight, sharex=True, sharey=True\n",
    "    )\n",
    "    for index, transform in enumerate(transforms):\n",
    "        values_pred = diagnostic(transform(x_pred))\n",
    "        values_meas = np.copy(measurements[index][0])\n",
    "        values_pred /= np.max(values_meas)\n",
    "        values_meas /= np.max(values_meas)\n",
    "\n",
    "        diagnostic = diagnostics[index][0]\n",
    "        ax = axs[index]\n",
    "\n",
    "        ax.plot(diagnostic.coords, values_meas, color=\"red3\")\n",
    "        ax.plot(diagnostic.coords, values_pred, color=\"black\", marker=\".\", ms=1.0, lw=0)\n",
    "        ax.format(ymax=1.25, xlim=(-xmax, xmax))\n",
    "    plt.show()"
   ]
  },
  {
   "cell_type": "code",
   "execution_count": null,
   "id": "4614112c-a117-45f7-92c3-0767ba15e544",
   "metadata": {},
   "outputs": [],
   "source": []
  }
 ],
 "metadata": {
  "kernelspec": {
   "display_name": "ment",
   "language": "python",
   "name": "ment"
  },
  "language_info": {
   "codemirror_mode": {
    "name": "ipython",
    "version": 3
   },
   "file_extension": ".py",
   "mimetype": "text/x-python",
   "name": "python",
   "nbconvert_exporter": "python",
   "pygments_lexer": "ipython3",
   "version": "3.11.9"
  }
 },
 "nbformat": 4,
 "nbformat_minor": 5
}
