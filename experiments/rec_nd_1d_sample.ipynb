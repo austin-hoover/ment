{
 "cells": [
  {
   "cell_type": "markdown",
   "id": "c2ac3b4e-3775-47e7-b334-46e8b1e13077",
   "metadata": {},
   "source": [
    "# N:1 MENT — MCMC"
   ]
  },
  {
   "cell_type": "code",
   "execution_count": null,
   "id": "553be401-ef87-43c2-81ae-82a085fd7fbe",
   "metadata": {},
   "outputs": [],
   "source": [
    "import os\n",
    "import sys\n",
    "import time\n",
    "\n",
    "import matplotlib.pyplot as plt\n",
    "import numpy as np\n",
    "import proplot as pplt\n",
    "import psdist as ps\n",
    "import psdist.plot as psv\n",
    "from tqdm.notebook import tqdm\n",
    "from tqdm.notebook import trange\n",
    "\n",
    "import ment"
   ]
  },
  {
   "cell_type": "code",
   "execution_count": null,
   "id": "5d223313-d7d0-41ec-b323-bf36b3619f03",
   "metadata": {},
   "outputs": [],
   "source": [
    "pplt.rc[\"cmap.discrete\"] = False\n",
    "pplt.rc[\"cmap.sequential\"] = \"viridis\"\n",
    "pplt.rc[\"figure.facecolor\"] = \"white\"\n",
    "pplt.rc[\"grid\"] = False"
   ]
  },
  {
   "cell_type": "markdown",
   "id": "2b06b0ea-9a6c-4f57-b05a-f0e5b1d0cbbc",
   "metadata": {},
   "source": [
    "Settings:"
   ]
  },
  {
   "cell_type": "code",
   "execution_count": null,
   "id": "802e2ae5-fc61-4ca0-a132-635bb7a5dc5f",
   "metadata": {},
   "outputs": [],
   "source": [
    "dist_name = \"gaussian_mixture\"\n",
    "ndim = 4\n",
    "xmax = 3.5\n",
    "seed = 12345"
   ]
  },
  {
   "cell_type": "markdown",
   "id": "98da359a-b574-4d32-ac37-070006133006",
   "metadata": {},
   "source": [
    "Define the source distribution."
   ]
  },
  {
   "cell_type": "code",
   "execution_count": null,
   "id": "4676ab41-fca5-441e-bd1d-8ccab2f1299f",
   "metadata": {},
   "outputs": [],
   "source": [
    "dist = ment.dist.get_dist(dist_name, ndim=ndim, seed=seed)\n",
    "x_true = dist.sample(1_000_000)"
   ]
  },
  {
   "cell_type": "code",
   "execution_count": null,
   "id": "35ce0a95-a5ce-407c-87b6-c6e688b78a32",
   "metadata": {},
   "outputs": [],
   "source": [
    "limits = ndim * [(-xmax, xmax)]\n",
    "\n",
    "grid = psv.CornerGrid(ndim, figwidth=(ndim * 1.5))\n",
    "grid.plot_points(x_true, limits=limits, bins=64, mask=False)\n",
    "plt.show()"
   ]
  },
  {
   "cell_type": "markdown",
   "id": "a3730928-01e3-4592-856f-eff841c4bc7b",
   "metadata": {},
   "source": [
    "Generate data."
   ]
  },
  {
   "cell_type": "code",
   "execution_count": null,
   "id": "ada46396-03f8-4bd9-9348-d2e85f94794b",
   "metadata": {},
   "outputs": [],
   "source": [
    "## Measure 1D marginals\n",
    "rng = np.random.default_rng(seed)\n",
    "axis_meas = 0\n",
    "n_bins = 50\n",
    "n_meas = ndim\n",
    "\n",
    "transfer_matrices = []\n",
    "for i in range(ndim):\n",
    "    j = axis_meas\n",
    "    matrix = np.identity(ndim)\n",
    "    matrix[i, i] = matrix[j, j] = 0.0\n",
    "    matrix[i, j] = matrix[j, i] = 1.0\n",
    "    transfer_matrices.append(matrix)\n",
    "\n",
    "transforms = []\n",
    "for matrix in transfer_matrices:\n",
    "    transform = ment.sim.LinearTransform(matrix)\n",
    "    transforms.append(transform)\n",
    "\n",
    "## Create diagnostics (x-y histogram).\n",
    "axis_proj = axis_meas\n",
    "bin_edges = np.linspace(-xmax, xmax, n_bins + 1)\n",
    "\n",
    "diagnostics = []\n",
    "for transform in transforms:\n",
    "    diagnostic = ment.diag.Histogram1D(axis=axis_meas, edges=bin_edges, kde=False, kde_bandwidth=1.0)\n",
    "    diagnostics.append([diagnostic])\n",
    "\n",
    "## Generate data.\n",
    "measurements = []\n",
    "for index, transform in enumerate(transforms):\n",
    "    u = transform(x_true)\n",
    "    measurements.append([diagnostic(u) for diagnostic in diagnostics[index]])"
   ]
  },
  {
   "cell_type": "markdown",
   "id": "feded3ff-bf64-4dd0-aec0-8bfa50234f1f",
   "metadata": {},
   "source": [
    "## Model"
   ]
  },
  {
   "cell_type": "code",
   "execution_count": null,
   "id": "6e17440a-e578-43c8-8bbb-62697f920776",
   "metadata": {},
   "outputs": [],
   "source": [
    "sampler = \"mcmc\"\n",
    "\n",
    "if sampler == \"grid\":\n",
    "    samp_grid_res = 32\n",
    "    samp_noise = 0.5\n",
    "    samp_grid_shape = ndim * [samp_grid_res]\n",
    "    samp_grid_limits = limits\n",
    "\n",
    "    sampler = ment.samp.GridSampler(\n",
    "        grid_limits=samp_grid_limits, \n",
    "        grid_shape=samp_grid_shape,\n",
    "        noise=samp_noise,\n",
    "    )\n",
    "else:\n",
    "    sampler = ment.samp.MetropolisHastingsSampler(\n",
    "        ndim=ndim, scale=1.0, burnin=10_000, shuffle=True, verbose=True,\n",
    "    )\n",
    "\n",
    "prior = ment.GaussianPrior(ndim=ndim, scale=1.0)\n",
    "\n",
    "n_samples = 25_000\n",
    "\n",
    "model = ment.MENT(\n",
    "    ndim=ndim,\n",
    "    measurements=measurements,\n",
    "    transforms=transforms,\n",
    "    diagnostics=diagnostics,\n",
    "    prior=prior,\n",
    "    interpolation_kws=dict(method=\"linear\"),\n",
    "    \n",
    "    sampler=sampler,\n",
    "    n_samples=n_samples,\n",
    "\n",
    "    mode=\"sample\",\n",
    "    verbose=True,\n",
    ")"
   ]
  },
  {
   "cell_type": "markdown",
   "id": "adb5bd95-d320-4dc0-bb13-a14673ced12e",
   "metadata": {},
   "source": [
    "## Training"
   ]
  },
  {
   "cell_type": "code",
   "execution_count": null,
   "id": "cb68f2d5-a645-4fc1-8a5f-6775fa3ceacf",
   "metadata": {},
   "outputs": [],
   "source": [
    "def plot_points(x_pred: np.ndarray, x_true: np.ndarray, n_bins: int):\n",
    "    n = x_pred.shape[0]\n",
    "    \n",
    "    grid = psv.CornerGrid(ndim, figwidth=(ndim * 1.25), corner=False)\n",
    "    kws = dict(limits=limits, bins=n_bins, mask=True)\n",
    "    grid.plot_points(\n",
    "        x_true[:n], \n",
    "        lower=False, \n",
    "        diag_kws=dict(kind=\"step\", color=\"red8\", lw=1.25),\n",
    "        cmap=psv.cubehelix_cmap(color=\"red\"),\n",
    "        **kws\n",
    "    )\n",
    "    grid.plot_points(\n",
    "        x_pred[:n], \n",
    "        upper=False, \n",
    "        diag_kws=dict(kind=\"step\", color=\"blue8\", lw=1.25), \n",
    "        cmap=psv.cubehelix_cmap(color=\"blue\"),\n",
    "        **kws\n",
    "    )\n",
    "    return grid.axs"
   ]
  },
  {
   "cell_type": "code",
   "execution_count": null,
   "id": "f547dfe5-a3ec-463c-a872-5f8d8bd8a2e6",
   "metadata": {},
   "outputs": [],
   "source": [
    "learning_rate = 1.0\n",
    "n_epochs = 2\n",
    "plot_n_samples = 128_000\n",
    "plot_n_bins = n_bins\n",
    "\n",
    "\n",
    "start_time = time.time()\n",
    "\n",
    "for epoch in range(n_epochs + 1):\n",
    "    print(f\"epoch = {epoch}\")\n",
    "\n",
    "    # Update model\n",
    "    if epoch > 0:\n",
    "        model.gauss_seidel_step(learning_rate=learning_rate)\n",
    "        print(\"time = {:0.3f}\".format(time.time() - start_time))\n",
    "\n",
    "    # Plot samples from posterior\n",
    "    x_pred = model.sample(plot_n_samples)\n",
    "    axs = plot_points(x_pred, x_true, n_bins=plot_n_bins)\n",
    "    plt.show()"
   ]
  },
  {
   "cell_type": "markdown",
   "id": "452bf864-6455-4f15-b7a3-23f6939802bb",
   "metadata": {},
   "source": [
    "## Final check"
   ]
  },
  {
   "cell_type": "code",
   "execution_count": null,
   "id": "593da287-d8a7-40f2-a3f2-cf36a31da904",
   "metadata": {},
   "outputs": [],
   "source": [
    "x_pred = model.sample(500_000)"
   ]
  },
  {
   "cell_type": "code",
   "execution_count": null,
   "id": "a183c0b9-b9c6-43a9-a2a2-4091b3a17d4c",
   "metadata": {},
   "outputs": [],
   "source": [
    "color = \"pink\"\n",
    "bins = 32\n",
    "\n",
    "grid = psv.CornerGrid(ndim, figwidth=(ndim * 1.5))\n",
    "grid.plot_points(\n",
    "    x_true, \n",
    "    limits=(ndim * [(-xmax, xmax)]), \n",
    "    bins=bins, \n",
    "    mask=False, \n",
    "    cmap=\"mono\",\n",
    "    diag_kws=dict(lw=1.25, color=\"black\"),\n",
    ")\n",
    "grid.plot_points(\n",
    "    x_pred[:1_000], \n",
    "    diag=False,\n",
    "    kind=\"scatter\",\n",
    "    c=color,\n",
    "    s=0.5,\n",
    ")\n",
    "grid.plot_points(\n",
    "    x_pred[:], \n",
    "    diag_kws=dict(lw=1.25, color=\"pink5\"),\n",
    "    bins=bins,\n",
    "    alpha=0.0,\n",
    ")\n",
    "grid.set_labels([r\"$x$\", r\"$p_x$\", r\"$y$\", r\"$p_y$\", r\"$z$\", r\"$p_z$\"])\n",
    "plt.show()"
   ]
  },
  {
   "cell_type": "code",
   "execution_count": null,
   "id": "ed40cf55-d1e5-4184-bd77-9e5b92633448",
   "metadata": {},
   "outputs": [],
   "source": []
  },
  {
   "cell_type": "code",
   "execution_count": null,
   "id": "1da45a3f-d1c2-4258-b9aa-769f4a12b95e",
   "metadata": {},
   "outputs": [],
   "source": []
  },
  {
   "cell_type": "code",
   "execution_count": null,
   "id": "0ee480f2-d8ac-4f10-8cad-4e0848fec30b",
   "metadata": {},
   "outputs": [],
   "source": []
  },
  {
   "cell_type": "code",
   "execution_count": null,
   "id": "91c290c8-2fe8-4236-9117-de06fe4ee138",
   "metadata": {},
   "outputs": [],
   "source": []
  },
  {
   "cell_type": "code",
   "execution_count": null,
   "id": "83d9ef36-1eaf-4ff2-ad93-cf9838d01019",
   "metadata": {},
   "outputs": [],
   "source": []
  },
  {
   "cell_type": "code",
   "execution_count": null,
   "id": "72970bf2-c8c4-4a29-aa3c-b2f8c0850b3c",
   "metadata": {},
   "outputs": [],
   "source": []
  },
  {
   "cell_type": "code",
   "execution_count": null,
   "id": "527d0326-befc-4a9b-8fb9-ce1c01f5ab1d",
   "metadata": {},
   "outputs": [],
   "source": []
  }
 ],
 "metadata": {
  "kernelspec": {
   "display_name": "ment",
   "language": "python",
   "name": "ment"
  },
  "language_info": {
   "codemirror_mode": {
    "name": "ipython",
    "version": 3
   },
   "file_extension": ".py",
   "mimetype": "text/x-python",
   "name": "python",
   "nbconvert_exporter": "python",
   "pygments_lexer": "ipython3",
   "version": "3.11.9"
  }
 },
 "nbformat": 4,
 "nbformat_minor": 5
}
