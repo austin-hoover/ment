{
 "cells": [
  {
   "cell_type": "markdown",
   "id": "c2ac3b4e-3775-47e7-b334-46e8b1e13077",
   "metadata": {},
   "source": [
    "# N:1 MENT-S — marginal projections"
   ]
  },
  {
   "cell_type": "code",
   "execution_count": null,
   "id": "553be401-ef87-43c2-81ae-82a085fd7fbe",
   "metadata": {},
   "outputs": [],
   "source": [
    "import os\n",
    "import sys\n",
    "import time\n",
    "\n",
    "import matplotlib.pyplot as plt\n",
    "import numpy as np\n",
    "import proplot as pplt\n",
    "import psdist as ps\n",
    "import psdist.plot as psv\n",
    "from tqdm.notebook import tqdm\n",
    "from tqdm.notebook import trange\n",
    "\n",
    "import ment\n",
    "from ment.train.plot import PlotDistCorner\n",
    "from ment.train.plot import PlotProj1D\n",
    "from ment.utils import unravel"
   ]
  },
  {
   "cell_type": "code",
   "execution_count": null,
   "id": "5d223313-d7d0-41ec-b323-bf36b3619f03",
   "metadata": {},
   "outputs": [],
   "source": [
    "pplt.rc[\"cmap.discrete\"] = False\n",
    "pplt.rc[\"cmap.sequential\"] = \"viridis\"\n",
    "pplt.rc[\"figure.facecolor\"] = \"white\"\n",
    "pplt.rc[\"grid\"] = False"
   ]
  },
  {
   "cell_type": "markdown",
   "id": "2b06b0ea-9a6c-4f57-b05a-f0e5b1d0cbbc",
   "metadata": {},
   "source": [
    "## Settings"
   ]
  },
  {
   "cell_type": "code",
   "execution_count": null,
   "id": "802e2ae5-fc61-4ca0-a132-635bb7a5dc5f",
   "metadata": {},
   "outputs": [],
   "source": [
    "dist_name = \"gaussian_mixture\"\n",
    "ndim = 6\n",
    "xmax = 3.5\n",
    "seed = 12345"
   ]
  },
  {
   "cell_type": "markdown",
   "id": "98da359a-b574-4d32-ac37-070006133006",
   "metadata": {},
   "source": [
    "## Source distribution"
   ]
  },
  {
   "cell_type": "code",
   "execution_count": null,
   "id": "4676ab41-fca5-441e-bd1d-8ccab2f1299f",
   "metadata": {},
   "outputs": [],
   "source": [
    "dist = ment.dist.get_dist(dist_name, ndim=ndim, seed=seed)\n",
    "X_true = dist.sample(1_000_000)"
   ]
  },
  {
   "cell_type": "code",
   "execution_count": null,
   "id": "35ce0a95-a5ce-407c-87b6-c6e688b78a32",
   "metadata": {},
   "outputs": [],
   "source": [
    "limits = ndim * [(-xmax, xmax)]\n",
    "\n",
    "grid = psv.CornerGrid(ndim, figwidth=(ndim * 1.5))\n",
    "grid.plot_points(X_true, limits=limits, bins=64, mask=False)\n",
    "plt.show()"
   ]
  },
  {
   "cell_type": "markdown",
   "id": "a3730928-01e3-4592-856f-eff841c4bc7b",
   "metadata": {},
   "source": [
    "## Data generation"
   ]
  },
  {
   "cell_type": "code",
   "execution_count": null,
   "id": "ada46396-03f8-4bd9-9348-d2e85f94794b",
   "metadata": {},
   "outputs": [],
   "source": [
    "# Settings\n",
    "nbins = 40\n",
    "nmeas = ndim\n",
    "kde = False\n",
    "kde_bandwidth = 1.0\n",
    "\n",
    "## Measure 1D marginals\n",
    "rng = np.random.default_rng(seed)\n",
    "axis_meas = 0\n",
    "n_meas = ndim\n",
    "\n",
    "# Create transforms (permutation matrices)\n",
    "transfer_matrices = []\n",
    "for i in range(ndim):\n",
    "    j = axis_meas\n",
    "    matrix = np.identity(ndim)\n",
    "    matrix[i, i] = matrix[j, j] = 0.0\n",
    "    matrix[i, j] = matrix[j, i] = 1.0\n",
    "    transfer_matrices.append(matrix)\n",
    "\n",
    "transforms = []\n",
    "for matrix in transfer_matrices:\n",
    "    transform = ment.sim.LinearTransform(matrix)\n",
    "    transforms.append(transform)\n",
    "\n",
    "# Create histogram diagnostics\n",
    "axis_proj = axis_meas\n",
    "bin_edges = np.linspace(-xmax, xmax, nbins + 1)\n",
    "\n",
    "diagnostics = []\n",
    "for transform in transforms:\n",
    "    diagnostic = ment.diag.Histogram1D(\n",
    "        axis=axis_meas, edges=bin_edges, kde=kde, kde_bandwidth=kde_bandwidth\n",
    "    )\n",
    "    diagnostics.append([diagnostic])\n",
    "\n",
    "# Generate data.\n",
    "projections = ment.sim.forward(X_true, transforms, diagnostics)"
   ]
  },
  {
   "cell_type": "markdown",
   "id": "feded3ff-bf64-4dd0-aec0-8bfa50234f1f",
   "metadata": {},
   "source": [
    "## Reconstruction model"
   ]
  },
  {
   "cell_type": "code",
   "execution_count": null,
   "id": "6e17440a-e578-43c8-8bbb-62697f920776",
   "metadata": {},
   "outputs": [],
   "source": [
    "sampler = \"mcmc\"\n",
    "nsamp = 500_000\n",
    "burnin = 10_000\n",
    "\n",
    "if sampler == \"grid\":\n",
    "    samp_grid_res = 32\n",
    "    samp_noise = 0.5\n",
    "    samp_grid_shape = ndim * [samp_grid_res]\n",
    "    samp_grid_limits = limits\n",
    "\n",
    "    sampler = ment.samp.GridSampler(\n",
    "        grid_limits=samp_grid_limits,\n",
    "        grid_shape=samp_grid_shape,\n",
    "        noise=samp_noise,\n",
    "    )\n",
    "elif sampler == \"mcmc\":\n",
    "    sampler = ment.samp.MetropolisHastingsSampler(\n",
    "        ndim=ndim,\n",
    "        chains=248,\n",
    "        proposal_cov=np.eye(ndim),\n",
    "        burnin=burnin,\n",
    "        shuffle=True,\n",
    "        verbose=True,\n",
    "    )\n",
    "else:\n",
    "    raise ValueError\n",
    "\n",
    "prior = ment.GaussianPrior(ndim=ndim, scale=1.0)\n",
    "\n",
    "model = ment.MENT(\n",
    "    ndim=ndim,\n",
    "    projections=projections,\n",
    "    transforms=transforms,\n",
    "    diagnostics=diagnostics,\n",
    "    prior=prior,\n",
    "    interpolation_kws=dict(method=\"linear\"),\n",
    "    sampler=sampler,\n",
    "    nsamp=nsamp,\n",
    "    mode=\"sample\",\n",
    "    verbose=True,\n",
    ")"
   ]
  },
  {
   "cell_type": "markdown",
   "id": "adb5bd95-d320-4dc0-bb13-a14673ced12e",
   "metadata": {},
   "source": [
    "## Training"
   ]
  },
  {
   "cell_type": "code",
   "execution_count": null,
   "id": "ab619ba5-5784-414e-9571-3ece55909c83",
   "metadata": {},
   "outputs": [],
   "source": [
    "plot_nsamp = 1_000_000\n",
    "plot_nbins = 64"
   ]
  },
  {
   "cell_type": "code",
   "execution_count": null,
   "id": "a063d318-7f3d-4691-8500-038ea8adbb17",
   "metadata": {},
   "outputs": [],
   "source": [
    "plot_model = ment.train.Plotter(\n",
    "    n_samples=plot_nsamp,\n",
    "    plot_proj=[\n",
    "        PlotProj1D(log=False),\n",
    "        PlotProj1D(log=True),\n",
    "    ],\n",
    "    plot_dist=[\n",
    "        PlotDistCorner(\n",
    "            fig_kws=dict(figwidth=(ndim * 1.25), diag_shrink=0.80),\n",
    "            limits=(ndim * [(-xmax, xmax)]),\n",
    "            bins=plot_nbins,\n",
    "        ),\n",
    "    ],\n",
    ")\n",
    "\n",
    "eval_model = ment.train.Evaluator(n_samples=plot_nsamp)"
   ]
  },
  {
   "cell_type": "code",
   "execution_count": null,
   "id": "132104e7-8115-4d6d-b236-c857d90617bc",
   "metadata": {},
   "outputs": [],
   "source": [
    "trainer = ment.train.Trainer(\n",
    "    model,\n",
    "    plot_func=plot_model,\n",
    "    eval_func=eval_model,\n",
    "    notebook=True,\n",
    ")\n",
    "\n",
    "trainer.train(epochs=3, learning_rate=0.80)"
   ]
  },
  {
   "cell_type": "markdown",
   "id": "452bf864-6455-4f15-b7a3-23f6939802bb",
   "metadata": {},
   "source": [
    "## Evaluation"
   ]
  },
  {
   "cell_type": "code",
   "execution_count": null,
   "id": "593da287-d8a7-40f2-a3f2-cf36a31da904",
   "metadata": {},
   "outputs": [],
   "source": [
    "X_pred = model.sample(100_000)"
   ]
  },
  {
   "cell_type": "code",
   "execution_count": null,
   "id": "a183c0b9-b9c6-43a9-a2a2-4091b3a17d4c",
   "metadata": {},
   "outputs": [],
   "source": [
    "# color = \"pink\"\n",
    "# bins = 32\n",
    "\n",
    "# grid = psv.CornerGrid(ndim, figwidth=(ndim * 1.5))\n",
    "# grid.plot_points(\n",
    "#     X_true[: X_pred.shape[0], :],\n",
    "#     limits=(ndim * [(-xmax, xmax)]),\n",
    "#     bins=bins,\n",
    "#     mask=False,\n",
    "#     cmap=\"mono\",\n",
    "#     diag_kws=dict(lw=1.25, color=\"black\"),\n",
    "# )\n",
    "# grid.plot_points(\n",
    "#     X_pred,\n",
    "#     limits=(ndim * [(-xmax, xmax)]),\n",
    "#     bins=bins,\n",
    "#     diag_kws=dict(lw=1.25, color=\"pink5\"),\n",
    "#     alpha=0.0,\n",
    "# )\n",
    "# grid.plot_points(\n",
    "#     X_pred[:1000, :],\n",
    "#     diag=False,\n",
    "#     kind=\"scatter\",\n",
    "#     c=color,\n",
    "#     s=0.5,\n",
    "# )\n",
    "# grid.set_limits(ndim * [(-xmax, xmax)])\n",
    "# grid.set_labels([r\"$x$\", r\"$p_x$\", r\"$y$\", r\"$p_y$\", r\"$z$\", r\"$p_z$\"])\n",
    "# plt.show()"
   ]
  },
  {
   "cell_type": "code",
   "execution_count": null,
   "id": "623d5fca-a0b7-4109-8988-5f3b557c45b1",
   "metadata": {},
   "outputs": [],
   "source": []
  }
 ],
 "metadata": {
  "kernelspec": {
   "display_name": "ment",
   "language": "python",
   "name": "ment"
  },
  "language_info": {
   "codemirror_mode": {
    "name": "ipython",
    "version": 3
   },
   "file_extension": ".py",
   "mimetype": "text/x-python",
   "name": "python",
   "nbconvert_exporter": "python",
   "pygments_lexer": "ipython3",
   "version": "3.11.9"
  }
 },
 "nbformat": 4,
 "nbformat_minor": 5
}
