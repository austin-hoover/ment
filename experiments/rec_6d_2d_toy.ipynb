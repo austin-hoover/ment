{
 "cells": [
  {
   "cell_type": "markdown",
   "id": "c2ac3b4e-3775-47e7-b334-46e8b1e13077",
   "metadata": {},
   "source": [
    "# 6:2 MENT — Gaussian mixture"
   ]
  },
  {
   "cell_type": "code",
   "execution_count": null,
   "id": "553be401-ef87-43c2-81ae-82a085fd7fbe",
   "metadata": {},
   "outputs": [],
   "source": [
    "import os\n",
    "import sys\n",
    "import time\n",
    "\n",
    "import matplotlib.pyplot as plt\n",
    "import numpy as np\n",
    "import proplot as pplt\n",
    "import psdist as ps\n",
    "import psdist.plot as psv\n",
    "from tqdm.notebook import tqdm\n",
    "from tqdm.notebook import trange\n",
    "\n",
    "import ment"
   ]
  },
  {
   "cell_type": "code",
   "execution_count": null,
   "id": "5d223313-d7d0-41ec-b323-bf36b3619f03",
   "metadata": {},
   "outputs": [],
   "source": [
    "pplt.rc[\"cmap.discrete\"] = False\n",
    "pplt.rc[\"cmap.sequential\"] = \"viridis\"\n",
    "pplt.rc[\"figure.facecolor\"] = \"white\"\n",
    "pplt.rc[\"grid\"] = False"
   ]
  },
  {
   "cell_type": "markdown",
   "id": "2b06b0ea-9a6c-4f57-b05a-f0e5b1d0cbbc",
   "metadata": {},
   "source": [
    "Settings:"
   ]
  },
  {
   "cell_type": "code",
   "execution_count": null,
   "id": "802e2ae5-fc61-4ca0-a132-635bb7a5dc5f",
   "metadata": {},
   "outputs": [],
   "source": [
    "dist_name = \"gaussian_mixture\"\n",
    "ndim = 6\n",
    "n_meas = 9\n",
    "n_bins = 50\n",
    "xmax = 3.5\n",
    "seed = 12345"
   ]
  },
  {
   "cell_type": "markdown",
   "id": "98da359a-b574-4d32-ac37-070006133006",
   "metadata": {},
   "source": [
    "Define the source distribution."
   ]
  },
  {
   "cell_type": "code",
   "execution_count": null,
   "id": "4676ab41-fca5-441e-bd1d-8ccab2f1299f",
   "metadata": {},
   "outputs": [],
   "source": [
    "dist = ment.dist.get_dist(dist_name, ndim=ndim, seed=seed)\n",
    "x_true = dist.sample(1_000_000)"
   ]
  },
  {
   "cell_type": "code",
   "execution_count": null,
   "id": "35ce0a95-a5ce-407c-87b6-c6e688b78a32",
   "metadata": {},
   "outputs": [],
   "source": [
    "limits = ndim * [(-xmax, xmax)]\n",
    "\n",
    "grid = psv.CornerGrid(ndim, figwidth=(ndim * 1.5))\n",
    "grid.plot_points(x_true, limits=limits, bins=75, mask=False)\n",
    "plt.show()"
   ]
  },
  {
   "cell_type": "markdown",
   "id": "a3730928-01e3-4592-856f-eff841c4bc7b",
   "metadata": {},
   "source": [
    "Generate data."
   ]
  },
  {
   "cell_type": "code",
   "execution_count": null,
   "id": "ada46396-03f8-4bd9-9348-d2e85f94794b",
   "metadata": {},
   "outputs": [],
   "source": [
    "## Create transforms (random phase advances)\n",
    "rng = np.random.default_rng(seed)\n",
    "phase_advances = rng.uniform(0.0, np.pi, size=(n_meas, 2))\n",
    "transfer_matrices = []\n",
    "for (mux, muy) in phase_advances:\n",
    "    matrix = np.eye(ndim)\n",
    "    matrix[0:2, 0:2] = ment.sim.rotation_matrix(mux)\n",
    "    matrix[2:4, 2:4] = ment.sim.rotation_matrix(muy)\n",
    "    transfer_matrices.append(matrix)\n",
    "\n",
    "transforms = []\n",
    "for matrix in transfer_matrices:\n",
    "    transform = ment.sim.LinearTransform(matrix)\n",
    "    transforms.append(transform)\n",
    "\n",
    "## Create diagnostics (x-y histogram).\n",
    "axis_proj = (0, 2)\n",
    "bin_edges = len(axis_proj) * [np.linspace(-xmax, xmax, n_bins + 1)]\n",
    "\n",
    "diagnostics = []\n",
    "for transform in transforms:\n",
    "    diagnostic = ment.diag.HistogramND(axis=(0, 2), edges=bin_edges)\n",
    "    diagnostics.append([diagnostic])\n",
    "\n",
    "## Generate data.\n",
    "measurements = []\n",
    "for index, transform in enumerate(transforms):\n",
    "    u = transform(x_true)\n",
    "    measurements.append([diagnostic(u) for diagnostic in diagnostics[index]])"
   ]
  },
  {
   "cell_type": "markdown",
   "id": "feded3ff-bf64-4dd0-aec0-8bfa50234f1f",
   "metadata": {},
   "source": [
    "Create MENT reconstruction model."
   ]
  },
  {
   "cell_type": "code",
   "execution_count": null,
   "id": "6e17440a-e578-43c8-8bbb-62697f920776",
   "metadata": {},
   "outputs": [],
   "source": [
    "prior = ment.GaussianPrior(ndim=ndim, scale=2.0)\n",
    "\n",
    "samp_grid_res = 10\n",
    "samp_noise = 1.0\n",
    "samp_grid_shape = ndim * [samp_grid_res]\n",
    "samp_grid_limits = limits\n",
    "\n",
    "sampler = ment.samp.GridSampler(\n",
    "    grid_limits=samp_grid_limits, \n",
    "    grid_shape=samp_grid_shape,\n",
    "    noise=samp_noise,\n",
    ")\n",
    "\n",
    "integration_limits = [limits[axis] for axis in range(ndim) if axis not in axis_proj]\n",
    "integration_limits = [[integration_limits]] * len(transforms)\n",
    "\n",
    "model = ment.MENT(\n",
    "    ndim=ndim,\n",
    "    measurements=measurements,\n",
    "    transforms=transforms,\n",
    "    diagnostics=diagnostics,\n",
    "    prior=prior,\n",
    "    interpolation_kws=dict(method=\"linear\"),\n",
    "    \n",
    "    sampler=sampler,\n",
    "    n_samples=1_000_000,\n",
    "    \n",
    "    integration_limits=integration_limits,\n",
    "    integration_size=(15 ** 4), \n",
    "    integration_batches=1,\n",
    "\n",
    "    mode=\"integrate\",\n",
    "    verbose=True,\n",
    ")\n",
    "\n",
    "learning_rate = 0.80\n",
    "n_epochs = 2"
   ]
  },
  {
   "cell_type": "markdown",
   "id": "adb5bd95-d320-4dc0-bb13-a14673ced12e",
   "metadata": {},
   "source": [
    "Train the model."
   ]
  },
  {
   "cell_type": "code",
   "execution_count": null,
   "id": "f547dfe5-a3ec-463c-a872-5f8d8bd8a2e6",
   "metadata": {},
   "outputs": [],
   "source": [
    "start_time = time.time()\n",
    "\n",
    "for epoch in range(-1, n_epochs):\n",
    "    print(f\"epoch = {epoch}\")\n",
    "    \n",
    "    if epoch >= 0:\n",
    "        model.gauss_seidel_step(lr=learning_rate)\n",
    "        print(\"time = {:0.3f}\".format(time.time() - start_time))\n",
    "\n",
    "    x_pred = model.sample(1_000_000)\n",
    "    \n",
    "    grid = psv.CornerGrid(ndim, figwidth=(ndim * 1.25), corner=False)\n",
    "    kws = dict(limits=limits, bins=75, mask=True)\n",
    "    grid.plot_points(\n",
    "        x_true, \n",
    "        lower=False, \n",
    "        diag_kws=dict(kind=\"step\", color=\"red8\", lw=1.25),\n",
    "        cmap=psv.cubehelix_cmap(color=\"red\"),\n",
    "        **kws\n",
    "    )\n",
    "    grid.plot_points(\n",
    "        x_pred, \n",
    "        upper=False, \n",
    "        diag_kws=dict(kind=\"step\", color=\"blue8\", lw=1.25), \n",
    "        cmap=psv.cubehelix_cmap(color=\"blue\"),\n",
    "        **kws\n",
    "    )\n",
    "    plt.show()"
   ]
  },
  {
   "cell_type": "markdown",
   "id": "8f185dda-e617-47ef-bfa2-02cb21bfb014",
   "metadata": {},
   "source": [
    "Check model predictions."
   ]
  },
  {
   "cell_type": "code",
   "execution_count": null,
   "id": "d34b75f9-d2c6-4821-bdd3-41097fce5abf",
   "metadata": {},
   "outputs": [],
   "source": [
    "for index in range(n_meas):\n",
    "    print(\"index =\", index)\n",
    "\n",
    "    diag_index = 0\n",
    "    diagnostic = diagnostics[index][diag_index]\n",
    "    values_meas = measurements[index][diag_index]\n",
    "    values_pred = model.simulate(index, diag_index)\n",
    "\n",
    "    coords = diagnostic.coords\n",
    "    \n",
    "    fig, axs = pplt.subplots(ncols=2, figwidth=4.0, xspineloc=\"neither\", yspineloc=\"neither\", space=0.0)\n",
    "    for ax, values in zip(axs, [values_pred, values_meas]):\n",
    "        ax.pcolormesh(coords[0], coords[1], values.T, robust=False, cmap=\"mono\")\n",
    "    axs.format(toplabels=[\"PRED\", \"MEAS\"])\n",
    "    plt.show()"
   ]
  },
  {
   "cell_type": "code",
   "execution_count": null,
   "id": "593da287-d8a7-40f2-a3f2-cf36a31da904",
   "metadata": {},
   "outputs": [],
   "source": []
  }
 ],
 "metadata": {
  "kernelspec": {
   "display_name": "Python (ment)",
   "language": "python",
   "name": "ment"
  },
  "language_info": {
   "codemirror_mode": {
    "name": "ipython",
    "version": 3
   },
   "file_extension": ".py",
   "mimetype": "text/x-python",
   "name": "python",
   "nbconvert_exporter": "python",
   "pygments_lexer": "ipython3",
   "version": "3.10.14"
  }
 },
 "nbformat": 4,
 "nbformat_minor": 5
}
