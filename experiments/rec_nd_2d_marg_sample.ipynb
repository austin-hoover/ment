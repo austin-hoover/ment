{
 "cells": [
  {
   "cell_type": "markdown",
   "id": "c2ac3b4e-3775-47e7-b334-46e8b1e13077",
   "metadata": {},
   "source": [
    "# N:2 MENT — sample-based solver"
   ]
  },
  {
   "cell_type": "code",
   "execution_count": null,
   "id": "553be401-ef87-43c2-81ae-82a085fd7fbe",
   "metadata": {},
   "outputs": [],
   "source": [
    "import os\n",
    "import sys\n",
    "import time\n",
    "\n",
    "import matplotlib.pyplot as plt\n",
    "import numpy as np\n",
    "import proplot as pplt\n",
    "import psdist as ps\n",
    "import psdist.plot as psv\n",
    "from ipywidgets import interact\n",
    "from ipywidgets import widgets\n",
    "from tqdm.notebook import tqdm\n",
    "from tqdm.notebook import trange\n",
    "\n",
    "import ment\n",
    "from ment.utils import unravel"
   ]
  },
  {
   "cell_type": "code",
   "execution_count": null,
   "id": "5d223313-d7d0-41ec-b323-bf36b3619f03",
   "metadata": {},
   "outputs": [],
   "source": [
    "pplt.rc[\"cmap.discrete\"] = False\n",
    "pplt.rc[\"cmap.sequential\"] = \"viridis\"\n",
    "pplt.rc[\"figure.facecolor\"] = \"white\"\n",
    "pplt.rc[\"grid\"] = False"
   ]
  },
  {
   "cell_type": "markdown",
   "id": "2b06b0ea-9a6c-4f57-b05a-f0e5b1d0cbbc",
   "metadata": {},
   "source": [
    "Settings:"
   ]
  },
  {
   "cell_type": "code",
   "execution_count": null,
   "id": "802e2ae5-fc61-4ca0-a132-635bb7a5dc5f",
   "metadata": {},
   "outputs": [],
   "source": [
    "dist_name = \"gaussian_mixture\"\n",
    "ndim = 6\n",
    "xmax = 3.5\n",
    "seed = 12345\n",
    "rng = np.random.default_rng(seed)"
   ]
  },
  {
   "cell_type": "markdown",
   "id": "98da359a-b574-4d32-ac37-070006133006",
   "metadata": {},
   "source": [
    "Define the source distribution."
   ]
  },
  {
   "cell_type": "code",
   "execution_count": null,
   "id": "4676ab41-fca5-441e-bd1d-8ccab2f1299f",
   "metadata": {},
   "outputs": [],
   "source": [
    "dist = ment.dist.get_dist(dist_name, ndim=ndim, seed=seed, noise=0.25)\n",
    "X_true = dist.sample(1_000_000)\n",
    "\n",
    "# X_true[:, (0, 1)] = ment.dist.get_dist(\"galaxy\").sample(X_true.shape[0])\n",
    "# X_true[:, (2, 3)] = ment.dist.get_dist(\"galaxy\").sample(X_true.shape[0])\n",
    "# X_true[:, (2, 3)] = np.flip(X_true[:, (2, 3)], axis=1)"
   ]
  },
  {
   "cell_type": "code",
   "execution_count": null,
   "id": "35ce0a95-a5ce-407c-87b6-c6e688b78a32",
   "metadata": {},
   "outputs": [],
   "source": [
    "limits = ndim * [(-xmax, xmax)]\n",
    "\n",
    "grid = psv.CornerGrid(ndim, figwidth=(ndim * 1.5))\n",
    "grid.plot_points(X_true, limits=limits, bins=64, mask=False)\n",
    "plt.show()"
   ]
  },
  {
   "cell_type": "markdown",
   "id": "a3730928-01e3-4592-856f-eff841c4bc7b",
   "metadata": {},
   "source": [
    "Set up forward model."
   ]
  },
  {
   "cell_type": "code",
   "execution_count": null,
   "id": "ada46396-03f8-4bd9-9348-d2e85f94794b",
   "metadata": {},
   "outputs": [],
   "source": [
    "# Settings\n",
    "nmeas = ndim * (ndim - 1) // 2\n",
    "nbins = 64\n",
    "blur = 1.0\n",
    "kde = False\n",
    "kde_bandwidth = 1.0\n",
    "axis_meas = (0, 2)\n",
    "\n",
    "# Create transforms\n",
    "transfer_matrices = []\n",
    "for i in range(ndim):\n",
    "    for j in range(i):\n",
    "        matrices = []\n",
    "        for k, l in zip(axis_meas, (j, i)):\n",
    "            matrix = np.identity(ndim)\n",
    "            matrix[k, k] = matrix[l, l] = 0.0\n",
    "            matrix[k, l] = matrix[l, k] = 1.0\n",
    "            matrices.append(matrix)\n",
    "        transfer_matrices.append(np.linalg.multi_dot(matrices[::-1]))\n",
    "\n",
    "transforms = []\n",
    "for matrix in transfer_matrices:\n",
    "    transform = ment.sim.LinearTransform(matrix)\n",
    "    transforms.append(transform)\n",
    "\n",
    "# Create diagnostics\n",
    "bin_edges = len(axis_meas) * [np.linspace(-xmax, xmax, nbins + 1)]\n",
    "\n",
    "diagnostics = []\n",
    "for transform in transforms:\n",
    "    diagnostic = ment.diag.Histogram2D(\n",
    "        axis=axis_meas,\n",
    "        edges=bin_edges, \n",
    "        kde=kde, \n",
    "        kde_bandwidth=kde_bandwidth, \n",
    "        blur=blur,\n",
    "    )\n",
    "    diagnostics.append([diagnostic])"
   ]
  },
  {
   "cell_type": "markdown",
   "id": "6614ecd4-77f0-4cd3-97fe-1a3e0a26af34",
   "metadata": {},
   "source": [
    "Generate data."
   ]
  },
  {
   "cell_type": "code",
   "execution_count": null,
   "id": "6ac4995d-0611-48e9-9779-af7458aa95bc",
   "metadata": {},
   "outputs": [],
   "source": [
    "projections = ment.sim.forward_with_diag_update(\n",
    "    X_true, transforms, diagnostics, kde=False, blur=False,\n",
    ")\n",
    "\n",
    "thresh = None\n",
    "thresh = 1.00e-04\n",
    "for projection in unravel(projections):\n",
    "    if thresh:\n",
    "        projection[projection < thresh] = 0.0"
   ]
  },
  {
   "cell_type": "code",
   "execution_count": null,
   "id": "b1bea679-113c-4894-a5c4-000133b01eb2",
   "metadata": {},
   "outputs": [],
   "source": [
    "@interact(index=(0, nmeas - 1))\n",
    "def update(index: int):\n",
    "    coords = unravel(diagnostics)[index].coords\n",
    "    values = unravel(projections)[index]\n",
    "    \n",
    "    fig, ax = pplt.subplots()\n",
    "    ax.pcolormesh(coords[0], coords[1], values.T)"
   ]
  },
  {
   "cell_type": "markdown",
   "id": "feded3ff-bf64-4dd0-aec0-8bfa50234f1f",
   "metadata": {},
   "source": [
    "## Model"
   ]
  },
  {
   "cell_type": "code",
   "execution_count": null,
   "id": "6e17440a-e578-43c8-8bbb-62697f920776",
   "metadata": {},
   "outputs": [],
   "source": [
    "sampler = \"mcmc\"\n",
    "nsamp = 1_000_000\n",
    "burnin = 500\n",
    "chains = 1000\n",
    "c = 2.4 / np.sqrt(ndim)\n",
    "\n",
    "if sampler == \"grid\":\n",
    "    samp_grid_res = 32\n",
    "    samp_noise = 0.5\n",
    "    samp_grid_shape = ndim * [samp_grid_res]\n",
    "    samp_grid_limits = limits\n",
    "\n",
    "    sampler = ment.samp.GridSampler(\n",
    "        grid_limits=samp_grid_limits,\n",
    "        grid_shape=samp_grid_shape,\n",
    "        noise=samp_noise,\n",
    "    )\n",
    "elif sampler == \"mcmc\":\n",
    "    proposal_cov = 0.1 * np.eye(ndim)\n",
    "    \n",
    "    start = np.random.multivariate_normal(np.zeros(ndim), 0.5 * np.eye(ndim), size=chains)\n",
    "\n",
    "    # start = ment.dist.get_dist(\"waterbag\", ndim=ndim).sample(chains)\n",
    "    \n",
    "    sampler = ment.samp.MetropolisHastingsSampler(\n",
    "        ndim=ndim,\n",
    "        chains=chains,\n",
    "        proposal_cov=proposal_cov,\n",
    "        start=start,\n",
    "        burnin=burnin,\n",
    "        shuffle=True,\n",
    "        verbose=True,\n",
    "    )\n",
    "else:\n",
    "    raise ValueError\n",
    "\n",
    "prior = ment.GaussianPrior(ndim=ndim, scale=1.0)\n",
    "\n",
    "model = ment.MENT(\n",
    "    ndim=ndim,\n",
    "    projections=projections,\n",
    "    transforms=transforms,\n",
    "    diagnostics=diagnostics,\n",
    "    prior=prior,\n",
    "    interpolation_kws=dict(method=\"linear\"),\n",
    "    sampler=sampler,\n",
    "    nsamp=nsamp,\n",
    "    mode=\"sample\",\n",
    "    verbose=True,\n",
    ")"
   ]
  },
  {
   "cell_type": "markdown",
   "id": "adb5bd95-d320-4dc0-bb13-a14673ced12e",
   "metadata": {},
   "source": [
    "## Training"
   ]
  },
  {
   "cell_type": "code",
   "execution_count": null,
   "id": "b8d18f58-701b-4b81-b6ff-901879c7c45a",
   "metadata": {},
   "outputs": [],
   "source": [
    "plot_nsamp = 1_000_000"
   ]
  },
  {
   "cell_type": "code",
   "execution_count": null,
   "id": "d8065c1e-bfe4-4645-b4d6-ba2a3c07a26e",
   "metadata": {},
   "outputs": [],
   "source": [
    "def plot_model(model):\n",
    "    figs = []\n",
    "\n",
    "    # Sample particles\n",
    "    X_pred = model.sample(plot_nsamp)\n",
    "\n",
    "    # Plot reconstructed vs. true distribution\n",
    "    grid = psv.CornerGrid(ndim, figwidth=(ndim * 1.25), diag_shrink=0.80)\n",
    "    grid.plot_points(\n",
    "        X_pred,\n",
    "        limits=limits,\n",
    "        bins=65,\n",
    "        mask=False,\n",
    "        cmap=\"viridis\",\n",
    "    )\n",
    "    figs.append(grid.fig)\n",
    "\n",
    "    # Simulate measurements\n",
    "    projections_true = model.projections\n",
    "    projections_pred = ment.sim.forward_with_diag_update(\n",
    "        X_pred, transforms, diagnostics, kde=False, blur=False\n",
    "    )\n",
    "    \n",
    "    projections_true = unravel(projections_true)\n",
    "    projections_pred = unravel(projections_pred)\n",
    "\n",
    "    # Plot simulated vs. measured projections.    \n",
    "    contour_levels = np.linspace(0.01, 1.0, 7)\n",
    "    contour_colors = [\"black\", \"red\"]\n",
    "    plot_kws = dict(\n",
    "        process_kws=dict(\n",
    "            blur=1.0, \n",
    "            norm=\"max\",\n",
    "        ),\n",
    "        kind=\"contour\",\n",
    "        levels=contour_levels,\n",
    "        lw=0.7,\n",
    "    )\n",
    "\n",
    "    ncols = min(nmeas, 7)\n",
    "    nrows = int(np.ceil(nmeas / ncols))\n",
    "    fig, axs = pplt.subplots(ncols=ncols, nrows=nrows, figwidth=(1.1 * ncols))\n",
    "    for values_true, values_pred, ax in zip(projections_true, projections_pred, axs):\n",
    "        psv.plot_image(values_true.T, ax=ax, colors=contour_colors[0], **plot_kws)\n",
    "        psv.plot_image(values_pred.T, ax=ax, colors=contour_colors[1], **plot_kws)    \n",
    "    figs.append(fig)\n",
    "\n",
    "    return figs"
   ]
  },
  {
   "cell_type": "code",
   "execution_count": null,
   "id": "f547dfe5-a3ec-463c-a872-5f8d8bd8a2e6",
   "metadata": {},
   "outputs": [],
   "source": [
    "trainer = ment.train.Trainer(\n",
    "    model,\n",
    "    plot_func=plot_model,\n",
    "    eval_func=None,\n",
    "    notebook=True,\n",
    ")\n",
    "trainer.train(\n",
    "    epochs=3, \n",
    "    learning_rate=0.80, \n",
    "    thresh=1.00e-03,\n",
    ")"
   ]
  },
  {
   "cell_type": "markdown",
   "id": "4ce64c20-0556-4843-a0d5-1022a2595268",
   "metadata": {},
   "source": [
    "## Final check"
   ]
  },
  {
   "cell_type": "code",
   "execution_count": null,
   "id": "4eca8dc7-cc83-4772-8fac-12aafde24d97",
   "metadata": {},
   "outputs": [],
   "source": [
    "X = model.sample(100_000)"
   ]
  },
  {
   "cell_type": "code",
   "execution_count": null,
   "id": "2d3336cc-3543-428f-b7c0-b9571373bf9e",
   "metadata": {},
   "outputs": [],
   "source": []
  }
 ],
 "metadata": {
  "kernelspec": {
   "display_name": "ment",
   "language": "python",
   "name": "ment"
  },
  "language_info": {
   "codemirror_mode": {
    "name": "ipython",
    "version": 3
   },
   "file_extension": ".py",
   "mimetype": "text/x-python",
   "name": "python",
   "nbconvert_exporter": "python",
   "pygments_lexer": "ipython3",
   "version": "3.11.9"
  }
 },
 "nbformat": 4,
 "nbformat_minor": 5
}
