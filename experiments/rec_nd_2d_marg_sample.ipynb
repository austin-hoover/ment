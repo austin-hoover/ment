{
 "cells": [
  {
   "cell_type": "markdown",
   "id": "c2ac3b4e-3775-47e7-b334-46e8b1e13077",
   "metadata": {},
   "source": [
    "# N:2 MENT — sample-based solver"
   ]
  },
  {
   "cell_type": "code",
   "execution_count": null,
   "id": "553be401-ef87-43c2-81ae-82a085fd7fbe",
   "metadata": {},
   "outputs": [],
   "source": [
    "import os\n",
    "import sys\n",
    "import time\n",
    "\n",
    "import matplotlib.pyplot as plt\n",
    "import ment\n",
    "import numpy as np\n",
    "import proplot as pplt\n",
    "import psdist as ps\n",
    "import psdist.plot as psv\n",
    "from tqdm.notebook import tqdm\n",
    "from tqdm.notebook import trange"
   ]
  },
  {
   "cell_type": "code",
   "execution_count": null,
   "id": "5d223313-d7d0-41ec-b323-bf36b3619f03",
   "metadata": {},
   "outputs": [],
   "source": [
    "pplt.rc[\"cmap.discrete\"] = False\n",
    "pplt.rc[\"cmap.sequential\"] = \"viridis\"\n",
    "pplt.rc[\"figure.facecolor\"] = \"white\"\n",
    "pplt.rc[\"grid\"] = False"
   ]
  },
  {
   "cell_type": "markdown",
   "id": "2b06b0ea-9a6c-4f57-b05a-f0e5b1d0cbbc",
   "metadata": {},
   "source": [
    "Settings:"
   ]
  },
  {
   "cell_type": "code",
   "execution_count": null,
   "id": "802e2ae5-fc61-4ca0-a132-635bb7a5dc5f",
   "metadata": {},
   "outputs": [],
   "source": [
    "dist_name = \"gaussian_mixture\"\n",
    "ndim = 6\n",
    "xmax = 3.5\n",
    "seed = 12345\n",
    "rng = np.random.default_rng(seed)"
   ]
  },
  {
   "cell_type": "markdown",
   "id": "98da359a-b574-4d32-ac37-070006133006",
   "metadata": {},
   "source": [
    "Define the source distribution."
   ]
  },
  {
   "cell_type": "code",
   "execution_count": null,
   "id": "4676ab41-fca5-441e-bd1d-8ccab2f1299f",
   "metadata": {},
   "outputs": [],
   "source": [
    "dist = ment.dist.get_dist(dist_name, ndim=ndim, seed=seed, noise=0.5)\n",
    "x_true = dist.sample(1_000_000)\n",
    "x_true[:, (0, 1)] = ment.dist.get_dist(\"galaxy\").sample(x_true.shape[0])\n",
    "x_true[:, (2, 3)] = ment.dist.get_dist(\"galaxy\").sample(x_true.shape[0])\n",
    "x_true[:, (2, 3)] = np.flip(x_true[:, (2, 3)], axis=1)"
   ]
  },
  {
   "cell_type": "code",
   "execution_count": null,
   "id": "35ce0a95-a5ce-407c-87b6-c6e688b78a32",
   "metadata": {},
   "outputs": [],
   "source": [
    "limits = ndim * [(-xmax, xmax)]\n",
    "\n",
    "grid = psv.CornerGrid(ndim, figwidth=(ndim * 1.5))\n",
    "grid.plot_points(x_true, limits=limits, bins=64, mask=False)\n",
    "plt.show()"
   ]
  },
  {
   "cell_type": "markdown",
   "id": "a3730928-01e3-4592-856f-eff841c4bc7b",
   "metadata": {},
   "source": [
    "Generate data."
   ]
  },
  {
   "cell_type": "code",
   "execution_count": null,
   "id": "ada46396-03f8-4bd9-9348-d2e85f94794b",
   "metadata": {},
   "outputs": [],
   "source": [
    "n_bins = 64\n",
    "kde = False\n",
    "kde_bandwidth = 1.0\n",
    "\n",
    "## Measure 2D marginals\n",
    "rng = np.random.default_rng(seed)\n",
    "axis_meas = (0, 2)\n",
    "n_meas = ndim * (ndim - 1) // 2\n",
    "\n",
    "transfer_matrices = []\n",
    "for i in range(ndim):\n",
    "    for j in range(i):\n",
    "        matrices = []\n",
    "        for k, l in zip(axis_meas, (j, i)):\n",
    "            matrix = np.identity(ndim)\n",
    "            matrix[k, k] = matrix[l, l] = 0.0\n",
    "            matrix[k, l] = matrix[l, k] = 1.0\n",
    "            matrices.append(matrix)\n",
    "        transfer_matrices.append(np.linalg.multi_dot(matrices[::-1]))\n",
    "\n",
    "transforms = []\n",
    "for matrix in transfer_matrices:\n",
    "    transform = ment.sim.LinearTransform(matrix)\n",
    "    transforms.append(transform)\n",
    "\n",
    "## Create diagnostics (x-y histogram).\n",
    "axis_proj = axis_meas\n",
    "bin_edges = len(axis_proj) * [np.linspace(-xmax, xmax, n_bins + 1)]\n",
    "\n",
    "diagnostics = []\n",
    "for transform in transforms:\n",
    "    diagnostic = ment.diag.Histogram2D(\n",
    "        axis=(0, 2), edges=bin_edges, kde=kde, kde_bandwidth=kde_bandwidth\n",
    "    )\n",
    "    diagnostics.append([diagnostic])\n",
    "\n",
    "## Generate data.\n",
    "projections = []\n",
    "for index, transform in enumerate(transforms):\n",
    "    u = transform(x_true)\n",
    "    projections.append([])\n",
    "    for diagnostic in diagnostics[index]:\n",
    "        diagnostic.kde = False\n",
    "        projections[-1].append(diagnostic(u))\n",
    "        diagnostic.kde = kde"
   ]
  },
  {
   "cell_type": "markdown",
   "id": "feded3ff-bf64-4dd0-aec0-8bfa50234f1f",
   "metadata": {},
   "source": [
    "## Model"
   ]
  },
  {
   "cell_type": "code",
   "execution_count": null,
   "id": "6e17440a-e578-43c8-8bbb-62697f920776",
   "metadata": {},
   "outputs": [],
   "source": [
    "sampler = \"mcmc\"\n",
    "nsamp = 1_000_000\n",
    "burnin = 1000\n",
    "chains = 1000\n",
    "c = 2.4 / np.sqrt(ndim)\n",
    "\n",
    "if sampler == \"grid\":\n",
    "    samp_grid_res = 32\n",
    "    samp_noise = 0.5\n",
    "    samp_grid_shape = ndim * [samp_grid_res]\n",
    "    samp_grid_limits = limits\n",
    "\n",
    "    sampler = ment.samp.GridSampler(\n",
    "        grid_limits=samp_grid_limits,\n",
    "        grid_shape=samp_grid_shape,\n",
    "        noise=samp_noise,\n",
    "    )\n",
    "elif sampler == \"mcmc\":\n",
    "    sampler = ment.samp.MetropolisHastingsSampler(\n",
    "        ndim=ndim,\n",
    "        chains=chains,\n",
    "        proposal_cov=(np.eye(ndim)),\n",
    "        start=np.random.multivariate_normal(np.zeros(ndim), 0.1 * np.eye(ndim), size=chains),\n",
    "        burnin=burnin,\n",
    "        shuffle=True,\n",
    "        verbose=True,\n",
    "    )\n",
    "else:\n",
    "    raise ValueError\n",
    "\n",
    "prior = ment.GaussianPrior(ndim=ndim, scale=1.0)\n",
    "\n",
    "model = ment.MENT(\n",
    "    ndim=ndim,\n",
    "    projections=projections,\n",
    "    transforms=transforms,\n",
    "    diagnostics=diagnostics,\n",
    "    prior=prior,\n",
    "    interpolation_kws=dict(method=\"linear\"),\n",
    "    sampler=sampler,\n",
    "    nsamp=nsamp,\n",
    "    mode=\"sample\",\n",
    "    verbose=True,\n",
    ")"
   ]
  },
  {
   "cell_type": "code",
   "execution_count": null,
   "id": "ad969993-3e50-482c-9898-4223d6c734d5",
   "metadata": {},
   "outputs": [],
   "source": [
    "# from ipywidgets import interact\n",
    "\n",
    "\n",
    "# x = model.sample(100_000)\n",
    "# x_chains = np.split(x, chains)\n",
    "\n",
    "\n",
    "# @interact(axis=(0, ndim - 1), chain=(0, chains - 1), istop=(2, x_chains[0].shape[0]))\n",
    "# def update(axis, chain: int, istop=1000):\n",
    "#     fig, ax = pplt.subplots(figsize=(6, 2))\n",
    "#     ax.format(ylim=(-4.0, 4.0))\n",
    "\n",
    "#     pax = ax.panel_axes(\"right\")\n",
    "#     pax.format(xticks=[])\n",
    "\n",
    "#     x_chain = x_chains[chain]\n",
    "#     ax.plot(x_chain[:istop, axis], color=\"black\")\n",
    "#     pax.histh(x_chain[:istop, axis], bins=32, range=(-4.0, 4.0), lw=1.25, density=True, color=\"black\", alpha=0.25)\n",
    "\n",
    "#     xvals = np.linspace(-4.0, 4.0, 100)\n",
    "#     pax.plotx(xvals, np.exp(-0.5 * xvals**2) / np.sqrt(2.0 * np.pi), color=\"black\")\n",
    "#     plt.show()\n",
    "\n",
    "\n",
    "#     fig, ax = pplt.subplots()\n",
    "#     ax.hist2d(x_chain[:istop, 0], x_chain[:istop, 1], bins=50, range=((-4.0, 4.0), (-4.0, 4.0)), cmap=\"mono\")\n",
    "#     plt.show()\n",
    "\n",
    "#     def autocorr(x):\n",
    "#         result = np.correlate(x, x, mode='full')\n",
    "#         return result[result.size//2:]"
   ]
  },
  {
   "cell_type": "markdown",
   "id": "adb5bd95-d320-4dc0-bb13-a14673ced12e",
   "metadata": {},
   "source": [
    "## Training"
   ]
  },
  {
   "cell_type": "code",
   "execution_count": null,
   "id": "f547dfe5-a3ec-463c-a872-5f8d8bd8a2e6",
   "metadata": {},
   "outputs": [],
   "source": [
    "learning_rate = 1.0\n",
    "n_epochs = 2\n",
    "plot_n_samples = nsamp\n",
    "plot_n_bins = n_bins\n",
    "\n",
    "\n",
    "start_time = time.time()\n",
    "for epoch in range(n_epochs + 1):\n",
    "    print(f\"epoch = {epoch}\")\n",
    "\n",
    "    ## Update model\n",
    "    if epoch > 0:\n",
    "        model.gauss_seidel_step(learning_rate=learning_rate)\n",
    "        print(\"time = {:0.3f}\".format(time.time() - start_time))\n",
    "\n",
    "    ## Sample particles from posterior\n",
    "    x_pred = model.sample(plot_n_samples)\n",
    "    # x_pred += np.random.uniform(-0.05, 0.05, size=x_pred.shape)\n",
    "\n",
    "    # Plot corner\n",
    "    axs = plot_corner_upper_lower(x_pred, x_true, n_bins=plot_n_bins, limits=limits)\n",
    "    plt.show()\n",
    "\n",
    "    ## Plot measured vs. simulated projections side-by-side.\n",
    "    for index in range(n_meas):\n",
    "        u_pred = transforms[index](x_pred)\n",
    "        u_true = transforms[index](x_true)\n",
    "        u_true = u_true[: u_pred.shape[0]]\n",
    "\n",
    "        values_pred, edges = np.histogramdd(u_pred[:, axis_meas], bin_edges, density=True)\n",
    "        values_true, edges = np.histogramdd(u_true[:, axis_meas], bin_edges, density=True)\n",
    "\n",
    "        fig, axs = pplt.subplots(\n",
    "            ncols=2, figwidth=3.0, xspineloc=\"neither\", yspineloc=\"neither\", space=0.0\n",
    "        )\n",
    "        axs[0].pcolormesh(edges[0], edges[1], values_pred.T, cmap=\"mono\")\n",
    "        axs[1].pcolormesh(edges[0], edges[1], values_true.T, cmap=\"mono\")\n",
    "        axs.format(suptitle=f\"index={index}\", toplabels=[\"PRED\", \"MEAS\"])\n",
    "        plt.show()"
   ]
  },
  {
   "cell_type": "markdown",
   "id": "452bf864-6455-4f15-b7a3-23f6939802bb",
   "metadata": {},
   "source": [
    "## Final check"
   ]
  },
  {
   "cell_type": "code",
   "execution_count": null,
   "id": "593da287-d8a7-40f2-a3f2-cf36a31da904",
   "metadata": {},
   "outputs": [],
   "source": [
    "x_pred = model.sample(1_000_000)"
   ]
  },
  {
   "cell_type": "code",
   "execution_count": null,
   "id": "a183c0b9-b9c6-43a9-a2a2-4091b3a17d4c",
   "metadata": {},
   "outputs": [],
   "source": [
    "color = \"pink\"\n",
    "bins = 32\n",
    "\n",
    "grid = psv.CornerGrid(ndim, figwidth=(ndim * 1.5))\n",
    "grid.plot_points(\n",
    "    x_true,\n",
    "    limits=(ndim * [(-xmax, xmax)]),\n",
    "    bins=bins,\n",
    "    mask=False,\n",
    "    cmap=\"mono\",\n",
    "    diag_kws=dict(lw=1.25, color=\"black\"),\n",
    ")\n",
    "grid.plot_points(\n",
    "    x_pred[:1_000],\n",
    "    diag=False,\n",
    "    kind=\"scatter\",\n",
    "    c=color,\n",
    "    s=0.5,\n",
    ")\n",
    "grid.plot_points(\n",
    "    x_pred[:],\n",
    "    diag_kws=dict(lw=1.25, color=\"pink5\"),\n",
    "    bins=bins,\n",
    "    alpha=0.0,\n",
    ")\n",
    "grid.set_labels([r\"$x$\", r\"$p_x$\", r\"$y$\", r\"$p_y$\", r\"$z$\", r\"$p_z$\"])\n",
    "plt.show()"
   ]
  },
  {
   "cell_type": "code",
   "execution_count": null,
   "id": "c6673431-abcd-442c-9828-83a0409b8ce8",
   "metadata": {},
   "outputs": [],
   "source": []
  }
 ],
 "metadata": {
  "kernelspec": {
   "display_name": "ment",
   "language": "python",
   "name": "ment"
  },
  "language_info": {
   "codemirror_mode": {
    "name": "ipython",
    "version": 3
   },
   "file_extension": ".py",
   "mimetype": "text/x-python",
   "name": "python",
   "nbconvert_exporter": "python",
   "pygments_lexer": "ipython3",
   "version": "3.11.9"
  }
 },
 "nbformat": 4,
 "nbformat_minor": 5
}
