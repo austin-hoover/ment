{
 "cells": [
  {
   "cell_type": "markdown",
   "id": "113967a9-fa09-480e-a47d-55369a82398f",
   "metadata": {},
   "source": [
    "# Zeus multiprocessing"
   ]
  },
  {
   "cell_type": "code",
   "execution_count": null,
   "id": "9725adb1-8cdd-4e78-886b-50978c8d2eb8",
   "metadata": {},
   "outputs": [],
   "source": [
    "import zeus\n",
    "import numpy as np\n",
    "import time\n",
    "from multiprocessing import Pool"
   ]
  },
  {
   "cell_type": "code",
   "execution_count": null,
   "id": "2b6d2cb9-00f1-4517-8328-df2cbb61e4ea",
   "metadata": {},
   "outputs": [],
   "source": [
    "ndim = 5\n",
    "nwalkers = 2 * ndim\n",
    "nsteps = 100\n",
    "\n",
    "def log_prob(x):\n",
    "    time.sleep(0.003)\n",
    "    return -0.5 * np.sum(x**2.0)\n",
    "\n",
    "start = np.random.randn(nwalkers, ndim)"
   ]
  },
  {
   "cell_type": "code",
   "execution_count": null,
   "id": "8e9e67d4-5114-4688-9a98-22fff61bd372",
   "metadata": {},
   "outputs": [],
   "source": [
    "t0 = time.time()\n",
    "\n",
    "sampler = zeus.EnsembleSampler(nwalkers, ndim, log_prob)\n",
    "sampler.run_mcmc(start, nsteps)\n",
    "\n",
    "print(\"Serial took {0:.1f} seconds\".format(time.time()-t0))"
   ]
  },
  {
   "cell_type": "code",
   "execution_count": null,
   "id": "fa60af31-1877-4ca1-bcb3-38b6848c2315",
   "metadata": {},
   "outputs": [],
   "source": [
    "t0 = time.time()\n",
    "\n",
    "with Pool() as pool:\n",
    "    sampler = zeus.EnsembleSampler(nwalkers, ndim, log_prob, pool=pool)\n",
    "    sampler.run_mcmc(start, nsteps)\n",
    "\n",
    "print(\"Multiprocessing took {0:.1f} seconds\".format(time.time()-t0))"
   ]
  },
  {
   "cell_type": "code",
   "execution_count": null,
   "id": "58b19d32-f88d-48a0-b1bd-6522367e8409",
   "metadata": {},
   "outputs": [],
   "source": []
  }
 ],
 "metadata": {
  "kernelspec": {
   "display_name": "ment",
   "language": "python",
   "name": "ment"
  },
  "language_info": {
   "codemirror_mode": {
    "name": "ipython",
    "version": 3
   },
   "file_extension": ".py",
   "mimetype": "text/x-python",
   "name": "python",
   "nbconvert_exporter": "python",
   "pygments_lexer": "ipython3",
   "version": "3.11.9"
  }
 },
 "nbformat": 4,
 "nbformat_minor": 5
}
