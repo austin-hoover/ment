{
 "cells": [
  {
   "cell_type": "markdown",
   "id": "c2ac3b4e-3775-47e7-b334-46e8b1e13077",
   "metadata": {},
   "source": [
    "# 2:1 MENT — toy problem"
   ]
  },
  {
   "cell_type": "code",
   "execution_count": null,
   "id": "553be401-ef87-43c2-81ae-82a085fd7fbe",
   "metadata": {},
   "outputs": [],
   "source": [
    "import os\n",
    "import time\n",
    "\n",
    "import matplotlib.pyplot as plt\n",
    "import matplotlib.colors\n",
    "import numpy as np\n",
    "import proplot as pplt\n",
    "import psdist as ps\n",
    "import psdist.plot as psv\n",
    "\n",
    "import ment"
   ]
  },
  {
   "cell_type": "code",
   "execution_count": null,
   "id": "5d223313-d7d0-41ec-b323-bf36b3619f03",
   "metadata": {},
   "outputs": [],
   "source": [
    "pplt.rc[\"cmap.discrete\"] = False\n",
    "pplt.rc[\"cmap.sequential\"] = \"viridis\"\n",
    "pplt.rc[\"figure.facecolor\"] = \"white\"\n",
    "pplt.rc[\"grid\"] = False"
   ]
  },
  {
   "cell_type": "markdown",
   "id": "2b06b0ea-9a6c-4f57-b05a-f0e5b1d0cbbc",
   "metadata": {},
   "source": [
    "Settings:"
   ]
  },
  {
   "cell_type": "code",
   "execution_count": null,
   "id": "802e2ae5-fc61-4ca0-a132-635bb7a5dc5f",
   "metadata": {},
   "outputs": [],
   "source": [
    "dist_name = \"galaxy\"\n",
    "ndim = 2\n",
    "n_meas = 6\n",
    "n_bins = 80\n",
    "xmax = 6.0\n",
    "seed = 0"
   ]
  },
  {
   "cell_type": "markdown",
   "id": "98da359a-b574-4d32-ac37-070006133006",
   "metadata": {},
   "source": [
    "Define the source distribution."
   ]
  },
  {
   "cell_type": "code",
   "execution_count": null,
   "id": "35ce0a95-a5ce-407c-87b6-c6e688b78a32",
   "metadata": {},
   "outputs": [],
   "source": [
    "dist = ment.dist.get_dist(dist_name, ndim=ndim, seed=seed, normalize=True)\n",
    "x_true = dist.sample(1_000_000)"
   ]
  },
  {
   "cell_type": "code",
   "execution_count": null,
   "id": "eb737a85-3622-4ea3-9af0-9c7dd2e6517b",
   "metadata": {},
   "outputs": [],
   "source": [
    "limits = 2 * [(-xmax, xmax)]\n",
    "\n",
    "fig, axs = pplt.subplots(ncols=2)\n",
    "for i, ax in enumerate(axs):\n",
    "    hist, edges = np.histogramdd(x_true, bins=75, range=limits)\n",
    "    psv.plot_points(x_true, limits=limits, bins=75, offset=1.0, norm=(\"log\" if i else None), colorbar=True, ax=ax)\n",
    "plt.show()"
   ]
  },
  {
   "cell_type": "markdown",
   "id": "a3730928-01e3-4592-856f-eff841c4bc7b",
   "metadata": {},
   "source": [
    "Create the measurement data."
   ]
  },
  {
   "cell_type": "code",
   "execution_count": null,
   "id": "ada46396-03f8-4bd9-9348-d2e85f94794b",
   "metadata": {},
   "outputs": [],
   "source": [
    "phase_advances = np.linspace(0.0, np.pi, n_meas, endpoint=False)\n",
    "\n",
    "transfer_matrices = []\n",
    "for phase_advance in phase_advances:\n",
    "    matrix = ment.sim.rotation_matrix(phase_advance)\n",
    "    transfer_matrices.append(matrix)\n",
    "\n",
    "transforms = []\n",
    "for matrix in transfer_matrices:\n",
    "    transform = ment.sim.LinearTransform(matrix)\n",
    "    transforms.append(transform)\n",
    "\n",
    "edges = np.linspace(-xmax, xmax, n_bins + 1)\n",
    "\n",
    "diagnostics = []\n",
    "for transform in transforms:\n",
    "    diagnostic = ment.diag.Histogram1D(axis=0, edges=edges)\n",
    "    diagnostics.append([diagnostic])\n",
    "\n",
    "measurements = []\n",
    "for index, transform in enumerate(transforms):\n",
    "    u = transform(x_true)\n",
    "    measurements.append([diagnostic(u) for diagnostic in diagnostics[index]])"
   ]
  },
  {
   "cell_type": "markdown",
   "id": "e03c8f77-ca48-45b6-857d-6ac5c03b790c",
   "metadata": {},
   "source": [
    "Set up MENT reconstruction model."
   ]
  },
  {
   "cell_type": "code",
   "execution_count": null,
   "id": "6e17440a-e578-43c8-8bbb-62697f920776",
   "metadata": {},
   "outputs": [],
   "source": [
    "prior = ment.GaussianPrior(ndim=2, scale=1.0)\n",
    "\n",
    "samp_grid_limits = limits\n",
    "samp_grid_shape = ndim * [200]\n",
    "sampler = ment.samp.GridSampler(grid_limits=samp_grid_limits, grid_shape=samp_grid_shape)\n",
    "\n",
    "integration_limits = [(-xmax, xmax)]\n",
    "integration_limits = [integration_limits for transform in transforms]\n",
    "integration_size = 200\n",
    "integration_batches = 10\n",
    "\n",
    "model = ment.MENT(\n",
    "    ndim=ndim,\n",
    "    measurements=measurements,\n",
    "    transforms=transforms,\n",
    "    diagnostics=diagnostics,\n",
    "    prior=prior,\n",
    "    interpolation_kws=dict(method=\"linear\"),\n",
    "    sampler=sampler,\n",
    "    n_samples=1_000_000,\n",
    "    integration_limits=integration_limits,\n",
    "    integration_size=integration_size,\n",
    "    integration_batches=integration_batches,\n",
    "    verbose=True,\n",
    "    mode=\"integrate\",  # {\"integrate\", \"sample\"}\n",
    ")"
   ]
  },
  {
   "cell_type": "markdown",
   "id": "106bbf19-fa50-46a1-9478-104e028b9002",
   "metadata": {},
   "source": [
    "Train the model via Gauss-Seidel iterations."
   ]
  },
  {
   "cell_type": "code",
   "execution_count": null,
   "id": "f547dfe5-a3ec-463c-a872-5f8d8bd8a2e6",
   "metadata": {},
   "outputs": [],
   "source": [
    "# Settings\n",
    "learning_rate = 0.90\n",
    "n_epochs = 6\n",
    "\n",
    "\n",
    "for epoch in range(-1, n_epochs):\n",
    "    print(\"epoch =\", epoch)\n",
    "    \n",
    "    if epoch >= 0:\n",
    "        model.gauss_seidel_step(learning_rate)\n",
    "\n",
    "    # Sample particles\n",
    "    x_pred = model.sample(1_000_000)\n",
    "\n",
    "    # Plot 2D density\n",
    "    fig, axs = pplt.subplots(ncols=2)\n",
    "    for i, ax in enumerate(axs):\n",
    "        hist, edges = np.histogramdd(x_true, bins=75, range=limits)\n",
    "        psv.plot_points(x_pred, limits=limits, bins=75, offset=1.0, norm=(\"log\" if i else None), colorbar=True, ax=ax)\n",
    "    plt.show()\n",
    "\n",
    "    # Plot measured vs. simulated projections    \n",
    "    ncols = min(n_meas, 7)\n",
    "    nrows = int(np.ceil(n_meas / ncols))\n",
    "    figwidth = 1.5 * ncols\n",
    "    figheight = 1.25 * nrows\n",
    "\n",
    "    for log in [False, True]:\n",
    "        fig, axs = pplt.subplots(ncols=ncols, nrows=nrows, figwidth=figwidth, figheight=figheight, sharex=True, sharey=True)\n",
    "        \n",
    "        for index, transform in enumerate(transforms):\n",
    "            values_pred = diagnostic(transform(x_pred))\n",
    "            values_meas = np.copy(measurements[index][0])\n",
    "            ax = axs[index]\n",
    "\n",
    "            diagnostic = diagnostics[index][0]\n",
    "    \n",
    "            values_pred /= np.max(values_meas)\n",
    "            values_meas /= np.max(values_meas)\n",
    "            ax.plot(diagnostic.coords, values_meas, color=\"red3\")\n",
    "            ax.plot(diagnostic.coords, values_pred, color=\"black\")\n",
    "            ax.format(ymax=1.25, xlim=(-xmax, xmax))\n",
    "            if log:\n",
    "                ax.format(yscale=\"log\", ymax=5.0, ymin=1.00e-05, yformatter=\"log\")\n",
    "        plt.show()"
   ]
  },
  {
   "cell_type": "code",
   "execution_count": null,
   "id": "617c57f6-ea4e-4bd0-b221-e821e752b613",
   "metadata": {},
   "outputs": [],
   "source": []
  }
 ],
 "metadata": {
  "kernelspec": {
   "display_name": "ment",
   "language": "python",
   "name": "ment"
  },
  "language_info": {
   "codemirror_mode": {
    "name": "ipython",
    "version": 3
   },
   "file_extension": ".py",
   "mimetype": "text/x-python",
   "name": "python",
   "nbconvert_exporter": "python",
   "pygments_lexer": "ipython3",
   "version": "3.11.9"
  }
 },
 "nbformat": 4,
 "nbformat_minor": 5
}
