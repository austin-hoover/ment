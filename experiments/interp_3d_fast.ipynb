{
 "cells": [
  {
   "cell_type": "code",
   "execution_count": 1,
   "id": "e4430c48-7d98-4160-b5c1-8b872e3b9cc6",
   "metadata": {},
   "outputs": [
    {
     "name": "stdout",
     "output_type": "stream",
     "text": [
      "Interp3D: -20.900 (t = 6.70e-05)\n",
      "RegularGridInterpolator: -20.900 (t = 2.39e-04)\n",
      "Exact: -20.9\n"
     ]
    }
   ],
   "source": [
    "import time\n",
    "import numpy as np\n",
    "import scipy.interpolate\n",
    "from interp3d import interp_3d\n",
    "\n",
    "\n",
    "resolution = 500\n",
    "x = np.linspace(+0.0, 2.5, resolution)\n",
    "y = np.linspace(-1.0, 0.5, resolution)\n",
    "z = np.linspace(+5.0, 25.0, resolution)\n",
    "\n",
    "X, Y, Z = np.meshgrid(x, y, z, indexing=\"ij\")\n",
    "values = X + 2.0 * Y - 3.0 * Z\n",
    "\n",
    "interp = interp_3d.Interp3D(values, x, y, z)\n",
    "interp_scipy = scipy.interpolate.RegularGridInterpolator((x, y, z), values)\n",
    "\n",
    "x0, y0, z0 = (1.1, 0.25, 7.5)\n",
    "points = np.tile([x0, y0, z0], (100, 1))\n",
    "\n",
    "start_time = time.time()\n",
    "result = interp(points[0])\n",
    "print(\"Interp3D: {:0.3f} (t = {:0.2e})\".format(result, time.time() - start_time))\n",
    "\n",
    "start_time = time.time()\n",
    "result = interp_scipy(points[0])\n",
    "print(\"RegularGridInterpolator: {:0.3f} (t = {:0.2e})\".format(result[0], time.time() - start_time))\n",
    "\n",
    "print(f\"Exact: {x0 + 2.0 * y0 - 3.0 * z0}\")"
   ]
  },
  {
   "cell_type": "code",
   "execution_count": null,
   "id": "98ca7600-e347-45b2-b103-234f982531d6",
   "metadata": {},
   "outputs": [],
   "source": []
  }
 ],
 "metadata": {
  "kernelspec": {
   "display_name": "Python (ment)",
   "language": "python",
   "name": "ment"
  },
  "language_info": {
   "codemirror_mode": {
    "name": "ipython",
    "version": 3
   },
   "file_extension": ".py",
   "mimetype": "text/x-python",
   "name": "python",
   "nbconvert_exporter": "python",
   "pygments_lexer": "ipython3",
   "version": "3.10.14"
  }
 },
 "nbformat": 4,
 "nbformat_minor": 5
}
