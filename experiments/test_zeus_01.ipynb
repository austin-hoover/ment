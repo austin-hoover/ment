{
 "cells": [
  {
   "cell_type": "markdown",
   "id": "113967a9-fa09-480e-a47d-55369a82398f",
   "metadata": {},
   "source": [
    "# Zeus test"
   ]
  },
  {
   "cell_type": "code",
   "execution_count": null,
   "id": "12710a1f-e973-430f-83e0-2554aa72c55f",
   "metadata": {},
   "outputs": [],
   "source": [
    "import zeus\n",
    "\n",
    "import numpy as np\n",
    "import matplotlib.pyplot as plt\n",
    "import seaborn as sns\n",
    "\n",
    "# Number of dimensions\n",
    "ndim = 50\n",
    "\n",
    "# Means\n",
    "mu1 = np.ones(ndim) * (1.0 / 2)\n",
    "mu2 = -mu1\n",
    "\n",
    "# Standard Deviations\n",
    "stdev = 0.1\n",
    "sigma = np.power(stdev, 2) * np.eye(ndim)\n",
    "isigma = np.linalg.inv(sigma)\n",
    "dsigma = np.linalg.det(sigma)\n",
    "\n",
    "w1 = 0.33  # one mode with 0.1 of the mass\n",
    "w2 = 1 - w1 # the other mode with 0.9 of the mass\n",
    "\n",
    "# Uniform prior limits\n",
    "low = -2.0\n",
    "high = 2.0\n",
    "\n",
    "# The log-likelihood function of the Gaussian Mixture\n",
    "def two_gaussians(x):\n",
    "    log_like1 = (\n",
    "        -0.5 * ndim * np.log(2 * np.pi)\n",
    "        - 0.5 * np.log(dsigma)\n",
    "        - 0.5 * (x - mu1).T.dot(isigma).dot(x - mu1)\n",
    "    )\n",
    "    log_like2 = (\n",
    "        -0.5 * ndim * np.log(2 * np.pi)\n",
    "        - 0.5 * np.log(dsigma)\n",
    "        - 0.5 * (x - mu2).T.dot(isigma).dot(x - mu2)\n",
    "    )\n",
    "    return np.logaddexp.reduce([np.log(w1) + log_like1, np.log(w2) + log_like2])\n",
    "\n",
    "# A simple uniform log-prior\n",
    "def log_prior(x):\n",
    "    if np.all(x>low) and np.all(x<high):\n",
    "        return 0.0\n",
    "    else:\n",
    "        return -np.inf\n",
    "\n",
    "# The Log-Posterior\n",
    "def log_post(x):\n",
    "    lp = log_prior(x)\n",
    "    if not np.isfinite(lp):\n",
    "        return -np.inf\n",
    "    return lp + two_gaussians(x)"
   ]
  },
  {
   "cell_type": "markdown",
   "id": "f07862f4-9b34-4e33-b3a9-998e2972750f",
   "metadata": {},
   "source": [
    "## Failed attempt"
   ]
  },
  {
   "cell_type": "code",
   "execution_count": null,
   "id": "19bdfdbd-0bf0-4af6-ae85-497c6d477acb",
   "metadata": {},
   "outputs": [],
   "source": [
    "nwalkers = 400\n",
    "nsteps= 2000\n",
    "\n",
    "# The starting positions of the walkers\n",
    "start = low + np.random.rand(nwalkers,ndim) * (high - low)\n",
    "\n",
    "# Initialise the Ensemble Sampler\n",
    "sampler = zeus.EnsembleSampler(nwalkers, ndim, log_post)\n",
    "# Run MCMC\n",
    "sampler.run_mcmc(start, nsteps)\n",
    "\n",
    "# Get the samples\n",
    "samples = sampler.get_chain()\n",
    "\n",
    "# Plot the walker trajectories for the first parameter of the 10\n",
    "plt.figure(figsize=(16,4))\n",
    "plt.plot(samples[:, :, 0], alpha=0.5)\n",
    "plt.show()"
   ]
  },
  {
   "cell_type": "code",
   "execution_count": null,
   "id": "8a1117ad-f494-4a4b-bb38-6a4feff9fbd0",
   "metadata": {},
   "outputs": [],
   "source": [
    "# Compute true samples from the gaussian mixture directly\n",
    "s1 = np.random.multivariate_normal(mu1, sigma,size=int(w1*200000))\n",
    "s2 = np.random.multivariate_normal(mu2, sigma,size=int(w2*200000))\n",
    "samples_true = np.vstack((s1,s2))\n",
    "\n",
    "# Get the chain from zeus\n",
    "chain = sampler.get_chain(flat=True, discard=0.5)\n",
    "\n",
    "# Plot Comparison\n",
    "plt.figure(figsize=(8,6))\n",
    "sns.kdeplot(chain[:,0])\n",
    "sns.kdeplot(samples_true[:,0], ls='--')\n",
    "plt.legend(['zeus - Global Move', 'Truth']);"
   ]
  },
  {
   "cell_type": "markdown",
   "id": "11e8ad59-17d1-4b6d-8090-90d859d5c862",
   "metadata": {},
   "source": [
    "## With movers"
   ]
  },
  {
   "cell_type": "code",
   "execution_count": null,
   "id": "f1358db5-5d43-4ace-9fe1-42a511a9957a",
   "metadata": {},
   "outputs": [],
   "source": [
    "# Initialise the Ensemble Sampler using the default ``DifferentialMove``\n",
    "sampler = zeus.EnsembleSampler(nwalkers, ndim, log_post)\n",
    "# Run MCMC\n",
    "sampler.run_mcmc(start, nsteps)\n",
    "\n",
    "# Get the burnin samples\n",
    "burnin = sampler.get_chain()\n",
    "\n",
    "# Set the new starting positions of walkers based on their last positions\n",
    "start = burnin[-1]\n",
    "\n",
    "# Initialise the Ensemble Sampler using the advanced ``GlobalMove``.\n",
    "sampler = zeus.EnsembleSampler(nwalkers, ndim, log_post, moves=zeus.moves.GlobalMove())\n",
    "# Run MCMC\n",
    "sampler.run_mcmc(start, nsteps)\n",
    "\n",
    "# Get the samples and combine them with the burnin phase for plotting purposes\n",
    "samples = sampler.get_chain()\n",
    "total_samples = np.concatenate((burnin, samples))\n",
    "\n",
    "# Plot the walker trajectories for the first parameter of the 10\n",
    "plt.figure(figsize=(16,4))\n",
    "plt.plot(total_samples[:,:,0],alpha=0.5)\n",
    "plt.show()"
   ]
  },
  {
   "cell_type": "code",
   "execution_count": null,
   "id": "9725adb1-8cdd-4e78-886b-50978c8d2eb8",
   "metadata": {},
   "outputs": [],
   "source": []
  }
 ],
 "metadata": {
  "kernelspec": {
   "display_name": "ment",
   "language": "python",
   "name": "ment"
  },
  "language_info": {
   "codemirror_mode": {
    "name": "ipython",
    "version": 3
   },
   "file_extension": ".py",
   "mimetype": "text/x-python",
   "name": "python",
   "nbconvert_exporter": "python",
   "pygments_lexer": "ipython3",
   "version": "3.11.9"
  }
 },
 "nbformat": 4,
 "nbformat_minor": 5
}
