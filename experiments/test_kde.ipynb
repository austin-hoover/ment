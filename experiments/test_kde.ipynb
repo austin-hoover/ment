{
 "cells": [
  {
   "cell_type": "markdown",
   "id": "c2ac3b4e-3775-47e7-b334-46e8b1e13077",
   "metadata": {},
   "source": [
    "# Test KDE"
   ]
  },
  {
   "cell_type": "code",
   "execution_count": null,
   "id": "553be401-ef87-43c2-81ae-82a085fd7fbe",
   "metadata": {},
   "outputs": [],
   "source": [
    "import os\n",
    "import sys\n",
    "import time\n",
    "\n",
    "import matplotlib.pyplot as plt\n",
    "import numpy as np\n",
    "import proplot as pplt\n",
    "import psdist as ps\n",
    "import psdist.plot as psv\n",
    "from ipywidgets import interact\n",
    "from tqdm.notebook import tqdm\n",
    "from tqdm.notebook import trange\n",
    "\n",
    "import ment"
   ]
  },
  {
   "cell_type": "code",
   "execution_count": null,
   "id": "5d223313-d7d0-41ec-b323-bf36b3619f03",
   "metadata": {},
   "outputs": [],
   "source": [
    "pplt.rc[\"cmap.discrete\"] = False\n",
    "pplt.rc[\"cmap.sequential\"] = \"viridis\"\n",
    "pplt.rc[\"figure.facecolor\"] = \"white\"\n",
    "pplt.rc[\"grid\"] = False"
   ]
  },
  {
   "cell_type": "code",
   "execution_count": null,
   "id": "802e2ae5-fc61-4ca0-a132-635bb7a5dc5f",
   "metadata": {},
   "outputs": [],
   "source": [
    "dist_name = \"gaussian_mixture\"\n",
    "ndim = 6\n",
    "xmax = 3.5\n",
    "seed = 12345"
   ]
  },
  {
   "cell_type": "code",
   "execution_count": null,
   "id": "4676ab41-fca5-441e-bd1d-8ccab2f1299f",
   "metadata": {},
   "outputs": [],
   "source": [
    "dist = ment.dist.get_dist(dist_name, ndim=ndim, seed=seed)\n",
    "x_true = dist.sample(1_000_000)"
   ]
  },
  {
   "cell_type": "markdown",
   "id": "098406fa-acc5-4a04-89aa-117582c80c19",
   "metadata": {},
   "source": [
    "## 1D"
   ]
  },
  {
   "cell_type": "code",
   "execution_count": null,
   "id": "ada46396-03f8-4bd9-9348-d2e85f94794b",
   "metadata": {},
   "outputs": [],
   "source": [
    "@interact(axis=list(range(ndim)), log_n_samp=(3.0, 5.0), bandwidth=(0.01, 4.00, 0.01), bins=(10, 128))\n",
    "def update(axis: int, log_n_samp: float, bandwidth: float = 1.0, bins: int = 50):\n",
    "    n_samp = int(10.0 ** log_n_samp)\n",
    "    x = dist.sample(n_samp)\n",
    "    \n",
    "    edges = np.linspace(-xmax, xmax, bins + 1)\n",
    "    \n",
    "    fig, ax = pplt.subplots(figsize=(3.0, 1.5))\n",
    "    for i in range(2):\n",
    "        diagnostic = ment.diag.Histogram1D(axis=axis, edges=edges, kde=i, kde_bandwidth=bandwidth)\n",
    "        values = diagnostic(x)\n",
    "        ax.stairs(values, edges, lw=1.5)\n",
    "    ax.hist(x_true[:, axis], edges, density=True, color=\"black\", alpha=1.0, histtype=\"step\", lw=1.5)\n",
    "    plt.show()"
   ]
  },
  {
   "cell_type": "markdown",
   "id": "dfe11f85-7391-46ab-87fc-332ad387dcd0",
   "metadata": {},
   "source": [
    "## 2D"
   ]
  },
  {
   "cell_type": "code",
   "execution_count": null,
   "id": "4be9ea91-660b-420e-a79e-1dca9f0ad96a",
   "metadata": {},
   "outputs": [],
   "source": [
    "@interact(\n",
    "    axis1=list(range(ndim)),\n",
    "    axis2=list(range(ndim)),\n",
    "    log_n_samp=(3.0, 5.0),\n",
    "    bandwidth=(0.01, 3.00, 0.01),\n",
    "    bins=(10, 128),\n",
    ")\n",
    "def update(\n",
    "    axis1: int = 0,\n",
    "    axis2: int = 1,\n",
    "    log_n_samp: float = 4.0,\n",
    "    bandwidth: float = 1.0,\n",
    "    bins: int = 50,\n",
    "):\n",
    "    axis = (axis1, axis2)\n",
    "\n",
    "    n_samp = int(10.0**log_n_samp)\n",
    "    x = dist.sample(n_samp)\n",
    "\n",
    "    edges = 2 * [np.linspace(-xmax, xmax, bins + 1)]\n",
    "    grid_coords = [e[:-1] + e[1:] for e in edges]\n",
    "    grid_points = ps.image.get_grid_points(grid_coords)\n",
    "\n",
    "    fig, axs = pplt.subplots(figsize=None, ncols=2)\n",
    "    for i, ax in enumerate(axs):\n",
    "        diagnostic = ment.diag.Histogram2D(\n",
    "            axis=axis, edges=edges, kde=bool(i), kde_bandwidth=bandwidth\n",
    "        )\n",
    "        values = diagnostic(x)\n",
    "        ax.pcolormesh(edges[0], edges[1], values.T)\n",
    "    plt.show()\n"
   ]
  },
  {
   "cell_type": "code",
   "execution_count": null,
   "id": "6fc87c4a-66c0-4070-bb21-19b41a23f1e0",
   "metadata": {},
   "outputs": [],
   "source": []
  }
 ],
 "metadata": {
  "kernelspec": {
   "display_name": "ment",
   "language": "python",
   "name": "ment"
  },
  "language_info": {
   "codemirror_mode": {
    "name": "ipython",
    "version": 3
   },
   "file_extension": ".py",
   "mimetype": "text/x-python",
   "name": "python",
   "nbconvert_exporter": "python",
   "pygments_lexer": "ipython3",
   "version": "3.11.9"
  }
 },
 "nbformat": 4,
 "nbformat_minor": 5
}
