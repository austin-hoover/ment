{
 "cells": [
  {
   "cell_type": "markdown",
   "id": "d74f0ec2-28b2-45ab-834b-4ed9c3a51f3b",
   "metadata": {},
   "source": [
    "# Reconstruct 2D phase space density from TBT profiles of mismatched beam"
   ]
  },
  {
   "cell_type": "code",
   "execution_count": null,
   "id": "ff9fc3bd-50b5-457f-961b-37bcbda59b87",
   "metadata": {},
   "outputs": [],
   "source": [
    "import os\n",
    "import sys\n",
    "import time\n",
    "from typing import Callable\n",
    "\n",
    "import matplotlib.pyplot as plt\n",
    "import matplotlib.colors\n",
    "import matplotlib.lines\n",
    "import numpy as np\n",
    "import proplot as pplt\n",
    "import psdist as ps\n",
    "import psdist.visualization as psv\n",
    "from ipywidgets import interact\n",
    "from ipywidgets import widgets\n",
    "\n",
    "import ment"
   ]
  },
  {
   "cell_type": "code",
   "execution_count": null,
   "id": "fad842d4-68bc-4e53-9f51-33f00e3b0d84",
   "metadata": {},
   "outputs": [],
   "source": [
    "pplt.rc[\"cmap.discrete\"] = False\n",
    "pplt.rc[\"cmap.sequential\"] = \"viridis\"\n",
    "pplt.rc[\"figure.facecolor\"] = \"white\"\n",
    "pplt.rc[\"grid\"] = False"
   ]
  },
  {
   "cell_type": "code",
   "execution_count": null,
   "id": "3b415dc2-c022-498b-9e1e-a3717effc095",
   "metadata": {},
   "outputs": [],
   "source": [
    "class ComposedTransform:\n",
    "    def __init__(self, *transforms) -> None:\n",
    "        self.transforms = transforms\n",
    "            \n",
    "    def forward(self, x: np.ndarray) -> np.ndarray:\n",
    "        u = x\n",
    "        for transform in self.transforms:\n",
    "            u = transform(u)\n",
    "        return u\n",
    "\n",
    "    def inverse(self, u: np.ndarray) -> np.ndarray:\n",
    "        x = u\n",
    "        for transform in reversed(self.transforms):\n",
    "            x = transform.inverse(x)\n",
    "        return x\n",
    "\n",
    "    def __call__(self, x: np.ndarray) -> np.ndarray:\n",
    "        return self.forward(x)"
   ]
  },
  {
   "cell_type": "code",
   "execution_count": null,
   "id": "2f8977da-8043-4355-8270-997561d9afe5",
   "metadata": {},
   "outputs": [],
   "source": [
    "class Transform:\n",
    "    def __init__(self) -> None:\n",
    "        return\n",
    "        \n",
    "    def forward(self, x: np.ndarray) -> np.ndarray:\n",
    "        raise NotImplementedError\n",
    "\n",
    "    def inverse(self, u: np.ndarray) -> np.ndarray:\n",
    "        raise NotImplementedError\n",
    "\n",
    "    def __call__(self, x: np.ndarray) -> np.ndarray:\n",
    "        return self.forward(x)"
   ]
  },
  {
   "cell_type": "code",
   "execution_count": null,
   "id": "e6b0f3c3-ac7f-41e2-8046-fba890130059",
   "metadata": {},
   "outputs": [],
   "source": [
    "class LinearTransform(Transform):\n",
    "    def __init__(self, matrix: np.ndarray) -> None:\n",
    "        super().__init__()\n",
    "        self.set_matrix(matrix)\n",
    "\n",
    "    def set_matrix(self, matrix: np.ndarray) -> None:\n",
    "        self.matrix = matrix\n",
    "        self.matrix_inv = np.linalg.inv(matrix)\n",
    "        \n",
    "    def forward(self, x: np.ndarray) -> np.ndarray:\n",
    "        return np.matmul(x, self.matrix.T)\n",
    "\n",
    "    def inverse(self, u: np.ndarray) -> np.ndarray:\n",
    "        return np.matmul(u, self.matrix_inv.T)"
   ]
  },
  {
   "cell_type": "code",
   "execution_count": null,
   "id": "a91983f8-e676-468c-81ce-caba95872716",
   "metadata": {},
   "outputs": [],
   "source": [
    "class AxiallySymmetricNonlinearKick(Transform):\n",
    "    def __init__(self, alpha: float, beta: float, phi: float, A: float, E: float, T: float) -> None:\n",
    "        super().__init__()\n",
    "        self.alpha = alpha\n",
    "        self.beta = beta\n",
    "        self.phi = phi\n",
    "        self.A = A\n",
    "        self.E = E\n",
    "        self.T = T\n",
    "\n",
    "    def forward(self, x: np.ndarray) -> np.ndarray:\n",
    "        ndim = x.shape[1]\n",
    "        if ndim == 2:\n",
    "            x = np.hstack([x, np.zeros((x.shape[0], 2))])\n",
    "            \n",
    "        r = np.sqrt(x[:, 0] ** 2 + x[:, 2] ** 2)\n",
    "        theta = np.arctan2(x[:, 2], x[:, 0])\n",
    "        \n",
    "        dr = -(1.0 / (self.beta * np.sin(self.phi))) * ((self.E * r) / (self.A * r**2 + self.T)) - ((2.0 * r) / (self.beta * np.tan(self.phi)))\n",
    "        \n",
    "        x_out = np.copy(x)\n",
    "        x_out[:, 1] += dr * np.cos(theta)\n",
    "        x_out[:, 3] += dr * np.cos(theta)\n",
    "        return x_out[:, :ndim]"
   ]
  },
  {
   "cell_type": "code",
   "execution_count": null,
   "id": "f7542319-12b0-4800-88d5-52f8123627d5",
   "metadata": {},
   "outputs": [],
   "source": [
    "def norm_matrix(alpha: float, beta: float) -> np.ndarray:\n",
    "    V = np.zeros((2, 2))\n",
    "    V[0, 0] = np.sqrt(beta)\n",
    "    V[0, 1] = 0.0\n",
    "    V[1, 0] = -alpha / np.sqrt(beta)\n",
    "    V[1, 1] = 1.0 / np.sqrt(beta)\n",
    "    return np.linalg.inv(V)"
   ]
  },
  {
   "cell_type": "code",
   "execution_count": null,
   "id": "ea44eb16-087c-434e-b3ca-72fc8f30a8ef",
   "metadata": {},
   "outputs": [],
   "source": [
    "def phase_advance_matrix(phi: float) -> np.ndarray:\n",
    "    return np.array([[np.cos(phi), np.sin(phi)], [-np.sin(phi), np.cos(phi)]])"
   ]
  },
  {
   "cell_type": "markdown",
   "id": "07840ac4-b151-4046-9922-e3d213260b8a",
   "metadata": {},
   "source": [
    "## Lattice"
   ]
  },
  {
   "cell_type": "code",
   "execution_count": null,
   "id": "36263283-ab46-4084-8558-b7148c6ab817",
   "metadata": {},
   "outputs": [],
   "source": [
    "# Define twiss parameters at origin\n",
    "alpha = 0.0\n",
    "beta = 1.0\n",
    "phi = 2.0 * np.pi * 0.18\n",
    "\n",
    "# Create lattice.\n",
    "Vinv = norm_matrix(alpha, beta)\n",
    "V = np.linalg.inv(Vinv)\n",
    "R = phase_advance_matrix(phi)\n",
    "M = np.linalg.multi_dot([V, R, Vinv])\n",
    "\n",
    "lattice = ComposedTransform(\n",
    "    LinearTransform(M),\n",
    "    AxiallySymmetricNonlinearKick(alpha, beta, phi, A=1.0, E=0.5, T=1.0),\n",
    ")"
   ]
  },
  {
   "cell_type": "markdown",
   "id": "a52b746c-fd15-48d1-a206-fe4f73402f38",
   "metadata": {},
   "source": [
    "## Bunch"
   ]
  },
  {
   "cell_type": "code",
   "execution_count": null,
   "id": "f2ec404e-2c37-4287-95c2-b4034e8cf6ef",
   "metadata": {},
   "outputs": [],
   "source": [
    "# Create distribution\n",
    "n_parts = 300_000\n",
    "\n",
    "t = np.linspace(0.0, 2.0 * np.pi, n_parts)\n",
    "x_true = np.vstack([np.cos(t), np.sin(t)]).T\n",
    "x_true *= 2.5\n",
    "x_true += np.random.normal(scale=0.25, size=x_true.shape)\n",
    "np.random.shuffle(x_true)\n",
    "\n",
    "## Apply linear mismatch\n",
    "# x_true = np.matmul(x_true, np.linalg.inv(norm_matrix(alpha=1.5, beta=1.0).T))"
   ]
  },
  {
   "cell_type": "markdown",
   "id": "1654f36e-9ee7-4d19-ac2e-05967b280db5",
   "metadata": {},
   "source": [
    "## Diagnostics"
   ]
  },
  {
   "cell_type": "code",
   "execution_count": null,
   "id": "8b3403d4-0df5-4f6a-9f17-3f2e0bd34741",
   "metadata": {},
   "outputs": [],
   "source": [
    "turn_indices = np.arange(1, 20, 1)\n",
    "xmax = 7.5\n",
    "n_bins = 75\n",
    "\n",
    "limits = 2 * [(-xmax, xmax)]\n",
    "bin_edges = np.linspace(-xmax, xmax, 100)\n",
    "bin_coords = 0.5 * (bin_edges[1:] + bin_edges[:-1])\n",
    "\n",
    "# List of diagnostics applied at each turn\n",
    "diagnostic = ment.diag.Histogram1D(axis=0, bin_edges=bin_edges)\n",
    "diagnostics = [[diagnostic,] for _ in turn_indices]"
   ]
  },
  {
   "cell_type": "markdown",
   "id": "0acdc0ef-17ed-4f3d-b794-ca65f0f9f35e",
   "metadata": {},
   "source": [
    "Show TBT:"
   ]
  },
  {
   "cell_type": "code",
   "execution_count": null,
   "id": "6122945d-39c4-44af-9105-2247aac7fd42",
   "metadata": {},
   "outputs": [],
   "source": [
    "@interact(\n",
    "    turn=widgets.IntSlider(min=0, max=max(turn_indices), value=0), \n",
    "    kind=[\"hist\", \"scatter\"],\n",
    "    bins=widgets.IntSlider(min=64, max=128, value=128),\n",
    ")\n",
    "def update(turn, kind: str, bins: int):\n",
    "    fig, ax = pplt.subplots()\n",
    "\n",
    "    x = x_true.copy()\n",
    "    for t in range(turn):\n",
    "        x = lattice(x)\n",
    "            \n",
    "    if kind == \"scatter\":\n",
    "        ax.scatter(x[:, 0], x[:, 1], color=\"k\", s=3)\n",
    "    elif kind == \"hist\":\n",
    "        ax.hist2d(x[:, 0], x[:, 1], bins=bins, range=limits, cmap=\"mono\")\n",
    "    else:\n",
    "        raise ValueError\n",
    "\n",
    "    pax = ax.panel_axes(\"bottom\")\n",
    "    hist, edges = np.histogram(x[:, 0], bins=bins, range=limits[0], density=True)\n",
    "    psv.plot_profile(hist, edges=edges, ax=pax, color=\"black\", fill=True)\n",
    "    pax.format(yticks=[])\n",
    "\n",
    "    ax.format(xlim=limits[0], ylim=limits[1])\n",
    "    plt.show()"
   ]
  },
  {
   "cell_type": "markdown",
   "id": "5de70a8d-d755-43c0-ad1f-0110308209bb",
   "metadata": {},
   "source": [
    "## Generate data"
   ]
  },
  {
   "cell_type": "code",
   "execution_count": null,
   "id": "a0f57f5e-21c3-4253-96fe-f5cd283e573e",
   "metadata": {},
   "outputs": [],
   "source": [
    "measurements = []\n",
    "\n",
    "x = np.copy(x_true)\n",
    "index = 0\n",
    "for turn in range(max(turn_indices)):\n",
    "    x = lattice(x)\n",
    "    if turn + 1 in turn_indices:\n",
    "        measurements.append([diagnostic(x) for diagnostic in diagnostics[index]])\n",
    "        index += 1"
   ]
  },
  {
   "cell_type": "markdown",
   "id": "acf672a1-4b10-41f8-8334-4021cf27afa9",
   "metadata": {},
   "source": [
    "## Reconstruction"
   ]
  },
  {
   "cell_type": "code",
   "execution_count": null,
   "id": "e76ed591-2e9c-48cf-ab0d-69d7c8cbe450",
   "metadata": {},
   "outputs": [],
   "source": [
    "ndim = 2\n",
    "prior = ment.GaussianPrior(ndim=ndim, scale=2.0)\n",
    "\n",
    "limits = [(-xmax, xmax)] * ndim\n",
    "sampler = ment.samp.GridSampler(\n",
    "    grid_limits=limits, \n",
    "    grid_shape=(ndim * [128]),\n",
    "    noise=0.0,\n",
    ")\n",
    "\n",
    "model = ment.MENTRing(\n",
    "    ndim=ndim,\n",
    "    turn_indices=turn_indices,\n",
    "    transform=lattice,\n",
    "    measurements=measurements,\n",
    "    diagnostics=diagnostics,\n",
    "    prior=prior,\n",
    "    interpolation=dict(method=\"linear\"),\n",
    "    mode=\"sample\",\n",
    "    sampler=sampler,\n",
    "    n_samples=200_000,\n",
    "    verbose=True,\n",
    ")\n",
    "\n",
    "learning_rate = 0.80\n",
    "n_epochs = 10"
   ]
  },
  {
   "cell_type": "code",
   "execution_count": null,
   "id": "872cd0f0-744c-43a6-bcaf-e660acb970b4",
   "metadata": {},
   "outputs": [],
   "source": [
    "for epoch in range(-1, n_epochs):\n",
    "    if epoch >= 0:\n",
    "        model.gauss_seidel_step(lr=learning_rate)\n",
    "\n",
    "    ## Sample particles from reconstructed distribution\n",
    "    x_pred = model.sample(x_true.shape[0])\n",
    "\n",
    "    ## Plot 2D density vs. ground truth\n",
    "    bins = 128\n",
    "    \n",
    "    fig, axs = pplt.subplots(ncols=2)\n",
    "    for ax, x in zip(axs, [x_pred, x_true]):\n",
    "        hist, edges = np.histogramdd(x, bins=bins, range=limits)\n",
    "        ax.pcolormesh(edges[0], edges[1], hist.T + 1.0, cmap=\"mono\")\n",
    "    pplt.show()\n",
    "\n",
    "    ## Plot measured vs simulated 1D projections\n",
    "    ncols = min(len(turn_indices), 7)\n",
    "    nrows = int(np.ceil(len(turn_indices) / ncols))\n",
    "    figwidth = 1.6 * ncols\n",
    "    figheight = 1.2 * nrows\n",
    "    log = False\n",
    "\n",
    "    error = 0.0\n",
    "    \n",
    "    fig, axs = pplt.subplots(ncols=ncols, nrows=nrows, figwidth=figwidth, figheight=figheight, sharex=True, sharey=True)\n",
    "    for index in range(len(turn_indices)):\n",
    "        y_pred = model.simulate(index, diag_index=0).copy()\n",
    "        y_meas = measurements[index][0].copy()\n",
    "        normalization = y_meas.max()\n",
    "        y_pred /= y_meas.max()\n",
    "        y_meas /= y_meas.max()  \n",
    "        \n",
    "        error += np.mean(np.abs(y_pred - y_meas))\n",
    "\n",
    "        ax = axs[index]\n",
    "        ax.plot(y_meas, color=\"black\")\n",
    "        ax.plot(y_pred, color=\"red\")\n",
    "        ax.format(ymax=1.25)\n",
    "        if log:\n",
    "            ax.format(yscale=\"log\", ymax=5.0, ymin=1.00e-05, yformatter=\"log\")\n",
    "    plt.show()\n",
    "\n",
    "    print(f\"Epoch = {epoch}\")\n",
    "    print(f\"Error = {error:0.3e}\")"
   ]
  },
  {
   "cell_type": "markdown",
   "id": "9b7e486e-1c3a-4554-b6ab-8d9e6dacddd2",
   "metadata": {},
   "source": [
    "Show predicted 2D distribution vs. transformed source distribution. Here we may include turns that were not in the training data."
   ]
  },
  {
   "cell_type": "code",
   "execution_count": null,
   "id": "25660749-9d0a-4f23-87c5-0652dd92adfe",
   "metadata": {},
   "outputs": [],
   "source": [
    "@interact(\n",
    "    turn=widgets.IntSlider(min=0, max=(max(turn_indices) * 2), value=0, continuous_update=False), \n",
    "    kind=[\"hist\", \"scatter\"],\n",
    "    bins=widgets.IntSlider(min=64, max=128, value=128),\n",
    "    n_parts=widgets.FloatLogSlider(min=3.0, max=6.0, value=100_000),\n",
    ")\n",
    "def update(turn, kind: str, bins: int, n_parts: int = 5.0):\n",
    "    fig, axs = pplt.subplots(ncols=2)\n",
    "\n",
    "    n_parts = int(n_parts)\n",
    "    u_true = x_true[:n_parts].copy()\n",
    "    u_pred = model.sample(u_true.shape[0])\n",
    "    for t in range(turn):\n",
    "        u_true = lattice(u_true)\n",
    "        u_pred = lattice(u_pred)\n",
    "        \n",
    "    for ax, u in zip(axs, [u_pred, u_true]):\n",
    "        ax.hist2d(u[:, 0], u[:, 1], bins=bins, range=limits, cmap=\"mono\")\n",
    "        \n",
    "        pax = ax.panel_axes(\"bottom\")\n",
    "        hist, edges = np.histogram(u[:, 0], bins=bins, range=limits[0], density=True)\n",
    "        psv.plot_profile(hist, edges=edges, ax=pax, color=\"black\", fill=True)\n",
    "        pax.format(yticks=[])\n",
    "\n",
    "    axs.format(xlim=limits[0], ylim=limits[1], toplabels=[\"Model\", \"True\"])\n",
    "    plt.show()"
   ]
  },
  {
   "cell_type": "code",
   "execution_count": null,
   "id": "43845a0a-c25c-40f8-8c05-c72ff7854e19",
   "metadata": {},
   "outputs": [],
   "source": []
  }
 ],
 "metadata": {
  "kernelspec": {
   "display_name": "Python (ment)",
   "language": "python",
   "name": "ment"
  },
  "language_info": {
   "codemirror_mode": {
    "name": "ipython",
    "version": 3
   },
   "file_extension": ".py",
   "mimetype": "text/x-python",
   "name": "python",
   "nbconvert_exporter": "python",
   "pygments_lexer": "ipython3",
   "version": "3.10.14"
  }
 },
 "nbformat": 4,
 "nbformat_minor": 5
}
