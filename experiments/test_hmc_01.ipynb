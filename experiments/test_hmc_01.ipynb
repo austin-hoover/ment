{
 "cells": [
  {
   "cell_type": "code",
   "execution_count": null,
   "id": "12710a1f-e973-430f-83e0-2554aa72c55f",
   "metadata": {},
   "outputs": [],
   "source": [
    "from minimc import mixture\n",
    "\n",
    "neg_log_probs = [neg_log_normal(1.0, 0.5), neg_log_normal(-1.0, 0.5)]\n",
    "probs = np.array([0.2, 0.8])\n",
    "neg_log_p = AutogradPotential(mixture(neg_log_probs, probs))\n",
    "samples = hamiltonian_monte_carlo(2000, neg_log_p, 0.0)\n",
    "\n",
    "neg_log_probs = [\n",
    "    neg_log_normal(-1.0, 0.3),\n",
    "    neg_log_normal(0., 0.2),\n",
    "    neg_log_normal(1.0, 0.3),\n",
    "    ]\n",
    "probs = np.array([0.1, 0.5, 0.4])\n",
    "neg_log_p = AutogradPotential(mixture(neg_log_probs, probs))\n",
    "samples = hamiltonian_monte_carlo(2_000, neg_log_p, 0.)"
   ]
  },
  {
   "cell_type": "code",
   "execution_count": null,
   "id": "1e585f5e-9346-41e3-8726-172f7dd16b64",
   "metadata": {},
   "outputs": [],
   "source": [
    "import matplotlib.pyplot as plt\n",
    "\n",
    "fig, ax = plt.subplots()\n",
    "hist, edges, artists = ax.hist(samples, bins=50, color=\"black\")"
   ]
  },
  {
   "cell_type": "code",
   "execution_count": null,
   "id": "19bdfdbd-0bf0-4af6-ae85-497c6d477acb",
   "metadata": {},
   "outputs": [],
   "source": []
  }
 ],
 "metadata": {
  "kernelspec": {
   "display_name": "ment",
   "language": "python",
   "name": "ment"
  },
  "language_info": {
   "codemirror_mode": {
    "name": "ipython",
    "version": 3
   },
   "file_extension": ".py",
   "mimetype": "text/x-python",
   "name": "python",
   "nbconvert_exporter": "python",
   "pygments_lexer": "ipython3",
   "version": "3.11.9"
  }
 },
 "nbformat": 4,
 "nbformat_minor": 5
}
