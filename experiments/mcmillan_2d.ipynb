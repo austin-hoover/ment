{
 "cells": [
  {
   "cell_type": "markdown",
   "id": "d74f0ec2-28b2-45ab-834b-4ed9c3a51f3b",
   "metadata": {},
   "source": [
    "# McMillan map in periodic ring"
   ]
  },
  {
   "cell_type": "code",
   "execution_count": 1,
   "id": "ff9fc3bd-50b5-457f-961b-37bcbda59b87",
   "metadata": {},
   "outputs": [],
   "source": [
    "import os\n",
    "import sys\n",
    "import time\n",
    "from typing import Callable\n",
    "\n",
    "import matplotlib.pyplot as plt\n",
    "import matplotlib.colors\n",
    "import matplotlib.lines\n",
    "import numpy as np\n",
    "import proplot as pplt\n",
    "import psdist as ps\n",
    "from ipywidgets import interact\n",
    "from ipywidgets import widgets\n",
    "\n",
    "import ment"
   ]
  },
  {
   "cell_type": "code",
   "execution_count": 2,
   "id": "fad842d4-68bc-4e53-9f51-33f00e3b0d84",
   "metadata": {},
   "outputs": [],
   "source": [
    "pplt.rc[\"cmap.discrete\"] = False\n",
    "pplt.rc[\"cmap.sequential\"] = \"viridis\"\n",
    "pplt.rc[\"figure.facecolor\"] = \"white\"\n",
    "pplt.rc[\"grid\"] = False"
   ]
  },
  {
   "cell_type": "code",
   "execution_count": 3,
   "id": "3b415dc2-c022-498b-9e1e-a3717effc095",
   "metadata": {},
   "outputs": [],
   "source": [
    "class ComposedTransform:\n",
    "    def __init__(self, *transforms) -> None:\n",
    "        self.transforms = transforms\n",
    "            \n",
    "    def forward(self, x: np.ndarray) -> np.ndarray:\n",
    "        u = x\n",
    "        for transform in self.transforms:\n",
    "            u = transform(u)\n",
    "        return u\n",
    "\n",
    "    def inverse(self, u: np.ndarray) -> np.ndarray:\n",
    "        x = u\n",
    "        for transform in reversed(self.transforms):\n",
    "            x = transform.inverse(x)\n",
    "        return x\n",
    "\n",
    "    def __call__(self, x: np.ndarray) -> np.ndarray:\n",
    "        return self.forward(x)"
   ]
  },
  {
   "cell_type": "code",
   "execution_count": 4,
   "id": "2f8977da-8043-4355-8270-997561d9afe5",
   "metadata": {},
   "outputs": [],
   "source": [
    "class Transform:\n",
    "    def __init__(self) -> None:\n",
    "        return\n",
    "        \n",
    "    def forward(self, x: np.ndarray) -> np.ndarray:\n",
    "        raise NotImplementedError\n",
    "\n",
    "    def inverse(self, u: np.ndarray) -> np.ndarray:\n",
    "        raise NotImplementedError\n",
    "\n",
    "    def __call__(self, x: np.ndarray) -> np.ndarray:\n",
    "        return self.forward(x)"
   ]
  },
  {
   "cell_type": "code",
   "execution_count": 5,
   "id": "e6b0f3c3-ac7f-41e2-8046-fba890130059",
   "metadata": {},
   "outputs": [],
   "source": [
    "class LinearTransform(Transform):\n",
    "    def __init__(self, matrix: np.ndarray) -> None:\n",
    "        super().__init__()\n",
    "        self.set_matrix(matrix)\n",
    "\n",
    "    def set_matrix(self, matrix: np.ndarray) -> None:\n",
    "        self.matrix = matrix\n",
    "        self.matrix_inv = np.linalg.inv(matrix)\n",
    "        \n",
    "    def forward(self, x: np.ndarray) -> np.ndarray:\n",
    "        return np.matmul(x, self.matrix.T)\n",
    "\n",
    "    def inverse(self, u: np.ndarray) -> np.ndarray:\n",
    "        return np.matmul(u, self.matrix_inv.T)"
   ]
  },
  {
   "cell_type": "code",
   "execution_count": 6,
   "id": "a91983f8-e676-468c-81ce-caba95872716",
   "metadata": {},
   "outputs": [],
   "source": [
    "class AxiallySymmetricNonlinearKick(Transform):\n",
    "    def __init__(self, alpha: float, beta: float, phi: float, A: float, E: float, T: float) -> None:\n",
    "        super().__init__()\n",
    "        self.alpha = alpha\n",
    "        self.beta = beta\n",
    "        self.phi = phi\n",
    "        self.A = A\n",
    "        self.E = E\n",
    "        self.T = T\n",
    "\n",
    "    def forward(self, x: np.ndarray) -> np.ndarray:\n",
    "        ndim = x.shape[1]\n",
    "        if ndim == 2:\n",
    "            x = np.hstack([x, np.zeros((x.shape[0], 2))])\n",
    "            \n",
    "        r = np.sqrt(x[:, 0] ** 2 + x[:, 2] ** 2)\n",
    "        theta = np.arctan2(x[:, 2], x[:, 0])\n",
    "        \n",
    "        dr = -(1.0 / (self.beta * np.sin(self.phi))) * ((self.E * r) / (self.A * r**2 + self.T)) - ((2.0 * r) / (self.beta * np.tan(self.phi)))\n",
    "        \n",
    "        x_out = np.copy(x)\n",
    "        x_out[:, 1] += dr * np.cos(theta)\n",
    "        x_out[:, 3] += dr * np.cos(theta)\n",
    "        return x_out[:, :ndim]"
   ]
  },
  {
   "cell_type": "code",
   "execution_count": 7,
   "id": "f7542319-12b0-4800-88d5-52f8123627d5",
   "metadata": {},
   "outputs": [],
   "source": [
    "def norm_matrix(alpha: float, beta: float) -> np.ndarray:\n",
    "    V = np.zeros((2, 2))\n",
    "    V[0, 0] = np.sqrt(beta)\n",
    "    V[0, 1] = 0.0\n",
    "    V[1, 0] = -alpha / np.sqrt(beta)\n",
    "    V[1, 1] = 1.0 / np.sqrt(beta)\n",
    "    return np.linalg.inv(V)"
   ]
  },
  {
   "cell_type": "code",
   "execution_count": 8,
   "id": "ea44eb16-087c-434e-b3ca-72fc8f30a8ef",
   "metadata": {},
   "outputs": [],
   "source": [
    "def phase_advance_matrix(phi: float) -> np.ndarray:\n",
    "    return np.array([[np.cos(phi), np.sin(phi)], [-np.sin(phi), np.cos(phi)]])"
   ]
  },
  {
   "cell_type": "code",
   "execution_count": 9,
   "id": "0f35748b-06b3-49b7-ba4e-148fa2f4a235",
   "metadata": {},
   "outputs": [],
   "source": [
    "def track_tbt(x: np.ndarray, transform: Callable, turns: int = 1) -> np.ndarray:\n",
    "    coords = np.zeros((turns + 1, x.shape[0], x.shape[1]))\n",
    "    coords[0] = x\n",
    "    for i in range(1, coords.shape[0]):\n",
    "        coords[i] = transform(coords[i - 1])\n",
    "    return coords"
   ]
  },
  {
   "cell_type": "code",
   "execution_count": 10,
   "id": "36263283-ab46-4084-8558-b7148c6ab817",
   "metadata": {},
   "outputs": [],
   "source": [
    "# Define twiss parameters at origin\n",
    "alpha = 0.0\n",
    "beta = 1.0\n",
    "phi = 2.0 * np.pi * 0.18\n",
    "\n",
    "# Create lattice.\n",
    "Vinv = norm_matrix(alpha, beta)\n",
    "V = np.linalg.inv(Vinv)\n",
    "R = phase_advance_matrix(phi)\n",
    "M = np.linalg.multi_dot([V, R, Vinv])\n",
    "\n",
    "lattice = ComposedTransform(\n",
    "    LinearTransform(M),\n",
    "    AxiallySymmetricNonlinearKick(alpha, beta, phi, A=1.0, E=0.5, T=1.0),\n",
    ")"
   ]
  },
  {
   "cell_type": "code",
   "execution_count": 14,
   "id": "f2ec404e-2c37-4287-95c2-b4034e8cf6ef",
   "metadata": {},
   "outputs": [],
   "source": [
    "# Create distribution\n",
    "n_parts = 100_000\n",
    "\n",
    "t = np.linspace(0.0, 2.0 * np.pi, n_parts)\n",
    "x_true = np.vstack([np.cos(t), np.sin(t)]).T\n",
    "x_true *= 2.5\n",
    "x_true += np.random.normal(scale=0.1, size=x_true.shape)\n",
    "\n",
    "## Apply mismatch\n",
    "# x_true = np.matmul(x_true, np.linalg.inv(norm_matrix(alpha=1.5, beta=1.0).T))"
   ]
  },
  {
   "cell_type": "markdown",
   "id": "0acdc0ef-17ed-4f3d-b794-ca65f0f9f35e",
   "metadata": {},
   "source": [
    "Show TBT:"
   ]
  },
  {
   "cell_type": "code",
   "execution_count": 15,
   "id": "e010e643-1f3c-4f21-bd45-fb0f256f4a4a",
   "metadata": {},
   "outputs": [],
   "source": [
    "# coords = track_tbt(x_true, lattice, turns=100)"
   ]
  },
  {
   "cell_type": "code",
   "execution_count": 16,
   "id": "6122945d-39c4-44af-9105-2247aac7fd42",
   "metadata": {},
   "outputs": [],
   "source": [
    "# @interact(turn=(0, coords.shape[0] - 1), kind=[\"scatter\", \"hist\"])\n",
    "# def update(turn: int = 0, kind: str = \"scatter\"):\n",
    "#     # Settings\n",
    "#     xmax = 7.0\n",
    "#     limits = 2 * [(-xmax, xmax)]\n",
    "\n",
    "#     x = coords[turn]\n",
    "\n",
    "#     fig, ax = pplt.subplots()\n",
    "\n",
    "#     if kind == \"scatter\":\n",
    "#         ax.scatter(x[:, 0], x[:, 1], color=\"k\", s=3)\n",
    "#     elif kind == \"hist\":\n",
    "#         ax.hist2d(x[:, 0], x[:, 1], bins=125, range=limits, cmap=\"mono\")\n",
    "#     else:\n",
    "#         raise ValueError\n",
    "\n",
    "#     i = 12\n",
    "#     ax.plot([0.0, x[i, 0]], [0.0, x[i, 1]], color=\"red\")\n",
    "\n",
    "#     pax = ax.panel_axes(\"bottom\")\n",
    "#     hist, edges = np.histogram(x[:, 0], bins=75, range=limits[0], density=True)\n",
    "#     hist = hist / np.sum(hist)\n",
    "#     pax.stairs(hist, edges, color=\"black\", fill=True)\n",
    "#     pax.format(yticks=[])\n",
    "\n",
    "#     ax.format(xlim=limits[0], ylim=limits[1])\n",
    "#     plt.show()"
   ]
  },
  {
   "cell_type": "code",
   "execution_count": null,
   "id": "97140e15-b8c8-462b-bddc-51d321ddc725",
   "metadata": {},
   "outputs": [],
   "source": [
    "# Try fitting into existing workflow.\n",
    "n_turns = 15\n",
    "\n",
    "transforms = []\n",
    "for t in range(n_turns):\n",
    "    transform = ComposedTransform(*(t * [lattice]))\n",
    "    transforms.append(transform)"
   ]
  },
  {
   "cell_type": "code",
   "execution_count": null,
   "id": "8b3403d4-0df5-4f6a-9f17-3f2e0bd34741",
   "metadata": {},
   "outputs": [],
   "source": [
    "xmax = 6.5\n",
    "limits = 2 * [(-xmax, xmax)]\n",
    "n_bins = 64\n",
    "bin_edges = np.linspace(-xmax, xmax, 100)\n",
    "bin_coords = 0.5 * (bin_edges[1:] + bin_edges[:-1])\n",
    "\n",
    "diagnostic = ment.diag.Histogram1D(axis=0, bin_edges=bin_edges)\n",
    "diagnostics = [[diagnostic,] for transform in transforms]"
   ]
  },
  {
   "cell_type": "code",
   "execution_count": null,
   "id": "c1c4adf8-f1b3-473d-9df5-e864ae0c6855",
   "metadata": {},
   "outputs": [],
   "source": [
    "measurements = ment.sim.forward(x_true, transforms, diagnostics)"
   ]
  },
  {
   "cell_type": "markdown",
   "id": "713be80a-63a7-4f03-b14f-b07200dad17d",
   "metadata": {},
   "source": [
    "Create MENT model."
   ]
  },
  {
   "cell_type": "code",
   "execution_count": null,
   "id": "e76ed591-2e9c-48cf-ab0d-69d7c8cbe450",
   "metadata": {},
   "outputs": [],
   "source": [
    "ndim = 2\n",
    "prior = ment.GaussianPrior(ndim=ndim, scale=2.0)\n",
    "\n",
    "limits = [(-xmax, xmax)] * ndim\n",
    "sampler = ment.samp.GridSampler(grid_limits=limits, grid_shape=(ndim * [128]))\n",
    "\n",
    "model = ment.MENT(\n",
    "    ndim=ndim,\n",
    "    measurements=measurements,\n",
    "    transforms=transforms,\n",
    "    diagnostics=diagnostics,\n",
    "    prior=prior,\n",
    "    interpolation=dict(method=\"linear\"),\n",
    "    mode=\"sample\",\n",
    "    sampler=sampler,\n",
    "    n_samples=1_000_000,\n",
    "    verbose=True,\n",
    ")\n",
    "\n",
    "learning_rate = 0.5\n",
    "n_epochs = 10"
   ]
  },
  {
   "cell_type": "code",
   "execution_count": null,
   "id": "872cd0f0-744c-43a6-bcaf-e660acb970b4",
   "metadata": {},
   "outputs": [],
   "source": [
    "for epoch in range(-1, n_epochs):\n",
    "    if epoch >= 0:\n",
    "        model.gauss_seidel_step(lr=learning_rate)\n",
    "\n",
    "    x_pred = model.sample(1_000_000)\n",
    "\n",
    "    fig, axs = pplt.subplots(ncols=2)\n",
    "    for ax, x in zip(axs, [x_pred, x_true]):\n",
    "        hist, edges = np.histogramdd(x, bins=100, range=limits)\n",
    "        ax.pcolormesh(edges[0], edges[1], hist.T + 1.0)\n",
    "    pplt.show()\n",
    "\n",
    "    ncols = min(n_turns, 7)\n",
    "    nrows = int(np.ceil(n_turns / ncols))\n",
    "    figwidth = 1.6 * ncols\n",
    "    figheight = 1.2 * nrows\n",
    "\n",
    "    log = False\n",
    "    \n",
    "    fig, axs = pplt.subplots(ncols=ncols, nrows=nrows, figwidth=figwidth, figheight=figheight, sharex=True, sharey=True)\n",
    "    for index, transform in enumerate(transforms):\n",
    "        y_pred = model.simulate(index, diag_index=0).copy()\n",
    "        y_meas = measurements[index][0].copy()\n",
    "        ax = axs[index]\n",
    "\n",
    "        normalization = y_meas.max()\n",
    "        y_pred /= y_meas.max()\n",
    "        y_meas /= y_meas.max()  \n",
    "        ax.plot(y_meas, color=\"black\")\n",
    "        ax.plot(y_pred, color=\"red\")\n",
    "        # ax.stairs(y_meas, color=\"black\", lw=1.25)\n",
    "        # ax.stairs(y_pred, color=\"red\", lw=1.25)\n",
    "        ax.format(ymax=1.25)\n",
    "        if log:\n",
    "            ax.format(yscale=\"log\", ymax=5.0, ymin=1.00e-05, yformatter=\"log\")\n",
    "    plt.show()"
   ]
  },
  {
   "cell_type": "code",
   "execution_count": null,
   "id": "4614112c-a117-45f7-92c3-0767ba15e544",
   "metadata": {},
   "outputs": [],
   "source": []
  }
 ],
 "metadata": {
  "kernelspec": {
   "display_name": "Python (ment)",
   "language": "python",
   "name": "ment"
  },
  "language_info": {
   "codemirror_mode": {
    "name": "ipython",
    "version": 3
   },
   "file_extension": ".py",
   "mimetype": "text/x-python",
   "name": "python",
   "nbconvert_exporter": "python",
   "pygments_lexer": "ipython3",
   "version": "3.10.14"
  }
 },
 "nbformat": 4,
 "nbformat_minor": 5
}
