{
 "cells": [
  {
   "cell_type": "markdown",
   "id": "9f6c67f4-f32e-46e0-ba83-1894cbc71e9e",
   "metadata": {},
   "source": [
    "# High-dynamic-range (HDR) tomography"
   ]
  },
  {
   "cell_type": "markdown",
   "id": "cda31ff0-d653-490c-8e3c-fd75f2a49913",
   "metadata": {},
   "source": [
    "The dynamic range is defined as the ratio of the maximum to minimum density in the distribution; for example, a dynamic range of $10^3$ means the peak density is one thousand times higher than the noise floor. Densities below $10^{-2}$ (as a fraction of the peak) are basically invisible to the naked eye and are therefore unimportant in most applications. However, low-density regions can be *very* important in high-power particle accelerators, where tiny fractional beam loss contributes to intensity-limiting radioactivation in the accelerator."
   ]
  },
  {
   "cell_type": "code",
   "execution_count": null,
   "id": "49be3aeb-69c5-444f-870b-731316343eca",
   "metadata": {},
   "outputs": [],
   "source": [
    "import os\n",
    "import sys\n",
    "import time\n",
    "\n",
    "import matplotlib.lines\n",
    "import matplotlib.ticker\n",
    "import numpy as np\n",
    "import scipy.ndimage\n",
    "import ultraplot as plt\n",
    "import xarray as xr\n",
    "\n",
    "import ment"
   ]
  },
  {
   "cell_type": "code",
   "execution_count": null,
   "id": "5da2161c-d7a6-490d-bf45-6ad59fc141dd",
   "metadata": {},
   "outputs": [],
   "source": [
    "plt.rc[\"cmap.discrete\"] = False\n",
    "plt.rc[\"cmap.sequential\"] = \"plasma\"\n",
    "plt.rc[\"colorbar.width\"] = \"1.2em\"\n",
    "plt.rc[\"grid\"] = False\n",
    "plt.rc[\"figure.facecolor\"] = \"white\""
   ]
  },
  {
   "cell_type": "markdown",
   "id": "d29c8583-a111-4a0e-988a-86c266f13286",
   "metadata": {},
   "source": [
    "## Source distribution"
   ]
  },
  {
   "cell_type": "markdown",
   "id": "65e9178c-811e-4f80-b2a6-f0e2cdf6e481",
   "metadata": {},
   "source": [
    "As the ground truth/source distribution, we use a simulated beam in the Beam Test Facility (BTF) at Oak Ridge National Laboratory. The [PyORBIT](https://github.com/PyORBIT-Collaboration/PyORBIT3) simulation model represents the accelerator lattice as a series of symplectic transfer maps and incorporates space charge using a 3D particle-in-cell algorithm. The simulation used $8.5 \\times 10^6$ \"macroparticles\" to represent the phase space distribution, populating low-density regions of the phase sapce. The following are the projections of the coordinates onto the $x$-$x'$ and axis and binned on a 2D grid."
   ]
  },
  {
   "cell_type": "code",
   "execution_count": null,
   "id": "7043a475-2312-4466-b314-5dd9cddec594",
   "metadata": {},
   "outputs": [],
   "source": [
    "def plot_image(values: np.ndarray, coords: list[np.ndarray], log: bool = True, ax=None, **plot_kws) -> None:\n",
    "    \"\"\"Plot image in log scale.\"\"\"\n",
    "    plot_kws.setdefault(\"colorbar\", True)\n",
    "    plot_kws.setdefault(\"colorbar_kw\", dict())    \n",
    "    \n",
    "    values = values.copy()\n",
    "    values = values + np.min(values[values > 0.0])\n",
    "    values = values / np.max(values)\n",
    "    if log:\n",
    "        values = np.log10(values + 1.00e-12)\n",
    "        plot_kws.setdefault(\"vmax\", 0.0)\n",
    "\n",
    "    ax.pcolormesh(coords[0], coords[1], values.T, **plot_kws)\n",
    "\n",
    "def plot_points(x: np.ndarray, bins: int, limits: list[tuple[float, float]], **plot_kws) -> None:\n",
    "    \"\"\"Plot histogram in log scale.\"\"\"\n",
    "    values, edges = np.histogramdd(x, bins=bins, range=limits)\n",
    "    plot_image(values, edges, **plot_kws)"
   ]
  },
  {
   "cell_type": "code",
   "execution_count": null,
   "id": "448a11f7-ab73-415d-a4e9-bcea9ee4bb2f",
   "metadata": {},
   "outputs": [],
   "source": [
    "grid = xr.open_dataarray(\"data/grid.nc\")\n",
    "grid_values = grid.values\n",
    "grid_coords = [grid.coords[\"x\"].values, grid.coords[\"xp\"].values]\n",
    "\n",
    "fig, axs = plt.subplots(ncols=2, figheight=2.5)\n",
    "plot_image(grid_values, grid_coords, ax=axs[0], log=False)\n",
    "plot_image(grid_values, grid_coords, ax=axs[1], log=True, vmax=0.0)\n",
    "axs.format(xlabel=r\"$x$\", ylabel=r\"$p_x$\", toplabels=[\"Linear\", \"Log\"])"
   ]
  },
  {
   "cell_type": "markdown",
   "id": "c5c0b408-8443-4134-8d6d-1142143754f2",
   "metadata": {},
   "source": [
    "The plot on the left uses a linear color scale. The most obvious feature is a linear correlation between $x$ and $p_x$, which is caused by the linear quadrpuole focusing/defocusing in the lattice. You can also see some weaker nonlinear correlations near the edge of the distibution, forming the \"s\" shape characteristic of nonlinear dynamics. The plot on the right uses a *logarithmic* color scale. Notice that the huge nonlinear tails are completely invisible in the other plot."
   ]
  },
  {
   "cell_type": "markdown",
   "id": "5f6800da-30b3-45a9-9e30-89f63085ee3f",
   "metadata": {},
   "source": [
    "Let's sample particles from the distribution, remove the linear correlation between $x$ and $p_x$, and scale to unit variance along each dimension."
   ]
  },
  {
   "cell_type": "code",
   "execution_count": null,
   "id": "3e9970e0-f33b-4d40-aa4a-1f26e4948251",
   "metadata": {},
   "outputs": [],
   "source": [
    "def sample_grid(values: np.ndarray, coords: list[np.ndarray], size: int, noise: float = 0.0) -> np.ndarray:\n",
    "    \"\"\"Sample points from histogram.\"\"\"\n",
    "    pdf = np.ravel(values) / np.sum(values)\n",
    "    idx = np.arange(pdf.size)\n",
    "    idx = np.random.choice(idx, size, replace=True, p=pdf)\n",
    "    idx = np.unravel_index(idx, shape=values.shape)\n",
    "\n",
    "    edges = [ment.coords_to_edges(c) for c in coords]\n",
    "    lb = [edges[axis][idx[axis]    ] for axis in range(values.ndim)]\n",
    "    ub = [edges[axis][idx[axis] + 1] for axis in range(values.ndim)]\n",
    "    \n",
    "    x = np.zeros((size, values.ndim))\n",
    "    for axis in range(x.shape[1]):\n",
    "        x[:, axis] = np.random.uniform(lb[axis], ub[axis])\n",
    "        if noise:\n",
    "            delta = 0.5 * noise * (ub[axis] - lb[axis])\n",
    "            x[:, axis] += np.random.uniform(-delta, delta, size=x.shape[0])\n",
    "    return x"
   ]
  },
  {
   "cell_type": "code",
   "execution_count": null,
   "id": "e33de0ca-6e6c-45d1-822a-2a61aedc8135",
   "metadata": {},
   "outputs": [],
   "source": [
    "def norm_matrix_from_cov(cov_matrix: np.ndarray) -> np.ndarray:\n",
    "    \"\"\"Symplectic matrix that diagonalizes covariance matrix.\"\"\"\n",
    "    emittance = np.sqrt(np.linalg.det(cov_matrix))\n",
    "    beta = cov_matrix[0, 0] / emittance\n",
    "    alpha = -cov_matrix[0, 1] / emittance\n",
    "    V = np.array([[beta, 0.0], [-alpha, 1.0]]) * np.sqrt(1.0 / beta)\n",
    "    A = np.sqrt(np.diag([emittance, emittance]))\n",
    "    V = np.matmul(V, A)\n",
    "    return np.linalg.inv(V)"
   ]
  },
  {
   "cell_type": "code",
   "execution_count": null,
   "id": "d8af7d37-4e63-4eb6-a538-cb1053e16fd1",
   "metadata": {},
   "outputs": [],
   "source": [
    "# Sample particles from the discrete distribution.\n",
    "x_true = sample_grid(values=grid.values, coords=grid.coords.values(), size=8_500_000, noise=1.0)\n",
    "\n",
    "# Normalize using symplectic matrix.\n",
    "cov_matrix = np.cov(x_true.T)\n",
    "norm_matrix = norm_matrix_from_cov(cov_matrix)\n",
    "x_true = np.matmul(x_true, norm_matrix.T)\n",
    "\n",
    "# Plot the normalized coordinates.\n",
    "xmax = 6.0\n",
    "bins = 75\n",
    "limits = 2 * [(-xmax, xmax)]\n",
    "\n",
    "fig, axs = plt.subplots(ncols=2, figheight=2.5)\n",
    "for i, ax in enumerate(axs):\n",
    "    plot_points(x_true, bins=bins, limits=limits, ax=ax, log=i)\n",
    "axs.format(xlabel=r\"$x$\", ylabel=r\"$x'$\")"
   ]
  },
  {
   "cell_type": "markdown",
   "id": "7e044a7e-9c68-499c-98c0-fbbd10e5537b",
   "metadata": {},
   "source": [
    "## Forward model"
   ]
  },
  {
   "cell_type": "markdown",
   "id": "73626be6-8448-4504-a20a-8eab88a149b0",
   "metadata": {},
   "source": [
    "Consider a simple forward model consisting of rotation matrices by angles uniformly spaced between $[0, \\pi]$. (In typical measurement beamlines, a linear + uncoupled description of the dyanamics will be sufficient.) We'll simulate 10 measurements."
   ]
  },
  {
   "cell_type": "code",
   "execution_count": null,
   "id": "5740e306-3c2b-4b37-b280-02a404201ebb",
   "metadata": {},
   "outputs": [],
   "source": [
    "nmeas = 10 # number of projections\n",
    "nbins = 75  # number of bins in 1D histograms\n",
    "\n",
    "# Define rotation angles uniformly spanning [0, pi].\n",
    "phase_advances = np.linspace(0.0, np.pi, nmeas, endpoint=False)\n",
    "\n",
    "# Package rotation matrices as LinearTransform function.\n",
    "transforms = []\n",
    "for phase_advance in phase_advances:\n",
    "    matrix = ment.utils.rotation_matrix(phase_advance)\n",
    "    transform = ment.LinearTransform(matrix)\n",
    "    transforms.append(transform)\n",
    "\n",
    "# Create Histogram1D objects.\n",
    "diagnostics = []\n",
    "for transform in transforms:\n",
    "    bin_edges = np.linspace(-xmax, xmax, nbins + 1)\n",
    "    diagnostic = ment.diag.Histogram1D(axis=0, edges=bin_edges)\n",
    "    diagnostics.append([diagnostic])\n",
    "\n",
    "# Generate training data from ground truth distribution. \n",
    "projections = ment.simulate(x_true, transforms, diagnostics)"
   ]
  },
  {
   "cell_type": "code",
   "execution_count": null,
   "id": "c2bdc07a-0084-48b7-9021-bc5b1eb68a95",
   "metadata": {},
   "outputs": [],
   "source": [
    "fig, axs = plt.subplots(ncols=5, nrows=2, figheight=2.25, figwidth=7.0)\n",
    "for ax, projection, phase_advance in zip(axs[:10], ment.unravel(projections), phase_advances):\n",
    "    values = projection.values.copy()\n",
    "    values = values / np.max(values)\n",
    "    log_values = np.log10(values + 1.00e-12)\n",
    "    ax.plot(projection.coords, log_values, color=\"black\", lw=1.5)\n",
    "    ax.annotate(r\"$\\theta = {:0.0f}\\degree$\".format(np.degrees(phase_advance)), xy=(0.025, 0.85), xycoords=\"axes fraction\")\n",
    "axs.format(ymax=1.0, ymin=-6.0, ylabel=\"Log density\")"
   ]
  },
  {
   "cell_type": "markdown",
   "id": "d6c41f19-983a-4647-b3fe-15e70d774058",
   "metadata": {},
   "source": [
    "## Reconstruction model"
   ]
  },
  {
   "cell_type": "markdown",
   "id": "39a3ca29-f6e5-4544-bf6e-6de9352e667b",
   "metadata": {},
   "source": [
    "MENT requires a list of transformation functions (`transforms`), which map the distribution from the reconstruction point to each measurement, as well as a list of measured projections (`projections`) as `Histogram1D` objects. It also requires a prior distribution, which we will take to be approximately uniform over the phase space. We will use numerical integration to simulate the projections."
   ]
  },
  {
   "cell_type": "code",
   "execution_count": null,
   "id": "ef80bea3-9b71-40c8-bc78-cb9ba6ffebe7",
   "metadata": {},
   "outputs": [],
   "source": [
    "# Defina a wide Gaussian prior (basically uniform).\n",
    "ndim = 2\n",
    "prior = ment.GaussianPrior(ndim=ndim, scale=5.0)\n",
    "\n",
    "# Create sampler to sample particles from the distribution (for plotting).\n",
    "sampler = ment.GridSampler(grid_limits=limits, grid_shape=(200, 200))\n",
    "\n",
    "# Define integration grid limits and resolution for each measurement. In this case \n",
    "# the grid is one-dimenisonal.\n",
    "integration_size = 100\n",
    "integration_limits = [[limits,] for transform in transforms]\n",
    "\n",
    "# Create MENT reconstruction model.\n",
    "model = ment.MENT(\n",
    "    ndim=2,\n",
    "    projections=projections,\n",
    "    transforms=transforms,\n",
    "    prior=prior,\n",
    "    integration_size=integration_size,\n",
    "    integration_limits=integration_limits,\n",
    "    integration_loop=False,  # vectorized\n",
    "    sampler=sampler,\n",
    "    mode=\"integrate\",\n",
    "    interpolation_kws=dict(method=\"linear\"),\n",
    "    verbose=False,\n",
    ")"
   ]
  },
  {
   "cell_type": "markdown",
   "id": "be8901a7-5af8-4721-9311-f40f782e747c",
   "metadata": {},
   "source": [
    "## Training loop"
   ]
  },
  {
   "cell_type": "markdown",
   "id": "12cdf63a-541d-4288-a095-7114af66ae2b",
   "metadata": {},
   "source": [
    "We train MENT using a nonlinear Gauss-Seidel method. This is a relaxation method that gradually pushes the distribution from the prior to the posterior, i.e. from the unconstrained to constrained maximum-entropy distribution."
   ]
  },
  {
   "cell_type": "code",
   "execution_count": null,
   "id": "f2f245ed-d0a4-47ef-9f48-64543a081a77",
   "metadata": {},
   "outputs": [],
   "source": [
    "def plot_model_proj(x_pred: np.ndarray) -> tuple:\n",
    "    projections_pred = ment.simulate(x_pred, model.transforms, model.diagnostics)\n",
    "    projections_pred = ment.unravel(projections_pred)\n",
    "    projections_meas = ment.unravel(model.projections)\n",
    "\n",
    "    fig, axs = plt.subplots(ncols=5, nrows=2, figheight=2.5, figwidth=7.0)\n",
    "    index = 0\n",
    "    for index in range(nmeas):\n",
    "        ax = axs[index]\n",
    "        projection_pred = projections_pred[index]\n",
    "        projection_meas = projections_meas[index]            \n",
    "        scale = projection_meas.values.max()\n",
    "        ax.plot(projection_pred.coords, np.log10(projection_pred.values / scale + 1.00e-12), color=\"black\", lw=1.5, alpha=0.25)\n",
    "        ax.plot(projection_meas.coords, np.log10(projection_meas.values / scale + 1.00e-12), color=\"black\", lw=0.0, ms=2.0, marker=\".\")\n",
    "        ax.format(ymax=0.5, ymin=-6.0)\n",
    "        ax.annotate(f\"{i:02.0f}\", xy=(0.02, 0.85), xycoords=\"axes fraction\")\n",
    "    axs.format(xlabel=r\"$x$\", ylabel=\"Log density\")\n",
    "    return fig, axs"
   ]
  },
  {
   "cell_type": "code",
   "execution_count": null,
   "id": "70660880-7000-4e94-ba5b-23306ab25225",
   "metadata": {},
   "outputs": [],
   "source": [
    "def plot_model_dist(x_pred: np.ndarray) -> tuple:\n",
    "    fig, axs = plt.subplots(ncols=2, figheight=2.5)\n",
    "    for ax, x in zip(axs, [x_pred, x_true]):\n",
    "        plot_points(x, bins=85, limits=limits, ax=ax, log=True)\n",
    "    axs.format(\n",
    "        toplabels=[\"MENT\", \"TRUE\"], \n",
    "        toplabels_kw=dict(weight=\"normal\", size=\"medium\"), \n",
    "        xlabel=r\"$x$\",\n",
    "        ylabel=r\"$p_x$\",\n",
    "    )\n",
    "    return fig, axs"
   ]
  },
  {
   "cell_type": "code",
   "execution_count": null,
   "id": "32d5e2a9-93fa-474e-93e8-d8cde1cb5c06",
   "metadata": {},
   "outputs": [],
   "source": [
    "for epoch in range(7):\n",
    "    print(\"epoch = {}\".format(epoch))\n",
    "\n",
    "    # Sample particles from the distribution.\n",
    "    x_pred = model.sample(x_true.shape[0])\n",
    "\n",
    "    # Plot the phase space density.\n",
    "    plot_model_dist(x_pred)\n",
    "    plt.show()\n",
    "\n",
    "    # Plot the simulated vs. measured projections.\n",
    "    plot_model_proj(x_pred)\n",
    "    plt.show()\n",
    "    \n",
    "    # Update the model parameters (Lagrange multipliers).\n",
    "    model.gauss_seidel_step(learning_rate=0.85)"
   ]
  },
  {
   "cell_type": "code",
   "execution_count": null,
   "id": "6cb0ba18-7e51-4e99-84f1-1bb3f83dc894",
   "metadata": {},
   "outputs": [],
   "source": []
  }
 ],
 "metadata": {
  "kernelspec": {
   "display_name": "Python [conda env:ment]",
   "language": "python",
   "name": "conda-env-ment-py"
  },
  "language_info": {
   "codemirror_mode": {
    "name": "ipython",
    "version": 3
   },
   "file_extension": ".py",
   "mimetype": "text/x-python",
   "name": "python",
   "nbconvert_exporter": "python",
   "pygments_lexer": "ipython3",
   "version": "3.11.5"
  }
 },
 "nbformat": 4,
 "nbformat_minor": 5
}
