{
 "cells": [
  {
   "cell_type": "code",
   "execution_count": null,
   "id": "a12b8ae0",
   "metadata": {},
   "outputs": [],
   "source": [
    "import torch\n",
    "import matplotlib.pyplot as plt\n",
    "\n",
    "import ment\n",
    "\n",
    "plt.style.use(\"./style.mplstyle\")"
   ]
  },
  {
   "cell_type": "code",
   "execution_count": null,
   "id": "f96bf560",
   "metadata": {},
   "outputs": [],
   "source": [
    "class GaussianMixtureDistribution:\n",
    "    def __init__(self, locs: torch.Tensor, covs: torch.Tensor) -> None:\n",
    "        self.dists = []\n",
    "        for loc, cov in zip(locs, covs):\n",
    "            dist = torch.distributions.MultivariateNormal(loc, cov)\n",
    "            self.dists.append(dist)\n",
    "\n",
    "        self.ndim = len(locs[0])\n",
    "        self.nmodes = len(self.dists)\n",
    "\n",
    "    def sample(self, size: int) -> torch.Tensor:\n",
    "        sizes = torch.ones(self.nmodes) * (size // self.nmodes)\n",
    "\n",
    "        indices = torch.arange(self.nmodes)\n",
    "        if self.nmodes > 1:\n",
    "            indices = indices[sizes > 0]\n",
    "\n",
    "        x = torch.empty(0, device=sizes.device)\n",
    "        for i in indices:\n",
    "            dist = self.dists[i]\n",
    "            size = int(sizes[i])\n",
    "            x_k = dist.sample((size,))\n",
    "            x = torch.cat((x, x_k), dim=0)\n",
    "        return x\n",
    "\n",
    "    def prob(self, x: torch.Tensor) -> None:\n",
    "        p = torch.zeros(x.shape[0])\n",
    "        for dist in self.dists:\n",
    "            p += torch.exp(dist.log_prob(x))\n",
    "        return p"
   ]
  },
  {
   "cell_type": "code",
   "execution_count": null,
   "id": "79c7dfb1",
   "metadata": {},
   "outputs": [],
   "source": [
    "ndim = 2\n",
    "nmodes = 7\n",
    "seed = 11\n",
    "xmax = 7.0\n",
    "\n",
    "torch.manual_seed(seed)\n",
    "\n",
    "dist_locs = []\n",
    "dist_covs = []\n",
    "for _ in range(nmodes):\n",
    "    loc = 5.0 * (torch.rand(size=(ndim,)) - 0.5)\n",
    "    std = 1.0 * (torch.rand(size=(ndim,))) + 0.5\n",
    "    cov = torch.eye(ndim) * std**2\n",
    "    dist_locs.append(loc)\n",
    "    dist_covs.append(cov)\n",
    "\n",
    "dist = GaussianMixtureDistribution(locs=dist_locs, covs=dist_covs)"
   ]
  },
  {
   "cell_type": "markdown",
   "id": "880667a1",
   "metadata": {},
   "source": [
    "## Metropolis-Hastings (MH)"
   ]
  },
  {
   "cell_type": "code",
   "execution_count": null,
   "id": "342f2e3a",
   "metadata": {},
   "outputs": [],
   "source": [
    "chains = 10\n",
    "start = torch.randn((chains, ndim)) * 0.25\n",
    "proposal_cov = torch.eye(ndim) * 0.1\n",
    "\n",
    "sampler = ment.MetropolisHastingsSampler(\n",
    "    ndim=ndim,\n",
    "    start=start,\n",
    "    proposal_cov=proposal_cov,\n",
    "    verbose=0,\n",
    ")\n",
    "\n",
    "size = 50_000\n",
    "x_pred = sampler(dist.prob, size=size)\n",
    "x_true = dist.sample(size=size)\n",
    "\n",
    "xmax = 9.0\n",
    "\n",
    "fig, axs = plt.subplots(figsize=(6.0, 3.0), ncols=2, sharex=True, sharey=True)\n",
    "for ax, x in zip(axs, [x_pred, x_true]):\n",
    "    ax.hist2d(\n",
    "        x[:, 0],\n",
    "        x[:, 1],\n",
    "        bins=64,\n",
    "        range=[[-xmax, xmax], [-xmax, xmax]],\n",
    "        density=True,\n",
    "        cmap=\"viridis\",\n",
    "    )"
   ]
  },
  {
   "cell_type": "markdown",
   "id": "e1590c62",
   "metadata": {},
   "source": [
    "## Hamiltonian Monte Carlo"
   ]
  },
  {
   "cell_type": "code",
   "execution_count": null,
   "id": "11fe8c26",
   "metadata": {},
   "outputs": [],
   "source": [
    "chains = 10\n",
    "step_size = 0.21\n",
    "steps_per_samp = 10\n",
    "\n",
    "sampler = ment.HamiltonianMonteCarloSampler(\n",
    "    ndim=ndim,\n",
    "    start=torch.randn((chains, ndim)) * 0.25**2,\n",
    "    step_size=step_size,\n",
    "    steps_per_samp=steps_per_samp,\n",
    "    burnin=10,\n",
    "    verbose=1,\n",
    ")\n",
    "\n",
    "size = 50_000\n",
    "x_pred = sampler(dist.prob, size=size)\n",
    "x_true = dist.sample(size=size)\n",
    "\n",
    "xmax = 9.0\n",
    "\n",
    "fig, axs = plt.subplots(figsize=(6.0, 3.0), ncols=2, sharex=True, sharey=True)\n",
    "for ax, x in zip(axs, [x_pred, x_true]):\n",
    "    ax.hist2d(\n",
    "        x[:, 0],\n",
    "        x[:, 1],\n",
    "        bins=64,\n",
    "        range=[[-xmax, xmax], [-xmax, xmax]],\n",
    "        density=True,\n",
    "        cmap=\"viridis\",\n",
    "    )"
   ]
  },
  {
   "cell_type": "code",
   "execution_count": null,
   "id": "68101a33",
   "metadata": {},
   "outputs": [],
   "source": []
  }
 ],
 "metadata": {
  "kernelspec": {
   "display_name": "ment",
   "language": "python",
   "name": "python3"
  },
  "language_info": {
   "codemirror_mode": {
    "name": "ipython",
    "version": 3
   },
   "file_extension": ".py",
   "mimetype": "text/x-python",
   "name": "python",
   "nbconvert_exporter": "python",
   "pygments_lexer": "ipython3",
   "version": "3.13.9"
  }
 },
 "nbformat": 4,
 "nbformat_minor": 5
}
