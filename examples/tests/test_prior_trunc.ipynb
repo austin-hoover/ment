{
 "cells": [
  {
   "cell_type": "markdown",
   "id": "91356e41-097b-48f2-9d50-3aa8b1adedc6",
   "metadata": {},
   "source": [
    "# Truncated Gaussian prior"
   ]
  },
  {
   "cell_type": "code",
   "execution_count": null,
   "id": "b9eeefb0-a25a-4bda-80cd-1c70adb03d04",
   "metadata": {
    "execution": {
     "iopub.execute_input": "2025-05-08T16:22:15.767696Z",
     "iopub.status.busy": "2025-05-08T16:22:15.767267Z",
     "iopub.status.idle": "2025-05-08T16:22:16.751265Z",
     "shell.execute_reply": "2025-05-08T16:22:16.750939Z"
    }
   },
   "outputs": [],
   "source": [
    "import numpy as np\n",
    "import ultraplot as uplt\n",
    "from matplotlib import pyplot as plt\n",
    "from matplotlib.patches import Circle\n",
    "\n",
    "import ment"
   ]
  },
  {
   "cell_type": "code",
   "execution_count": null,
   "id": "ce0ccb80-a929-44e3-a5fd-48980ae246a8",
   "metadata": {
    "execution": {
     "iopub.execute_input": "2025-05-08T16:22:16.752937Z",
     "iopub.status.busy": "2025-05-08T16:22:16.752807Z",
     "iopub.status.idle": "2025-05-08T16:22:16.754720Z",
     "shell.execute_reply": "2025-05-08T16:22:16.754476Z"
    }
   },
   "outputs": [],
   "source": [
    "uplt.rc[\"cmap.discrete\"] = False\n",
    "uplt.rc[\"grid\"] = False"
   ]
  },
  {
   "cell_type": "code",
   "execution_count": null,
   "id": "3eff0493-2529-4e61-9fd7-fed5daea17bf",
   "metadata": {
    "execution": {
     "iopub.execute_input": "2025-05-08T16:22:16.755982Z",
     "iopub.status.busy": "2025-05-08T16:22:16.755904Z",
     "iopub.status.idle": "2025-05-08T16:22:17.433713Z",
     "shell.execute_reply": "2025-05-08T16:22:17.433452Z"
    }
   },
   "outputs": [],
   "source": [
    "ndim = 2\n",
    "trunc = 2.5\n",
    "limits = 2 * [(-4.0, 4.0)]\n",
    "\n",
    "priors = [\n",
    "    ment.RectangularTruncatedGaussianPrior(ndim=2, scale=1.0, trunc=trunc),\n",
    "    ment.GaussianPrior(ndim=2, scale=1.0, trunc=trunc),\n",
    "    ment.UniformPrior(ndim=2, scale=trunc),\n",
    "    ment.UniformSphericalPrior(ndim=2, scale=trunc),\n",
    "]\n",
    "\n",
    "for prior in priors:\n",
    "    print(type(prior))\n",
    "\n",
    "    fig, axs = uplt.subplots(ncols=2, figheight=2.5)\n",
    "\n",
    "    x = prior.sample(5_000)\n",
    "    axs[0].scatter(x[:, 0], x[:, 1], color=\"black\", s=1.0, ec=\"None\")\n",
    "\n",
    "    shape = (256, 256)\n",
    "    coords = [np.linspace(limits[i][0], limits[i][1], shape[i]) for i in range(ndim)]\n",
    "    points = np.vstack([C.ravel() for C in np.meshgrid(*coords, indexing=\"ij\")]).T\n",
    "    prob = prior.prob(points).reshape(shape)\n",
    "    prob = np.ma.masked_less_equal(prob, 0.0)\n",
    "    prob = prob / np.max(prob)\n",
    "    axs[1].pcolormesh(\n",
    "        coords[0],\n",
    "        coords[1],\n",
    "        prob.T,\n",
    "        vmax=1.00,\n",
    "        vmin=0.0,\n",
    "        cmap=uplt.Colormap(\"mono\", left=0.05),\n",
    "    )\n",
    "\n",
    "    for ax in axs:\n",
    "        ax.set_xticks([])\n",
    "        ax.set_yticks([])\n",
    "        ax.set_xlim(limits[0])\n",
    "        ax.set_ylim(limits[1])\n",
    "    axs[0].set_title(\"Samples\")\n",
    "    axs[1].set_title(\"Density\")\n",
    "\n",
    "    plt.show()"
   ]
  },
  {
   "cell_type": "code",
   "execution_count": null,
   "id": "624ad320-8d04-4f60-bd65-793dfaef58a0",
   "metadata": {},
   "outputs": [],
   "source": []
  }
 ],
 "metadata": {
  "kernelspec": {
   "display_name": "ment",
   "language": "python",
   "name": "ment"
  },
  "language_info": {
   "codemirror_mode": {
    "name": "ipython",
    "version": 3
   },
   "file_extension": ".py",
   "mimetype": "text/x-python",
   "name": "python",
   "nbconvert_exporter": "python",
   "pygments_lexer": "ipython3",
   "version": "3.12.8"
  }
 },
 "nbformat": 4,
 "nbformat_minor": 5
}
