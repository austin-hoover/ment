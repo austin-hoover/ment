{
 "cells": [
  {
   "cell_type": "markdown",
   "id": "c2ac3b4e-3775-47e7-b334-46e8b1e13077",
   "metadata": {},
   "source": [
    "# 4:2 MENT — random uncoupled phase advances"
   ]
  },
  {
   "cell_type": "code",
   "execution_count": null,
   "id": "553be401-ef87-43c2-81ae-82a085fd7fbe",
   "metadata": {
    "execution": {
     "iopub.execute_input": "2025-02-25T19:39:37.599747Z",
     "iopub.status.busy": "2025-02-25T19:39:37.599291Z",
     "iopub.status.idle": "2025-02-25T19:39:38.432371Z",
     "shell.execute_reply": "2025-02-25T19:39:38.432007Z"
    }
   },
   "outputs": [],
   "source": [
    "import os\n",
    "import sys\n",
    "import time\n",
    "\n",
    "import numpy as np\n",
    "import psdist as ps\n",
    "import psdist.plot as psv\n",
    "import ultraplot as plt\n",
    "from ipywidgets import interact\n",
    "from tqdm.notebook import tqdm\n",
    "from tqdm.notebook import trange\n",
    "\n",
    "import ment\n",
    "from ment.train.plot import PlotDistCorner\n",
    "from ment.train.plot import PlotProj2D_Contour\n",
    "from ment.utils import unravel"
   ]
  },
  {
   "cell_type": "code",
   "execution_count": null,
   "id": "5d223313-d7d0-41ec-b323-bf36b3619f03",
   "metadata": {
    "execution": {
     "iopub.execute_input": "2025-02-25T19:39:38.433969Z",
     "iopub.status.busy": "2025-02-25T19:39:38.433854Z",
     "iopub.status.idle": "2025-02-25T19:39:38.435915Z",
     "shell.execute_reply": "2025-02-25T19:39:38.435650Z"
    }
   },
   "outputs": [],
   "source": [
    "plt.rc[\"cmap.discrete\"] = False\n",
    "plt.rc[\"cmap.sequential\"] = \"viridis\"\n",
    "plt.rc[\"figure.facecolor\"] = \"white\"\n",
    "plt.rc[\"grid\"] = False"
   ]
  },
  {
   "cell_type": "markdown",
   "id": "2b06b0ea-9a6c-4f57-b05a-f0e5b1d0cbbc",
   "metadata": {},
   "source": [
    "## Settings"
   ]
  },
  {
   "cell_type": "code",
   "execution_count": null,
   "id": "5b2e7d58-19dc-42d6-8ca5-e6201240dc5c",
   "metadata": {
    "execution": {
     "iopub.execute_input": "2025-02-25T19:39:38.437160Z",
     "iopub.status.busy": "2025-02-25T19:39:38.437084Z",
     "iopub.status.idle": "2025-02-25T19:39:38.438803Z",
     "shell.execute_reply": "2025-02-25T19:39:38.438581Z"
    }
   },
   "outputs": [],
   "source": [
    "dist_name = \"gaussian-mixture\"\n",
    "ndim = 4\n",
    "nmeas = 10\n",
    "xmax = 3.5\n",
    "seed = 12345\n",
    "nbins = 50"
   ]
  },
  {
   "cell_type": "markdown",
   "id": "98da359a-b574-4d32-ac37-070006133006",
   "metadata": {},
   "source": [
    "## Source distribution"
   ]
  },
  {
   "cell_type": "code",
   "execution_count": null,
   "id": "4676ab41-fca5-441e-bd1d-8ccab2f1299f",
   "metadata": {
    "execution": {
     "iopub.execute_input": "2025-02-25T19:39:38.439913Z",
     "iopub.status.busy": "2025-02-25T19:39:38.439832Z",
     "iopub.status.idle": "2025-02-25T19:39:38.552863Z",
     "shell.execute_reply": "2025-02-25T19:39:38.552506Z"
    }
   },
   "outputs": [],
   "source": [
    "dist = ment.dist.get_dist(dist_name, ndim=ndim, seed=seed)\n",
    "x_true = dist.sample(1_000_000)"
   ]
  },
  {
   "cell_type": "code",
   "execution_count": null,
   "id": "35ce0a95-a5ce-407c-87b6-c6e688b78a32",
   "metadata": {
    "execution": {
     "iopub.execute_input": "2025-02-25T19:39:38.554573Z",
     "iopub.status.busy": "2025-02-25T19:39:38.554435Z",
     "iopub.status.idle": "2025-02-25T19:39:39.671073Z",
     "shell.execute_reply": "2025-02-25T19:39:39.670790Z"
    }
   },
   "outputs": [],
   "source": [
    "limits = ndim * [(-xmax, xmax)]\n",
    "\n",
    "grid = psv.CornerGrid(ndim, figwidth=(ndim * 1.25))\n",
    "grid.plot_points(x_true, limits=limits, bins=64, mask=False)\n",
    "plt.show()"
   ]
  },
  {
   "cell_type": "markdown",
   "id": "a3730928-01e3-4592-856f-eff841c4bc7b",
   "metadata": {},
   "source": [
    "## Data generation"
   ]
  },
  {
   "cell_type": "code",
   "execution_count": null,
   "id": "0f155382-e7f1-4dc7-ac77-9a6bb370a14e",
   "metadata": {
    "execution": {
     "iopub.execute_input": "2025-02-25T19:39:39.672467Z",
     "iopub.status.busy": "2025-02-25T19:39:39.672364Z",
     "iopub.status.idle": "2025-02-25T19:39:39.674074Z",
     "shell.execute_reply": "2025-02-25T19:39:39.673819Z"
    }
   },
   "outputs": [],
   "source": [
    "blur = 0.0\n",
    "kde = False\n",
    "kde_bandwidth_frac = 1.0\n",
    "axis_meas = (0, 2)"
   ]
  },
  {
   "cell_type": "markdown",
   "id": "1fc5ad92-09ff-4f97-862d-30bdae8109ad",
   "metadata": {},
   "source": [
    "Create phase space transformations."
   ]
  },
  {
   "cell_type": "code",
   "execution_count": null,
   "id": "703b8021-5f59-4a34-9a65-005c16e92ef5",
   "metadata": {
    "execution": {
     "iopub.execute_input": "2025-02-25T19:39:39.675272Z",
     "iopub.status.busy": "2025-02-25T19:39:39.675187Z",
     "iopub.status.idle": "2025-02-25T19:39:39.677609Z",
     "shell.execute_reply": "2025-02-25T19:39:39.677400Z"
    }
   },
   "outputs": [],
   "source": [
    "rng = np.random.default_rng(seed)\n",
    "phase_advances = rng.uniform(0.0, np.pi, size=(nmeas, 2))\n",
    "transfer_matrices = []\n",
    "for mux, muy in phase_advances:\n",
    "    matrix = np.eye(ndim)\n",
    "    matrix[0:2, 0:2] = ment.sim.rotation_matrix(mux)\n",
    "    matrix[2:4, 2:4] = ment.sim.rotation_matrix(muy)\n",
    "    transfer_matrices.append(matrix)\n",
    "\n",
    "transforms = []\n",
    "for matrix in transfer_matrices:\n",
    "    transform = ment.sim.LinearTransform(matrix)\n",
    "    transforms.append(transform)"
   ]
  },
  {
   "cell_type": "markdown",
   "id": "4010aa2c-969d-4ccb-9c68-0186dad27e0c",
   "metadata": {},
   "source": [
    "Create histogram diagnostics."
   ]
  },
  {
   "cell_type": "code",
   "execution_count": null,
   "id": "ea58e341-3601-4317-afaa-2470492ee59d",
   "metadata": {
    "execution": {
     "iopub.execute_input": "2025-02-25T19:39:39.678720Z",
     "iopub.status.busy": "2025-02-25T19:39:39.678630Z",
     "iopub.status.idle": "2025-02-25T19:39:39.680862Z",
     "shell.execute_reply": "2025-02-25T19:39:39.680658Z"
    }
   },
   "outputs": [],
   "source": [
    "axis_proj = axis_meas\n",
    "bin_edges = 2 * [np.linspace(-xmax, xmax, nbins + 1)]\n",
    "\n",
    "diagnostics = []\n",
    "for transform in transforms:\n",
    "    diagnostic = ment.diag.HistogramND(\n",
    "        axis=axis_meas,\n",
    "        edges=bin_edges,\n",
    "        kde=kde,\n",
    "        kde_bandwidth_frac=kde_bandwidth_frac,\n",
    "        blur=blur,\n",
    "        thresh=0.0,\n",
    "        thresh_type=\"abs\",\n",
    "    )\n",
    "    diagnostics.append([diagnostic])"
   ]
  },
  {
   "cell_type": "markdown",
   "id": "fdedbb13-7929-45a9-813d-796ce473c4c6",
   "metadata": {},
   "source": [
    "Generate data from the source distribution."
   ]
  },
  {
   "cell_type": "code",
   "execution_count": null,
   "id": "9ab43fb9-e0cc-4781-83cd-9e59785113e1",
   "metadata": {
    "execution": {
     "iopub.execute_input": "2025-02-25T19:39:39.681910Z",
     "iopub.status.busy": "2025-02-25T19:39:39.681826Z",
     "iopub.status.idle": "2025-02-25T19:39:40.326062Z",
     "shell.execute_reply": "2025-02-25T19:39:40.325680Z"
    }
   },
   "outputs": [],
   "source": [
    "projections = ment.simulate_with_diag_update(\n",
    "    x_true,\n",
    "    transforms,\n",
    "    diagnostics,\n",
    "    kde=False,\n",
    "    blur=False,\n",
    "    thresh=5.00e-03,\n",
    ")"
   ]
  },
  {
   "cell_type": "code",
   "execution_count": null,
   "id": "b1bea679-113c-4894-a5c4-000133b01eb2",
   "metadata": {
    "execution": {
     "iopub.execute_input": "2025-02-25T19:39:40.327716Z",
     "iopub.status.busy": "2025-02-25T19:39:40.327618Z",
     "iopub.status.idle": "2025-02-25T19:39:40.329389Z",
     "shell.execute_reply": "2025-02-25T19:39:40.329149Z"
    }
   },
   "outputs": [],
   "source": [
    "# @interact(index=(0, nmeas - 1))\n",
    "# def update(index: int):\n",
    "#     coords = unravel(projections)[index].coords\n",
    "#     values = unravel(projections)[index].values\n",
    "\n",
    "#     fig, ax = plt.subplots()\n",
    "#     ax.pcolormesh(coords[0], coords[1], values.T, colorbar=True,)"
   ]
  },
  {
   "cell_type": "markdown",
   "id": "feded3ff-bf64-4dd0-aec0-8bfa50234f1f",
   "metadata": {},
   "source": [
    "## Reconstruction model"
   ]
  },
  {
   "cell_type": "code",
   "execution_count": null,
   "id": "9d34cfd0-da30-499f-8beb-cc8aa8653c3e",
   "metadata": {
    "execution": {
     "iopub.execute_input": "2025-02-25T19:39:40.330551Z",
     "iopub.status.busy": "2025-02-25T19:39:40.330469Z",
     "iopub.status.idle": "2025-02-25T19:39:40.333598Z",
     "shell.execute_reply": "2025-02-25T19:39:40.333414Z"
    }
   },
   "outputs": [],
   "source": [
    "prior = ment.GaussianPrior(ndim=ndim, scale=1.0)\n",
    "\n",
    "samp_grid_res = 33\n",
    "samp_noise = 0.0\n",
    "samp_grid_shape = ndim * [samp_grid_res]\n",
    "samp_grid_limits = limits\n",
    "\n",
    "sampler = ment.GridSampler(\n",
    "    grid_limits=samp_grid_limits,\n",
    "    grid_shape=samp_grid_shape,\n",
    "    noise=samp_noise,\n",
    ")\n",
    "\n",
    "integration_limits = [limits[axis] for axis in range(ndim) if axis not in axis_proj]\n",
    "integration_limits = [[integration_limits]] * len(transforms)\n",
    "\n",
    "model = ment.MENT(\n",
    "    ndim=ndim,\n",
    "    transforms=transforms,\n",
    "    projections=projections,\n",
    "    prior=prior,\n",
    "    interpolation_kws=dict(method=\"linear\"),\n",
    "    sampler=sampler,\n",
    "    nsamp=200_000,\n",
    "    integration_limits=integration_limits,\n",
    "    integration_size=(15**4),\n",
    "    mode=\"sample\",  # {\"sample\", \"integrate\"}\n",
    "    verbose=0,\n",
    ")"
   ]
  },
  {
   "cell_type": "markdown",
   "id": "adb5bd95-d320-4dc0-bb13-a14673ced12e",
   "metadata": {},
   "source": [
    "## Train"
   ]
  },
  {
   "cell_type": "code",
   "execution_count": null,
   "id": "1aa2d95c-6f15-4e69-a743-00fc2ea45e69",
   "metadata": {
    "execution": {
     "iopub.execute_input": "2025-02-25T19:39:40.334708Z",
     "iopub.status.busy": "2025-02-25T19:39:40.334623Z",
     "iopub.status.idle": "2025-02-25T19:39:40.336142Z",
     "shell.execute_reply": "2025-02-25T19:39:40.335936Z"
    }
   },
   "outputs": [],
   "source": [
    "plot_nsamp = x_true.shape[0]"
   ]
  },
  {
   "cell_type": "code",
   "execution_count": null,
   "id": "4da258ef-f7c8-43ba-bab2-22a589f4aac8",
   "metadata": {
    "execution": {
     "iopub.execute_input": "2025-02-25T19:39:40.337137Z",
     "iopub.status.busy": "2025-02-25T19:39:40.337058Z",
     "iopub.status.idle": "2025-02-25T19:39:40.340091Z",
     "shell.execute_reply": "2025-02-25T19:39:40.339880Z"
    }
   },
   "outputs": [],
   "source": [
    "def plot_model(model):\n",
    "    figs = []\n",
    "\n",
    "    # Sample particles\n",
    "    x_pred = model.sample(plot_nsamp)\n",
    "\n",
    "    # Plot reconstructed vs. true distribution\n",
    "    grid = psv.CornerGrid(ndim, figwidth=(ndim * 1.25), diag_shrink=0.80)\n",
    "    grid.plot_points(\n",
    "        x_pred,\n",
    "        limits=limits,\n",
    "        bins=65,\n",
    "        mask=False,\n",
    "        process_kws=dict(blur=0.0),\n",
    "        cmap=\"viridis\",\n",
    "    )\n",
    "    figs.append(grid.fig)\n",
    "\n",
    "    # Simulate measurements\n",
    "    projections_true = ment.sim.copy_histograms(model.projections)\n",
    "    projections_pred = ment.sim.copy_histograms(model.diagnostics)\n",
    "    projections_pred = ment.sim.simulate_with_diag_update(\n",
    "        x_pred, transforms, projections_pred, kde=False, blur=False\n",
    "    )\n",
    "\n",
    "    projections_true = unravel(projections_true)\n",
    "    projections_pred = unravel(projections_pred)\n",
    "\n",
    "    # Plot simulated vs. measured projections.\n",
    "    contour_levels = np.linspace(0.01, 1.0, 7)\n",
    "    contour_colors = [\"black\", \"red\"]\n",
    "    plot_kws = dict(\n",
    "        process_kws=dict(blur=1.0, scale=\"max\"),\n",
    "        kind=\"contour\",\n",
    "        levels=contour_levels,\n",
    "        lw=0.9,\n",
    "    )\n",
    "\n",
    "    ncols = min(nmeas, 7)\n",
    "    nrows = int(np.ceil(nmeas / ncols))\n",
    "    fig, axs = plt.subplots(ncols=ncols, nrows=nrows, figwidth=(1.1 * ncols))\n",
    "    for proj_true, proj_pred, ax in zip(projections_true, projections_pred, axs):\n",
    "        psv.plot_hist(proj_true, ax=ax, colors=contour_colors[0], **plot_kws)\n",
    "        psv.plot_hist(proj_pred, ax=ax, colors=contour_colors[1], **plot_kws)\n",
    "    figs.append(fig)\n",
    "\n",
    "    return figs"
   ]
  },
  {
   "cell_type": "code",
   "execution_count": null,
   "id": "042fc5e4-c391-4198-9ada-ef883db3c705",
   "metadata": {
    "execution": {
     "iopub.execute_input": "2025-02-25T19:39:40.341125Z",
     "iopub.status.busy": "2025-02-25T19:39:40.341037Z",
     "iopub.status.idle": "2025-02-25T19:40:06.943568Z",
     "shell.execute_reply": "2025-02-25T19:40:06.943295Z"
    }
   },
   "outputs": [],
   "source": [
    "trainer = ment.train.Trainer(\n",
    "    model,\n",
    "    plot_func=plot_model,\n",
    "    eval_func=ment.train.Evaluator(n_samples=100_000),\n",
    "    notebook=True,\n",
    ")\n",
    "\n",
    "trainer.train(epochs=3, learning_rate=0.90)"
   ]
  },
  {
   "cell_type": "markdown",
   "id": "5bcd9f99-5931-4f01-96b7-9e7d0e4e3647",
   "metadata": {},
   "source": [
    "## Evaluate"
   ]
  },
  {
   "cell_type": "code",
   "execution_count": null,
   "id": "dac52448-c809-4783-a3ab-02b1280f420f",
   "metadata": {
    "execution": {
     "iopub.execute_input": "2025-02-25T19:40:06.944927Z",
     "iopub.status.busy": "2025-02-25T19:40:06.944846Z",
     "iopub.status.idle": "2025-02-25T19:40:07.516057Z",
     "shell.execute_reply": "2025-02-25T19:40:07.515660Z"
    }
   },
   "outputs": [],
   "source": [
    "x_pred = model.unnormalize(model.sample(1_000_000))"
   ]
  },
  {
   "cell_type": "code",
   "execution_count": null,
   "id": "734ce265-8c2d-49af-adec-88b76d55c2c7",
   "metadata": {
    "execution": {
     "iopub.execute_input": "2025-02-25T19:40:07.517470Z",
     "iopub.status.busy": "2025-02-25T19:40:07.517382Z",
     "iopub.status.idle": "2025-02-25T19:40:09.283912Z",
     "shell.execute_reply": "2025-02-25T19:40:09.283650Z"
    }
   },
   "outputs": [],
   "source": [
    "grid = psv.CornerGrid(\n",
    "    ndim, figheight=(ndim * 1.10), figwidth=(ndim * 1.25), diag_rspine=True, space=1.5\n",
    ")\n",
    "for i, x in enumerate([x_true, x_pred]):\n",
    "    color = [\"black\", \"red\"][i]\n",
    "    lw = [1.2, 0.7][i]\n",
    "    grid.plot(\n",
    "        x,\n",
    "        limits=limits,\n",
    "        bins=75,\n",
    "        diag_kws=dict(color=color, lw=(lw * 1.25)),\n",
    "        kind=\"contour\",\n",
    "        process_kws=dict(blur=0.0, scale=\"max\"),\n",
    "        mask=False,\n",
    "        levels=np.linspace(0.01, 1.0, 7),\n",
    "        color=color,\n",
    "        lw=lw,\n",
    "    )\n",
    "plt.show()"
   ]
  },
  {
   "cell_type": "code",
   "execution_count": null,
   "id": "a65912e5-7b28-45b4-a7c1-e71ca02dbe5d",
   "metadata": {
    "execution": {
     "iopub.execute_input": "2025-02-25T19:40:09.285220Z",
     "iopub.status.busy": "2025-02-25T19:40:09.285118Z",
     "iopub.status.idle": "2025-02-25T19:40:11.231930Z",
     "shell.execute_reply": "2025-02-25T19:40:11.231660Z"
    }
   },
   "outputs": [],
   "source": [
    "grid = psv.CornerGrid(\n",
    "    ndim, figheight=(ndim * 1.10), figwidth=(ndim * 1.25), diag_rspine=True, space=1.5\n",
    ")\n",
    "for i, x in enumerate([x_true, x_pred]):\n",
    "    color = [\"black\", \"red\"][i]\n",
    "    lw = [1.2, 0.7][i]\n",
    "    grid.plot(\n",
    "        x,\n",
    "        limits=limits,\n",
    "        bins=75,\n",
    "        diag_kws=dict(color=color, lw=(lw * 1.25)),\n",
    "        kind=\"contour\",\n",
    "        process_kws=dict(blur=1.0, scale=\"max\"),\n",
    "        mask=False,\n",
    "        levels=(10.0 ** np.linspace(-3.0, 0.0, 7)),\n",
    "        color=color,\n",
    "        lw=lw,\n",
    "    )\n",
    "    grid.format_diag(yscale=\"log\", yformatter=\"log\", ymax=5.0, ymin=0.0001)\n",
    "plt.show()"
   ]
  },
  {
   "cell_type": "code",
   "execution_count": null,
   "id": "a731b78c-55f0-4bb1-9e79-837827834401",
   "metadata": {},
   "outputs": [],
   "source": []
  }
 ],
 "metadata": {
  "kernelspec": {
   "display_name": "ment",
   "language": "python",
   "name": "ment"
  },
  "language_info": {
   "codemirror_mode": {
    "name": "ipython",
    "version": 3
   },
   "file_extension": ".py",
   "mimetype": "text/x-python",
   "name": "python",
   "nbconvert_exporter": "python",
   "pygments_lexer": "ipython3",
   "version": "3.12.8"
  }
 },
 "nbformat": 4,
 "nbformat_minor": 5
}
