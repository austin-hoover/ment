{
 "cells": [
  {
   "cell_type": "markdown",
   "id": "c2ac3b4e-3775-47e7-b334-46e8b1e13077",
   "metadata": {},
   "source": [
    "# N:2 MENT — sample-based solver"
   ]
  },
  {
   "cell_type": "code",
   "execution_count": null,
   "id": "553be401-ef87-43c2-81ae-82a085fd7fbe",
   "metadata": {
    "execution": {
     "iopub.execute_input": "2025-05-08T16:58:33.578978Z",
     "iopub.status.busy": "2025-05-08T16:58:33.578551Z",
     "iopub.status.idle": "2025-05-08T16:58:34.574406Z",
     "shell.execute_reply": "2025-05-08T16:58:34.574140Z"
    }
   },
   "outputs": [],
   "source": [
    "import os\n",
    "import sys\n",
    "import time\n",
    "\n",
    "import numpy as np\n",
    "import psdist as ps\n",
    "import psdist.plot as psv\n",
    "import ultraplot as plt\n",
    "from ipywidgets import interact\n",
    "from tqdm.notebook import tqdm\n",
    "from tqdm.notebook import trange\n",
    "\n",
    "import ment\n",
    "from ment.train.plot import PlotDistCorner\n",
    "from ment.train.plot import PlotProj2D_Contour\n",
    "from ment.utils import unravel"
   ]
  },
  {
   "cell_type": "code",
   "execution_count": null,
   "id": "802e2ae5-fc61-4ca0-a132-635bb7a5dc5f",
   "metadata": {
    "execution": {
     "iopub.execute_input": "2025-05-08T16:58:34.575938Z",
     "iopub.status.busy": "2025-05-08T16:58:34.575821Z",
     "iopub.status.idle": "2025-05-08T16:58:34.577883Z",
     "shell.execute_reply": "2025-05-08T16:58:34.577634Z"
    }
   },
   "outputs": [],
   "source": [
    "plt.rc[\"cmap.discrete\"] = False\n",
    "plt.rc[\"cmap.sequential\"] = \"viridis\"\n",
    "plt.rc[\"figure.facecolor\"] = \"white\"\n",
    "plt.rc[\"grid\"] = False"
   ]
  },
  {
   "cell_type": "markdown",
   "id": "98da359a-b574-4d32-ac37-070006133006",
   "metadata": {},
   "source": [
    "## Source distribution"
   ]
  },
  {
   "cell_type": "code",
   "execution_count": null,
   "id": "4676ab41-fca5-441e-bd1d-8ccab2f1299f",
   "metadata": {
    "execution": {
     "iopub.execute_input": "2025-05-08T16:58:34.579113Z",
     "iopub.status.busy": "2025-05-08T16:58:34.579036Z",
     "iopub.status.idle": "2025-05-08T16:58:34.580664Z",
     "shell.execute_reply": "2025-05-08T16:58:34.580451Z"
    }
   },
   "outputs": [],
   "source": [
    "dist_name = \"gaussian-mixture\"\n",
    "ndim = 6\n",
    "xmax = 3.5\n",
    "seed = 12345"
   ]
  },
  {
   "cell_type": "code",
   "execution_count": null,
   "id": "43dc0de1-105c-42bf-aa24-4319e2a21a36",
   "metadata": {
    "execution": {
     "iopub.execute_input": "2025-05-08T16:58:34.581723Z",
     "iopub.status.busy": "2025-05-08T16:58:34.581642Z",
     "iopub.status.idle": "2025-05-08T16:58:34.730277Z",
     "shell.execute_reply": "2025-05-08T16:58:34.729997Z"
    }
   },
   "outputs": [],
   "source": [
    "dist = ment.dist.get_dist(dist_name, ndim=ndim, seed=seed)\n",
    "x_true = dist.sample(1_000_000)"
   ]
  },
  {
   "cell_type": "code",
   "execution_count": null,
   "id": "35ce0a95-a5ce-407c-87b6-c6e688b78a32",
   "metadata": {
    "execution": {
     "iopub.execute_input": "2025-05-08T16:58:34.731740Z",
     "iopub.status.busy": "2025-05-08T16:58:34.731654Z",
     "iopub.status.idle": "2025-05-08T16:58:37.326671Z",
     "shell.execute_reply": "2025-05-08T16:58:37.326386Z"
    }
   },
   "outputs": [],
   "source": [
    "limits = ndim * [(-xmax, xmax)]\n",
    "\n",
    "grid = psv.CornerGrid(ndim, figwidth=(ndim * 1.25))\n",
    "grid.plot_points(x_true, limits=limits, bins=64, mask=False)\n",
    "plt.show()"
   ]
  },
  {
   "cell_type": "markdown",
   "id": "a3730928-01e3-4592-856f-eff841c4bc7b",
   "metadata": {},
   "source": [
    "## Data generation"
   ]
  },
  {
   "cell_type": "code",
   "execution_count": null,
   "id": "0f155382-e7f1-4dc7-ac77-9a6bb370a14e",
   "metadata": {
    "execution": {
     "iopub.execute_input": "2025-05-08T16:58:37.328117Z",
     "iopub.status.busy": "2025-05-08T16:58:37.328001Z",
     "iopub.status.idle": "2025-05-08T16:58:37.329665Z",
     "shell.execute_reply": "2025-05-08T16:58:37.329433Z"
    }
   },
   "outputs": [],
   "source": [
    "nmeas = ndim * (ndim - 1) // 2\n",
    "nbins = 64\n",
    "blur = 0.0\n",
    "kde = False\n",
    "kde_bandwidth_frac = 1.0\n",
    "axis_meas = (0, 2)"
   ]
  },
  {
   "cell_type": "markdown",
   "id": "6539b4c1-9594-41b2-ac45-a17d02e4d785",
   "metadata": {},
   "source": [
    "Create phase space transformations (permutation matrices)."
   ]
  },
  {
   "cell_type": "code",
   "execution_count": null,
   "id": "703b8021-5f59-4a34-9a65-005c16e92ef5",
   "metadata": {
    "execution": {
     "iopub.execute_input": "2025-05-08T16:58:37.330831Z",
     "iopub.status.busy": "2025-05-08T16:58:37.330740Z",
     "iopub.status.idle": "2025-05-08T16:58:37.333155Z",
     "shell.execute_reply": "2025-05-08T16:58:37.332939Z"
    }
   },
   "outputs": [],
   "source": [
    "transfer_matrices = []\n",
    "for i in range(ndim):\n",
    "    for j in range(i):\n",
    "        matrices = []\n",
    "        for k, l in zip(axis_meas, (j, i)):\n",
    "            matrix = np.identity(ndim)\n",
    "            matrix[k, k] = matrix[l, l] = 0.0\n",
    "            matrix[k, l] = matrix[l, k] = 1.0\n",
    "            matrices.append(matrix)\n",
    "        transfer_matrices.append(np.linalg.multi_dot(matrices[::-1]))\n",
    "\n",
    "transforms = []\n",
    "for matrix in transfer_matrices:\n",
    "    transform = ment.sim.LinearTransform(matrix)\n",
    "    transforms.append(transform)"
   ]
  },
  {
   "cell_type": "markdown",
   "id": "57c49650-c647-4f6b-94dd-ef5ba46696b1",
   "metadata": {},
   "source": [
    "Create histogram diagnostics."
   ]
  },
  {
   "cell_type": "code",
   "execution_count": null,
   "id": "ea58e341-3601-4317-afaa-2470492ee59d",
   "metadata": {
    "execution": {
     "iopub.execute_input": "2025-05-08T16:58:37.334290Z",
     "iopub.status.busy": "2025-05-08T16:58:37.334205Z",
     "iopub.status.idle": "2025-05-08T16:58:37.336482Z",
     "shell.execute_reply": "2025-05-08T16:58:37.336296Z"
    }
   },
   "outputs": [],
   "source": [
    "axis_proj = axis_meas\n",
    "bin_edges = 2 * [np.linspace(-xmax, xmax, nbins + 1)]\n",
    "\n",
    "diagnostics = []\n",
    "for transform in transforms:\n",
    "    diagnostic = ment.diag.HistogramND(\n",
    "        axis=axis_meas,\n",
    "        edges=bin_edges,\n",
    "        kde=kde,\n",
    "        kde_bandwidth_frac=kde_bandwidth_frac,\n",
    "        blur=blur,\n",
    "        thresh=0.0,\n",
    "        thresh_type=\"abs\",\n",
    "    )\n",
    "    diagnostics.append([diagnostic])"
   ]
  },
  {
   "cell_type": "markdown",
   "id": "ff14e764-208e-4ca8-b57e-5d9c96a76538",
   "metadata": {},
   "source": [
    "Generate data from the source distribution."
   ]
  },
  {
   "cell_type": "code",
   "execution_count": null,
   "id": "9ab43fb9-e0cc-4781-83cd-9e59785113e1",
   "metadata": {
    "execution": {
     "iopub.execute_input": "2025-05-08T16:58:37.337593Z",
     "iopub.status.busy": "2025-05-08T16:58:37.337508Z",
     "iopub.status.idle": "2025-05-08T16:58:38.332714Z",
     "shell.execute_reply": "2025-05-08T16:58:38.332422Z"
    }
   },
   "outputs": [],
   "source": [
    "projections = ment.simulate_with_diag_update(\n",
    "    x_true,\n",
    "    transforms,\n",
    "    diagnostics,\n",
    "    kde=False,\n",
    "    blur=False,\n",
    "    thresh=5.00e-03,\n",
    ")"
   ]
  },
  {
   "cell_type": "code",
   "execution_count": null,
   "id": "b1bea679-113c-4894-a5c4-000133b01eb2",
   "metadata": {
    "execution": {
     "iopub.execute_input": "2025-05-08T16:58:38.334150Z",
     "iopub.status.busy": "2025-05-08T16:58:38.334074Z",
     "iopub.status.idle": "2025-05-08T16:58:38.335864Z",
     "shell.execute_reply": "2025-05-08T16:58:38.335529Z"
    }
   },
   "outputs": [],
   "source": [
    "# @interact(index=(0, nmeas - 1))\n",
    "# def update(index: int):\n",
    "#     coords = unravel(projections)[index].coords\n",
    "#     values = unravel(projections)[index].values\n",
    "\n",
    "#     fig, ax = plt.subplots()\n",
    "#     ax.pcolormesh(coords[0], coords[1], values.T, colorbar=True,)"
   ]
  },
  {
   "cell_type": "markdown",
   "id": "feded3ff-bf64-4dd0-aec0-8bfa50234f1f",
   "metadata": {},
   "source": [
    "## Model"
   ]
  },
  {
   "cell_type": "code",
   "execution_count": null,
   "id": "08858a8b-9b2a-43dc-bf62-51052bef7be6",
   "metadata": {
    "execution": {
     "iopub.execute_input": "2025-05-08T16:58:38.337015Z",
     "iopub.status.busy": "2025-05-08T16:58:38.336940Z",
     "iopub.status.idle": "2025-05-08T16:58:38.338666Z",
     "shell.execute_reply": "2025-05-08T16:58:38.338439Z"
    }
   },
   "outputs": [],
   "source": [
    "prior = ment.GaussianPrior(ndim=ndim, scale=1.0)"
   ]
  },
  {
   "cell_type": "code",
   "execution_count": null,
   "id": "a9d10363-e5a8-4b2f-84c5-036eaf2482ee",
   "metadata": {
    "execution": {
     "iopub.execute_input": "2025-05-08T16:58:38.339740Z",
     "iopub.status.busy": "2025-05-08T16:58:38.339655Z",
     "iopub.status.idle": "2025-05-08T16:58:38.342406Z",
     "shell.execute_reply": "2025-05-08T16:58:38.342189Z"
    }
   },
   "outputs": [],
   "source": [
    "samp_method = \"mcmc\"\n",
    "\n",
    "if samp_method == \"grid\":\n",
    "    samp_grid_res = 32\n",
    "    samp_noise = 0.5\n",
    "    samp_grid_shape = ndim * [samp_grid_res]\n",
    "    samp_grid_limits = limits\n",
    "\n",
    "    sampler = ment.samp.GridSampler(\n",
    "        grid_limits=samp_grid_limits,\n",
    "        grid_shape=samp_grid_shape,\n",
    "        noise=samp_noise,\n",
    "    )\n",
    "elif samp_method == \"mcmc\":\n",
    "    samp_burnin = 500\n",
    "    samp_chains = 1000\n",
    "    samp_prop_cov = np.eye(ndim) * (0.5**2)\n",
    "    samp_start = np.random.normal(size=(samp_chains, ndim)) * 0.50\n",
    "\n",
    "    sampler = ment.MetropolisHastingsSampler(\n",
    "        ndim=ndim,\n",
    "        chains=samp_chains,\n",
    "        start=samp_start,\n",
    "        proposal_cov=samp_prop_cov,\n",
    "        burnin=samp_burnin,\n",
    "        shuffle=True,\n",
    "        verbose=False,\n",
    "        debug=False,\n",
    "        noise_scale=0.10,  # slight smoothing\n",
    "        noise_type=\"gaussian\",\n",
    "    )\n",
    "\n",
    "else:\n",
    "    raise ValueError"
   ]
  },
  {
   "cell_type": "code",
   "execution_count": null,
   "id": "66a1860c-5f9b-46d0-815e-ae67078760df",
   "metadata": {
    "execution": {
     "iopub.execute_input": "2025-05-08T16:58:38.343444Z",
     "iopub.status.busy": "2025-05-08T16:58:38.343359Z",
     "iopub.status.idle": "2025-05-08T16:58:38.345878Z",
     "shell.execute_reply": "2025-05-08T16:58:38.345673Z"
    }
   },
   "outputs": [],
   "source": [
    "model = ment.MENT(\n",
    "    ndim=ndim,\n",
    "    transforms=transforms,\n",
    "    projections=projections,\n",
    "    prior=prior,\n",
    "    interpolation_kws=dict(method=\"linear\"),\n",
    "    sampler=sampler,\n",
    "    nsamp=500_000,\n",
    "    mode=\"sample\",\n",
    "    verbose=True,\n",
    ")"
   ]
  },
  {
   "cell_type": "code",
   "execution_count": null,
   "id": "15b80022-e249-4f25-a837-d6b076186ac5",
   "metadata": {
    "execution": {
     "iopub.execute_input": "2025-05-08T16:58:38.346976Z",
     "iopub.status.busy": "2025-05-08T16:58:38.346899Z",
     "iopub.status.idle": "2025-05-08T16:58:39.146264Z",
     "shell.execute_reply": "2025-05-08T16:58:39.146014Z"
    }
   },
   "outputs": [],
   "source": [
    "sampler.debug = True\n",
    "model.sample(1000)\n",
    "sampler.debug = False"
   ]
  },
  {
   "cell_type": "markdown",
   "id": "adb5bd95-d320-4dc0-bb13-a14673ced12e",
   "metadata": {},
   "source": [
    "## Training"
   ]
  },
  {
   "cell_type": "code",
   "execution_count": null,
   "id": "b8d18f58-701b-4b81-b6ff-901879c7c45a",
   "metadata": {
    "execution": {
     "iopub.execute_input": "2025-05-08T16:58:39.147602Z",
     "iopub.status.busy": "2025-05-08T16:58:39.147518Z",
     "iopub.status.idle": "2025-05-08T16:58:39.149241Z",
     "shell.execute_reply": "2025-05-08T16:58:39.148988Z"
    }
   },
   "outputs": [],
   "source": [
    "plot_nsamp = x_true.shape[0]"
   ]
  },
  {
   "cell_type": "code",
   "execution_count": null,
   "id": "d8065c1e-bfe4-4645-b4d6-ba2a3c07a26e",
   "metadata": {
    "execution": {
     "iopub.execute_input": "2025-05-08T16:58:39.150377Z",
     "iopub.status.busy": "2025-05-08T16:58:39.150295Z",
     "iopub.status.idle": "2025-05-08T16:58:39.153305Z",
     "shell.execute_reply": "2025-05-08T16:58:39.153074Z"
    }
   },
   "outputs": [],
   "source": [
    "def plot_model(model):\n",
    "    figs = []\n",
    "\n",
    "    # Sample particles\n",
    "    x_pred = model.sample(plot_nsamp)\n",
    "\n",
    "    # Plot reconstructed vs. true distribution\n",
    "    grid = psv.CornerGrid(ndim, figwidth=(ndim * 1.25), diag_shrink=0.80)\n",
    "    grid.plot_points(\n",
    "        x_pred,\n",
    "        limits=limits,\n",
    "        bins=65,\n",
    "        mask=False,\n",
    "        process_kws=dict(blur=0.0),\n",
    "        cmap=\"viridis\",\n",
    "    )\n",
    "    figs.append(grid.fig)\n",
    "\n",
    "    # Simulate measurements\n",
    "    projections_true = ment.sim.copy_histograms(model.projections)\n",
    "    projections_pred = ment.sim.copy_histograms(model.diagnostics)\n",
    "    projections_pred = ment.sim.simulate_with_diag_update(\n",
    "        x_pred, transforms, projections_pred, kde=False, blur=False\n",
    "    )\n",
    "\n",
    "    projections_true = unravel(projections_true)\n",
    "    projections_pred = unravel(projections_pred)\n",
    "\n",
    "    # Plot simulated vs. measured projections.\n",
    "    contour_levels = np.linspace(0.01, 1.0, 7)\n",
    "    contour_colors = [\"black\", \"red\"]\n",
    "    plot_kws = dict(\n",
    "        process_kws=dict(blur=1.0, scale=\"max\"),\n",
    "        kind=\"contour\",\n",
    "        levels=contour_levels,\n",
    "        lw=0.9,\n",
    "    )\n",
    "\n",
    "    ncols = min(nmeas, 7)\n",
    "    nrows = int(np.ceil(nmeas / ncols))\n",
    "    fig, axs = plt.subplots(ncols=ncols, nrows=nrows, figwidth=(1.1 * ncols))\n",
    "    for proj_true, proj_pred, ax in zip(projections_true, projections_pred, axs):\n",
    "        psv.plot_hist(proj_true, ax=ax, colors=contour_colors[0], **plot_kws)\n",
    "        psv.plot_hist(proj_pred, ax=ax, colors=contour_colors[1], **plot_kws)\n",
    "    figs.append(fig)\n",
    "\n",
    "    return figs"
   ]
  },
  {
   "cell_type": "code",
   "execution_count": null,
   "id": "f547dfe5-a3ec-463c-a872-5f8d8bd8a2e6",
   "metadata": {
    "execution": {
     "iopub.execute_input": "2025-05-08T16:58:39.154366Z",
     "iopub.status.busy": "2025-05-08T16:58:39.154277Z",
     "iopub.status.idle": "2025-05-08T17:00:36.570054Z",
     "shell.execute_reply": "2025-05-08T17:00:36.569728Z"
    }
   },
   "outputs": [],
   "source": [
    "for epoch in range(4):\n",
    "    print(f\"epoch = {epoch}\")\n",
    "\n",
    "    if epoch > 0:\n",
    "        print(\"Finding starting point for MCMC chains\")\n",
    "        # model.sampler.start = model.sample(model.sampler.chains)\n",
    "\n",
    "        print(\"Updating Lagrange multiplier functions\")\n",
    "        model.gauss_seidel_step(learning_rate=0.80)\n",
    "\n",
    "    for fig in plot_model(model):\n",
    "        plt.show()"
   ]
  },
  {
   "cell_type": "markdown",
   "id": "4ce64c20-0556-4843-a0d5-1022a2595268",
   "metadata": {},
   "source": [
    "## Evaluate"
   ]
  },
  {
   "cell_type": "code",
   "execution_count": null,
   "id": "402ed583-658b-48e8-ab78-93d44ec7e037",
   "metadata": {
    "execution": {
     "iopub.execute_input": "2025-05-08T17:00:36.571771Z",
     "iopub.status.busy": "2025-05-08T17:00:36.571658Z",
     "iopub.status.idle": "2025-05-08T17:00:40.017953Z",
     "shell.execute_reply": "2025-05-08T17:00:40.017630Z"
    }
   },
   "outputs": [],
   "source": [
    "x_pred = model.unnormalize(model.sample(1_000_000))"
   ]
  },
  {
   "cell_type": "code",
   "execution_count": null,
   "id": "4eca8dc7-cc83-4772-8fac-12aafde24d97",
   "metadata": {
    "execution": {
     "iopub.execute_input": "2025-05-08T17:00:40.019423Z",
     "iopub.status.busy": "2025-05-08T17:00:40.019340Z",
     "iopub.status.idle": "2025-05-08T17:00:44.169190Z",
     "shell.execute_reply": "2025-05-08T17:00:44.168919Z"
    }
   },
   "outputs": [],
   "source": [
    "grid = psv.CornerGrid(\n",
    "    ndim, figheight=(ndim * 1.10), figwidth=(ndim * 1.25), diag_rspine=True, space=1.5\n",
    ")\n",
    "for i, x in enumerate([x_true, x_pred]):\n",
    "    color = [\"black\", \"red\"][i]\n",
    "    lw = [1.2, 0.7][i]\n",
    "    grid.plot(\n",
    "        x,\n",
    "        limits=limits,\n",
    "        bins=75,\n",
    "        diag_kws=dict(color=color, lw=(lw * 1.25)),\n",
    "        kind=\"contour\",\n",
    "        process_kws=dict(blur=0.0, scale=\"max\"),\n",
    "        mask=False,\n",
    "        levels=np.linspace(0.01, 1.0, 7),\n",
    "        color=color,\n",
    "        lw=lw,\n",
    "    )\n",
    "plt.show()"
   ]
  },
  {
   "cell_type": "code",
   "execution_count": null,
   "id": "8957b227-e509-43f3-99dc-549f846ae606",
   "metadata": {
    "execution": {
     "iopub.execute_input": "2025-05-08T17:00:44.171231Z",
     "iopub.status.busy": "2025-05-08T17:00:44.171129Z",
     "iopub.status.idle": "2025-05-08T17:00:48.353211Z",
     "shell.execute_reply": "2025-05-08T17:00:48.352944Z"
    }
   },
   "outputs": [],
   "source": [
    "grid = psv.CornerGrid(\n",
    "    ndim, figheight=(ndim * 1.10), figwidth=(ndim * 1.25), diag_rspine=True, space=1.5\n",
    ")\n",
    "for i, x in enumerate([x_true, x_pred]):\n",
    "    color = [\"black\", \"red\"][i]\n",
    "    lw = [1.2, 0.7][i]\n",
    "    grid.plot(\n",
    "        x,\n",
    "        limits=limits,\n",
    "        bins=75,\n",
    "        diag_kws=dict(color=color, lw=(lw * 1.25)),\n",
    "        kind=\"contour\",\n",
    "        process_kws=dict(blur=1.0, scale=\"max\"),\n",
    "        mask=False,\n",
    "        levels=(10.0 ** np.linspace(-3.0, 0.0, 7)),\n",
    "        color=color,\n",
    "        lw=lw,\n",
    "    )\n",
    "    grid.format_diag(yscale=\"log\", yformatter=\"log\", ymax=5.0, ymin=0.0001)\n",
    "plt.show()"
   ]
  },
  {
   "cell_type": "code",
   "execution_count": null,
   "id": "ce889afc-be43-4586-a763-978b50b403cc",
   "metadata": {},
   "outputs": [],
   "source": []
  }
 ],
 "metadata": {
  "kernelspec": {
   "display_name": "ment",
   "language": "python",
   "name": "ment"
  },
  "language_info": {
   "codemirror_mode": {
    "name": "ipython",
    "version": 3
   },
   "file_extension": ".py",
   "mimetype": "text/x-python",
   "name": "python",
   "nbconvert_exporter": "python",
   "pygments_lexer": "ipython3",
   "version": "3.12.8"
  }
 },
 "nbformat": 4,
 "nbformat_minor": 5
}
