{
 "cells": [
  {
   "cell_type": "markdown",
   "id": "c2ac3b4e-3775-47e7-b334-46e8b1e13077",
   "metadata": {},
   "source": [
    "# N:2 MENT — integration-based solver"
   ]
  },
  {
   "cell_type": "code",
   "execution_count": null,
   "id": "553be401-ef87-43c2-81ae-82a085fd7fbe",
   "metadata": {},
   "outputs": [],
   "source": [
    "import os\n",
    "import sys\n",
    "import time\n",
    "\n",
    "import numpy as np\n",
    "import psdist as ps\n",
    "import psdist.plot as psv\n",
    "import ultraplot as plt\n",
    "from ipywidgets import interact\n",
    "from tqdm.notebook import tqdm\n",
    "from tqdm.notebook import trange\n",
    "\n",
    "import ment\n",
    "from ment.sim import simulate\n",
    "from ment.train.plot import PlotDistCorner\n",
    "from ment.train.plot import PlotProj2D_Contour\n",
    "from ment.utils import unravel"
   ]
  },
  {
   "cell_type": "code",
   "execution_count": null,
   "id": "802e2ae5-fc61-4ca0-a132-635bb7a5dc5f",
   "metadata": {},
   "outputs": [],
   "source": [
    "plt.rc[\"cmap.discrete\"] = False\n",
    "plt.rc[\"cmap.sequential\"] = \"viridis\"\n",
    "plt.rc[\"figure.facecolor\"] = \"white\"\n",
    "plt.rc[\"grid\"] = False"
   ]
  },
  {
   "cell_type": "markdown",
   "id": "98da359a-b574-4d32-ac37-070006133006",
   "metadata": {},
   "source": [
    "## Source distribution"
   ]
  },
  {
   "cell_type": "code",
   "execution_count": null,
   "id": "4676ab41-fca5-441e-bd1d-8ccab2f1299f",
   "metadata": {},
   "outputs": [],
   "source": [
    "dist_name = \"gaussian-mixture\"\n",
    "ndim = 4\n",
    "xmax = 3.5\n",
    "seed = 12345"
   ]
  },
  {
   "cell_type": "code",
   "execution_count": null,
   "id": "43dc0de1-105c-42bf-aa24-4319e2a21a36",
   "metadata": {},
   "outputs": [],
   "source": [
    "dist = ment.dist.get_dist(dist_name, ndim=ndim, seed=seed)\n",
    "x_true = dist.sample(1_000_000)"
   ]
  },
  {
   "cell_type": "code",
   "execution_count": null,
   "id": "35ce0a95-a5ce-407c-87b6-c6e688b78a32",
   "metadata": {},
   "outputs": [],
   "source": [
    "limits = ndim * [(-xmax, xmax)]\n",
    "\n",
    "grid = psv.CornerGrid(ndim, figwidth=(ndim * 1.25))\n",
    "grid.plot_points(x_true, limits=limits, bins=64, mask=False)\n",
    "plt.show()"
   ]
  },
  {
   "cell_type": "markdown",
   "id": "9083b1ef-905e-45e9-9421-b36387ce4e71",
   "metadata": {},
   "source": [
    "## Data generation"
   ]
  },
  {
   "cell_type": "code",
   "execution_count": null,
   "id": "01af9d88-824d-4064-991b-bc0f4fff7d10",
   "metadata": {},
   "outputs": [],
   "source": [
    "nmeas = ndim * (ndim - 1) // 2\n",
    "nbins = 64\n",
    "blur = 0.0\n",
    "kde = False\n",
    "kde_bandwidth_frac = 1.0\n",
    "axis_meas = (0, 2)"
   ]
  },
  {
   "cell_type": "markdown",
   "id": "14b77388-6e36-43a4-9b03-b79758389f51",
   "metadata": {},
   "source": [
    "Create phase space transformations (permutation matrices)."
   ]
  },
  {
   "cell_type": "code",
   "execution_count": null,
   "id": "f718bd67-cf81-4c52-862e-6a5011eea229",
   "metadata": {},
   "outputs": [],
   "source": [
    "transfer_matrices = []\n",
    "for i in range(ndim):\n",
    "    for j in range(i):\n",
    "        matrices = []\n",
    "        for k, l in zip(axis_meas, (j, i)):\n",
    "            matrix = np.identity(ndim)\n",
    "            matrix[k, k] = matrix[l, l] = 0.0\n",
    "            matrix[k, l] = matrix[l, k] = 1.0\n",
    "            matrices.append(matrix)\n",
    "        transfer_matrices.append(\n",
    "            np.linalg.multi_dot(matrices[::-1])\n",
    "        )\n",
    "\n",
    "transforms = []\n",
    "for matrix in transfer_matrices:\n",
    "    transform = ment.sim.LinearTransform(matrix)\n",
    "    transforms.append(transform)"
   ]
  },
  {
   "cell_type": "markdown",
   "id": "b993e5f0-2386-42ad-b7e2-4ed929ef415a",
   "metadata": {},
   "source": [
    "Create histogram diagnostics."
   ]
  },
  {
   "cell_type": "code",
   "execution_count": null,
   "id": "9888e71d-25f6-4f5c-a069-52e6777f15fa",
   "metadata": {},
   "outputs": [],
   "source": [
    "axis_proj = axis_meas\n",
    "bin_edges = 2 * [np.linspace(-xmax, xmax, nbins + 1)]\n",
    "\n",
    "diagnostics = []\n",
    "for transform in transforms:\n",
    "    diagnostic = ment.diag.HistogramND(\n",
    "        axis=axis_meas,\n",
    "        edges=bin_edges,\n",
    "        kde=kde,\n",
    "        kde_bandwidth_frac=kde_bandwidth_frac,\n",
    "        blur=blur,\n",
    "        thresh=0.0,\n",
    "        thresh_type=\"abs\",\n",
    "    )\n",
    "    diagnostics.append([diagnostic])"
   ]
  },
  {
   "cell_type": "markdown",
   "id": "4a144494-65bf-418b-ad4d-a2a4fc56717e",
   "metadata": {},
   "source": [
    "Generate data from the source distribution."
   ]
  },
  {
   "cell_type": "code",
   "execution_count": null,
   "id": "2b9dda2e-cf33-4f8e-8d5f-8d00522a4d5c",
   "metadata": {},
   "outputs": [],
   "source": [
    "projections = ment.simulate_with_diag_update(\n",
    "    x_true,\n",
    "    transforms,\n",
    "    diagnostics,\n",
    "    kde=False,\n",
    "    blur=False,\n",
    "    thresh=5.00e-03,\n",
    ")"
   ]
  },
  {
   "cell_type": "markdown",
   "id": "feded3ff-bf64-4dd0-aec0-8bfa50234f1f",
   "metadata": {},
   "source": [
    "## Model"
   ]
  },
  {
   "cell_type": "code",
   "execution_count": null,
   "id": "6e17440a-e578-43c8-8bbb-62697f920776",
   "metadata": {},
   "outputs": [],
   "source": [
    "prior = ment.GaussianPrior(ndim=ndim, scale=1.0)"
   ]
  },
  {
   "cell_type": "code",
   "execution_count": null,
   "id": "408e6a39-bb4c-4a45-8bfa-7ce1d0c03237",
   "metadata": {},
   "outputs": [],
   "source": [
    "integration_limits = [limits[i] for i in range(ndim) if i not in axis_proj]\n",
    "integration_limits = [[integration_limits]] * len(transforms)\n",
    "integration_size = 100 ** (ndim - 2)"
   ]
  },
  {
   "cell_type": "code",
   "execution_count": null,
   "id": "c53ab372-d316-44d3-bb8b-e3e5cf92b316",
   "metadata": {},
   "outputs": [],
   "source": [
    "samp_method = \"grid\"\n",
    "\n",
    "if samp_method == \"grid\":\n",
    "    samp_grid_res = 32\n",
    "    samp_noise = 0.5\n",
    "    samp_grid_shape = ndim * [samp_grid_res]\n",
    "    samp_grid_limits = limits\n",
    "\n",
    "    sampler = ment.samp.GridSampler(\n",
    "        grid_limits=samp_grid_limits,\n",
    "        grid_shape=samp_grid_shape,\n",
    "        noise=samp_noise,\n",
    "    )\n",
    "elif samp_method == \"mcmc\":\n",
    "    samp_burnin = 500\n",
    "    samp_chains = 1000\n",
    "    samp_prop_cov = np.eye(ndim) * (0.5 ** 2)\n",
    "    samp_start = np.random.normal(size=(samp_chains, ndim)) * 0.50\n",
    "    \n",
    "    sampler = ment.MetropolisHastingsSampler(\n",
    "        ndim=ndim,\n",
    "        chains=samp_chains,\n",
    "        start=samp_start,\n",
    "        proposal_cov=samp_prop_cov,\n",
    "        burnin=samp_burnin,\n",
    "        shuffle=True,\n",
    "        verbose=False,\n",
    "        debug=False,\n",
    "        noise_scale=0.10,  # slight smoothing\n",
    "        noise_type=\"gaussian\",\n",
    "    )\n",
    "\n",
    "else:\n",
    "    raise ValueError"
   ]
  },
  {
   "cell_type": "code",
   "execution_count": null,
   "id": "66a1860c-5f9b-46d0-815e-ae67078760df",
   "metadata": {},
   "outputs": [],
   "source": [
    "model = ment.MENT(\n",
    "    ndim=ndim,\n",
    "    transforms=transforms,\n",
    "    projections=projections,\n",
    "    prior=prior,\n",
    "    integration_limits=integration_limits,\n",
    "    integration_size=integration_size,\n",
    "    integration_loop=True,\n",
    "    interpolation_kws=dict(method=\"linear\"),\n",
    "    sampler=sampler,\n",
    "    mode=\"reverse\",\n",
    "    verbose=True,\n",
    ")"
   ]
  },
  {
   "cell_type": "code",
   "execution_count": null,
   "id": "0d834fe3-89a3-447e-a7b6-9f0c13fcc6a4",
   "metadata": {},
   "outputs": [],
   "source": [
    "sampler.debug = True\n",
    "model.sample(1000)\n",
    "sampler.debug = False"
   ]
  },
  {
   "cell_type": "markdown",
   "id": "adb5bd95-d320-4dc0-bb13-a14673ced12e",
   "metadata": {},
   "source": [
    "## Train"
   ]
  },
  {
   "cell_type": "code",
   "execution_count": null,
   "id": "b8d18f58-701b-4b81-b6ff-901879c7c45a",
   "metadata": {},
   "outputs": [],
   "source": [
    "plot_nsamp = x_true.shape[0]"
   ]
  },
  {
   "cell_type": "code",
   "execution_count": null,
   "id": "d8065c1e-bfe4-4645-b4d6-ba2a3c07a26e",
   "metadata": {},
   "outputs": [],
   "source": [
    "def plot_model(model):\n",
    "    figs = []\n",
    "\n",
    "    # Sample particles\n",
    "    x_pred = model.sample(plot_nsamp)\n",
    "\n",
    "    # Plot reconstructed vs. true distribution\n",
    "    grid = psv.CornerGrid(ndim, figwidth=(ndim * 1.25), diag_shrink=0.80)\n",
    "    grid.plot_points(\n",
    "        x_pred,\n",
    "        limits=limits,\n",
    "        bins=65,\n",
    "        mask=False,\n",
    "        process_kws=dict(blur=0.0),\n",
    "        cmap=\"viridis\",\n",
    "    )\n",
    "    figs.append(grid.fig)\n",
    "\n",
    "    # Simulate measurements\n",
    "    projections_true = ment.sim.copy_histograms(model.projections)\n",
    "    projections_pred = ment.sim.copy_histograms(model.diagnostics)\n",
    "    projections_pred = ment.sim.simulate_with_diag_update(\n",
    "        x_pred, transforms, projections_pred, kde=False, blur=False\n",
    "    )\n",
    "\n",
    "    projections_true = unravel(projections_true)\n",
    "    projections_pred = unravel(projections_pred)\n",
    "\n",
    "    # Plot simulated vs. measured projections.\n",
    "    contour_levels = np.linspace(0.01, 1.0, 7)\n",
    "    contour_colors = [\"black\", \"red\"]\n",
    "    plot_kws = dict(\n",
    "        process_kws=dict(blur=1.0, scale=\"max\"),\n",
    "        kind=\"contour\",\n",
    "        levels=contour_levels,\n",
    "        lw=0.9,\n",
    "    )\n",
    "\n",
    "    ncols = min(nmeas, 7)\n",
    "    nrows = int(np.ceil(nmeas / ncols))\n",
    "    fig, axs = plt.subplots(ncols=ncols, nrows=nrows, figwidth=(1.1 * ncols))\n",
    "    for proj_true, proj_pred, ax in zip(projections_true, projections_pred, axs):\n",
    "        psv.plot_hist(proj_true, ax=ax, colors=contour_colors[0], **plot_kws)\n",
    "        psv.plot_hist(proj_pred, ax=ax, colors=contour_colors[1], **plot_kws)\n",
    "    figs.append(fig)\n",
    "\n",
    "    return figs"
   ]
  },
  {
   "cell_type": "code",
   "execution_count": null,
   "id": "f547dfe5-a3ec-463c-a872-5f8d8bd8a2e6",
   "metadata": {},
   "outputs": [],
   "source": [
    "for epoch in range(4):\n",
    "    print(f\"epoch = {epoch}\")\n",
    "\n",
    "    if epoch > 0:\n",
    "        model.gauss_seidel_step(learning_rate=0.80)\n",
    "\n",
    "    for fig in plot_model(model):\n",
    "        plt.show()"
   ]
  },
  {
   "cell_type": "markdown",
   "id": "4ce64c20-0556-4843-a0d5-1022a2595268",
   "metadata": {},
   "source": [
    "## Evaluate"
   ]
  },
  {
   "cell_type": "code",
   "execution_count": null,
   "id": "4eca8dc7-cc83-4772-8fac-12aafde24d97",
   "metadata": {},
   "outputs": [],
   "source": [
    "x_pred = model.unnormalize(model.sample(1_000_000))"
   ]
  },
  {
   "cell_type": "code",
   "execution_count": null,
   "id": "2d3336cc-3543-428f-b7c0-b9571373bf9e",
   "metadata": {},
   "outputs": [],
   "source": [
    "grid = psv.CornerGrid(ndim, figheight=(ndim * 1.10), figwidth=(ndim * 1.25), diag_rspine=True, space=1.5)\n",
    "for i, x in enumerate([x_true, x_pred]):\n",
    "    color = [\"black\", \"red\"][i]\n",
    "    lw = [1.2, 0.7][i]\n",
    "    grid.plot(\n",
    "        x,\n",
    "        limits=limits,\n",
    "        bins=75,\n",
    "        diag_kws=dict(color=color, lw=(lw * 1.25)),\n",
    "        kind=\"contour\",\n",
    "        process_kws=dict(blur=0.0, scale=\"max\"),\n",
    "        mask=False,\n",
    "        levels=np.linspace(0.01, 1.0, 7),\n",
    "        color=color,\n",
    "        lw=lw,\n",
    "    )\n",
    "plt.show()"
   ]
  },
  {
   "cell_type": "code",
   "execution_count": null,
   "id": "0d199ee9-dfc3-4150-8433-505e5ea8b4cc",
   "metadata": {},
   "outputs": [],
   "source": [
    "grid = psv.CornerGrid(ndim, figheight=(ndim * 1.10), figwidth=(ndim * 1.25), diag_rspine=True, space=1.5)\n",
    "for i, x in enumerate([x_true, x_pred]):\n",
    "    color = [\"black\", \"red\"][i]\n",
    "    lw = [1.2, 0.7][i]\n",
    "    grid.plot(\n",
    "        x,\n",
    "        limits=limits,\n",
    "        bins=75,\n",
    "        diag_kws=dict(color=color, lw=(lw * 1.25)),\n",
    "        kind=\"contour\",\n",
    "        process_kws=dict(blur=1.0, scale=\"max\"),\n",
    "        mask=False,\n",
    "        levels=(10.0 ** np.linspace(-3.0, 0.0, 7)),\n",
    "        color=color,\n",
    "        lw=lw,\n",
    "    )\n",
    "    grid.format_diag(yscale=\"log\", yformatter=\"log\", ymax=5.0, ymin=0.0001)\n",
    "plt.show()"
   ]
  },
  {
   "cell_type": "code",
   "execution_count": null,
   "id": "10ad2f8a-ca16-4910-b0ad-8659e1313d6e",
   "metadata": {},
   "outputs": [],
   "source": []
  }
 ],
 "metadata": {
  "kernelspec": {
   "display_name": "ment",
   "language": "python",
   "name": "ment"
  },
  "language_info": {
   "codemirror_mode": {
    "name": "ipython",
    "version": 3
   },
   "file_extension": ".py",
   "mimetype": "text/x-python",
   "name": "python",
   "nbconvert_exporter": "python",
   "pygments_lexer": "ipython3",
   "version": "3.12.8"
  }
 },
 "nbformat": 4,
 "nbformat_minor": 5
}
