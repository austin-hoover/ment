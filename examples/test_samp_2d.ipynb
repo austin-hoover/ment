{
 "cells": [
  {
   "cell_type": "markdown",
   "id": "3e09b5c1",
   "metadata": {},
   "source": [
    "# Test sampling algorithms (2D)"
   ]
  },
  {
   "cell_type": "code",
   "execution_count": null,
   "id": "8f5161a6",
   "metadata": {},
   "outputs": [],
   "source": [
    "import math\n",
    "\n",
    "import matplotlib.pyplot as plt\n",
    "import numpy as np\n",
    "import scipy.ndimage\n",
    "import torch\n",
    "import zuko\n",
    "\n",
    "from tqdm.notebook import tqdm\n",
    "from tqdm.notebook import trange\n",
    "\n",
    "import ment"
   ]
  },
  {
   "cell_type": "code",
   "execution_count": null,
   "id": "67cd0559",
   "metadata": {},
   "outputs": [],
   "source": [
    "plt.style.use(\"style.mplstyle\")"
   ]
  },
  {
   "cell_type": "markdown",
   "id": "fcdd3af9",
   "metadata": {},
   "source": [
    "## Create distribution"
   ]
  },
  {
   "cell_type": "code",
   "execution_count": null,
   "id": "63bad5c7",
   "metadata": {},
   "outputs": [],
   "source": [
    "class RingDistribution:\n",
    "    def __init__(self) -> None:\n",
    "        self.ndim = 2\n",
    "\n",
    "    def prob(self, x: torch.Tensor) -> torch.Tensor:\n",
    "        x1 = x[..., 0]\n",
    "        x2 = x[..., 1]\n",
    "        log_prob = torch.sin(torch.pi * x1) - 2.0 * (x1**2 + x2**2 - 2.0) ** 2\n",
    "        return torch.exp(log_prob)\n",
    "\n",
    "    def prob_grid(\n",
    "        self, shape: tuple[int], limits: list[tuple[float, float]]\n",
    "    ) -> torch.Tensor:\n",
    "        edges = [\n",
    "            torch.linspace(limits[i][0], limits[i][1], shape[i] + 1)\n",
    "            for i in range(self.ndim)\n",
    "        ]\n",
    "        coords = [0.5 * (e[:-1] + e[1:]) for e in edges]\n",
    "        points = torch.stack(\n",
    "            [c.ravel() for c in torch.meshgrid(*coords, indexing=\"ij\")], axis=-1\n",
    "        )\n",
    "        values = self.prob(points)\n",
    "        values = values.reshape(shape)\n",
    "        return values, coords"
   ]
  },
  {
   "cell_type": "code",
   "execution_count": null,
   "id": "b431f1f4",
   "metadata": {},
   "outputs": [],
   "source": [
    "ndim = 2\n",
    "xmax = 3.0\n",
    "dist = RingDistribution()"
   ]
  },
  {
   "cell_type": "code",
   "execution_count": null,
   "id": "10a0e9ef",
   "metadata": {},
   "outputs": [],
   "source": [
    "grid_limits = 2 * [(-xmax, xmax)]\n",
    "grid_shape = (64, 64)\n",
    "grid_values, grid_coords = dist.prob_grid(grid_shape, grid_limits)\n",
    "\n",
    "fig, ax = plt.subplots(figsize=(2.75, 2.75))\n",
    "ax.pcolormesh(grid_coords[0], grid_coords[1], grid_values.T)\n",
    "plt.show()"
   ]
  },
  {
   "cell_type": "code",
   "execution_count": null,
   "id": "511fdcd2",
   "metadata": {},
   "outputs": [],
   "source": [
    "def plot_samples(x_pred: np.ndarray) -> tuple:\n",
    "    fig, axs = plt.subplots(ncols=2, figsize=(5.0, 2.75), sharex=True, sharey=True)\n",
    "    hist, edges = np.histogramdd(x_pred, bins=80, range=grid_limits)\n",
    "    axs[0].pcolormesh(edges[0], edges[1], hist.T)\n",
    "    axs[1].pcolormesh(grid_coords[0], grid_coords[1], grid_values.T)\n",
    "    axs[0].set_title(\"PRED\", fontsize=\"medium\")\n",
    "    axs[1].set_title(\"TRUE\", fontsize=\"medium\")\n",
    "    return fig, axs"
   ]
  },
  {
   "cell_type": "code",
   "execution_count": null,
   "id": "18a40c08",
   "metadata": {},
   "outputs": [],
   "source": [
    "def evaluate_sampler(sampler, size: int = 50_000):\n",
    "    x_pred = sampler(dist.prob, size=size)\n",
    "    return plot_samples(x_pred)"
   ]
  },
  {
   "cell_type": "markdown",
   "id": "7badb15d",
   "metadata": {},
   "source": [
    "## Grid"
   ]
  },
  {
   "cell_type": "code",
   "execution_count": null,
   "id": "b6af2e87",
   "metadata": {},
   "outputs": [],
   "source": [
    "sampler = ment.GridSampler(limits=grid_limits, shape=grid_shape)\n",
    "\n",
    "evaluate_sampler(sampler);"
   ]
  },
  {
   "cell_type": "markdown",
   "id": "9b8c5774",
   "metadata": {},
   "source": [
    "## Metropolis-Hastings (MH)"
   ]
  },
  {
   "cell_type": "code",
   "execution_count": null,
   "id": "97915201",
   "metadata": {},
   "outputs": [],
   "source": [
    "chains = 10\n",
    "start = torch.randn((chains, ndim)) * 0.25\n",
    "proposal_cov = torch.eye(ndim) * 0.1\n",
    "\n",
    "sampler = ment.MetropolisHastingsSampler(\n",
    "    ndim=ndim,\n",
    "    start=start,\n",
    "    proposal_cov=proposal_cov,\n",
    "    verbose=0,\n",
    ")\n",
    "\n",
    "evaluate_sampler(sampler);\n",
    "\n",
    "print(sampler.results)"
   ]
  },
  {
   "cell_type": "markdown",
   "id": "02f5af08",
   "metadata": {},
   "source": [
    "## Hamiltonian Monte Carlo (HMC)"
   ]
  },
  {
   "cell_type": "code",
   "execution_count": null,
   "id": "aa55e51f",
   "metadata": {},
   "outputs": [],
   "source": [
    "chains = 10\n",
    "step_size = 0.21\n",
    "steps_per_samp = 10\n",
    "\n",
    "sampler = ment.HamiltonianMonteCarloSampler(\n",
    "    ndim=ndim,\n",
    "    start=torch.randn((chains, ndim)) * 0.25**2,\n",
    "    step_size=step_size,\n",
    "    steps_per_samp=steps_per_samp,\n",
    "    burnin=10,\n",
    "    verbose=1,\n",
    ")\n",
    "evaluate_sampler(sampler);\n",
    "\n",
    "print(sampler.results)"
   ]
  },
  {
   "cell_type": "markdown",
   "id": "f18d20ed",
   "metadata": {},
   "source": [
    "## Normalizing Flow"
   ]
  },
  {
   "cell_type": "code",
   "execution_count": null,
   "id": "15b34da2",
   "metadata": {},
   "outputs": [],
   "source": [
    "flow = zuko.flows.NSF(features=ndim, transforms=3, hidden_features=[64] * 3)\n",
    "flow = zuko.flows.Flow(flow.transform.inv, flow.base)\n",
    "sampler = ment.FlowSampler(\n",
    "    ndim=ndim,\n",
    "    flow=flow,\n",
    "    unnorm_matrix=None,\n",
    "    train_kws=dict(\n",
    "        iters=1000,\n",
    "        batch_size=512,\n",
    "    ),\n",
    ")\n",
    "evaluate_sampler(sampler);"
   ]
  },
  {
   "cell_type": "markdown",
   "id": "85813075",
   "metadata": {},
   "source": [
    "## Stein Variational Gradient Descent (SVGD)"
   ]
  },
  {
   "cell_type": "code",
   "execution_count": null,
   "id": "6845d3ea",
   "metadata": {},
   "outputs": [],
   "source": [
    "kernel = ment.samp.svgd.RBFKernel(sigma=0.2)\n",
    "sampler = ment.SVGDSampler(ndim=2, kernel=kernel, train_kws=dict(iters=500, lr=0.1), verbose=1)\n",
    "evaluate_sampler(sampler, size=1_000);"
   ]
  }
 ],
 "metadata": {
  "kernelspec": {
   "display_name": "ment",
   "language": "python",
   "name": "python3"
  },
  "language_info": {
   "codemirror_mode": {
    "name": "ipython",
    "version": 3
   },
   "file_extension": ".py",
   "mimetype": "text/x-python",
   "name": "python",
   "nbconvert_exporter": "python",
   "pygments_lexer": "ipython3",
   "version": "3.13.9"
  }
 },
 "nbformat": 4,
 "nbformat_minor": 5
}
