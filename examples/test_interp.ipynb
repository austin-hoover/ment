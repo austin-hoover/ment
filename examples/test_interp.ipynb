{
 "cells": [
  {
   "cell_type": "markdown",
   "id": "f1958f3c",
   "metadata": {},
   "source": [
    "# Test interpolation"
   ]
  },
  {
   "cell_type": "code",
   "execution_count": null,
   "id": "initial_id",
   "metadata": {
    "ExecuteTime": {
     "end_time": "2025-10-18T23:59:59.098439Z",
     "start_time": "2025-10-18T23:59:58.948Z"
    },
    "collapsed": true
   },
   "outputs": [],
   "source": [
    "import matplotlib.pyplot as plt\n",
    "import torch\n",
    "\n",
    "import ment"
   ]
  },
  {
   "cell_type": "markdown",
   "id": "c47f8ca3",
   "metadata": {},
   "source": [
    "## 1D"
   ]
  },
  {
   "cell_type": "code",
   "execution_count": null,
   "id": "334343e8b7e06ce",
   "metadata": {},
   "outputs": [],
   "source": [
    "xmax = 5.0\n",
    "bins = 25\n",
    "\n",
    "coords = torch.linspace(-xmax, xmax, bins)\n",
    "values = torch.exp(-(coords**2)) + 0.5\n",
    "lfunc = ment.LagrangeFunction(ndim=1, axis=0, coords=coords, values=values)\n",
    "\n",
    "x = torch.zeros((bins**2, 2))\n",
    "x[:, 0] = torch.linspace(-2.0 * xmax, 2.0 * xmax, x.shape[0])\n",
    "\n",
    "f = lfunc(x)\n",
    "\n",
    "fig, ax = plt.subplots(figsize=(4, 2))\n",
    "ax.plot(x[:, 0], f)\n",
    "ax.plot(coords, values, marker=\".\", lw=0)\n",
    "ax.set_ylim(-0.1, ax.get_ylim()[1])"
   ]
  },
  {
   "cell_type": "markdown",
   "id": "167d5c32",
   "metadata": {},
   "source": [
    "## 2D"
   ]
  },
  {
   "cell_type": "code",
   "execution_count": null,
   "id": "5c4b07f5",
   "metadata": {},
   "outputs": [],
   "source": [
    "xmax = 5.0\n",
    "bins = 20\n",
    "\n",
    "grid_edges = 2 * [torch.linspace(-xmax, xmax, bins + 1)]\n",
    "grid_coords = [ment.utils.edges_to_coords(e) for e in grid_edges]\n",
    "grid_values = torch.rand((bins, bins)) ** 2\n",
    "lfunc = ment.LagrangeFunction(ndim=2, axis=(0, 1), coords=grid_coords, values=grid_values)\n",
    "\n",
    "new_grid_res = int(bins * 2)\n",
    "new_grid_edges = 2 * [torch.linspace(-xmax, xmax, new_grid_res + 1)]\n",
    "new_grid_coords = [ment.utils.edges_to_coords(e) for e in new_grid_edges]\n",
    "x = torch.stack(\n",
    "    [c.ravel() for c in torch.meshgrid(*new_grid_coords, indexing=\"ij\")], axis=-1\n",
    ")\n",
    "f = lfunc(x)\n",
    "\n",
    "new_grid_values = f.reshape((new_grid_res, new_grid_res))\n",
    "\n",
    "old_grid_coords = grid_coords\n",
    "old_grid_values = grid_values\n",
    "\n",
    "fig, axs = plt.subplots(figsize=(6, 3), ncols=2, sharex=True, sharey=True)\n",
    "axs[0].pcolormesh(old_grid_coords[0], old_grid_coords[1], old_grid_values.T, vmin=0.0)\n",
    "axs[1].pcolormesh(new_grid_coords[0], new_grid_coords[1], new_grid_values.T, vmin=0.0)\n",
    "for ax in axs:\n",
    "    ax.set_xlim(-xmax, xmax)\n",
    "    ax.set_ylim(-xmax, xmax)\n",
    "plt.show()"
   ]
  },
  {
   "cell_type": "code",
   "execution_count": null,
   "id": "24e0af0f",
   "metadata": {},
   "outputs": [],
   "source": []
  }
 ],
 "metadata": {
  "kernelspec": {
   "display_name": "ment",
   "language": "python",
   "name": "python3"
  },
  "language_info": {
   "codemirror_mode": {
    "name": "ipython",
    "version": 3
   },
   "file_extension": ".py",
   "mimetype": "text/x-python",
   "name": "python",
   "nbconvert_exporter": "python",
   "pygments_lexer": "ipython3",
   "version": "3.13.9"
  }
 },
 "nbformat": 4,
 "nbformat_minor": 5
}
