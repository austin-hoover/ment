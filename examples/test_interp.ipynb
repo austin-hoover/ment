{
 "cells": [
  {
   "cell_type": "code",
   "execution_count": null,
   "id": "initial_id",
   "metadata": {
    "ExecuteTime": {
     "end_time": "2025-10-18T23:59:59.098439Z",
     "start_time": "2025-10-18T23:59:58.948Z"
    },
    "collapsed": true
   },
   "outputs": [],
   "source": [
    "import matplotlib.pyplot as plt\n",
    "import torch\n",
    "\n",
    "import ment"
   ]
  },
  {
   "cell_type": "code",
   "execution_count": null,
   "id": "334343e8b7e06ce",
   "metadata": {},
   "outputs": [],
   "source": [
    "xmax = 5.0\n",
    "bins = 25\n",
    "\n",
    "coords = torch.linspace(-xmax, xmax, bins)\n",
    "values = torch.exp(-(coords**2)) + 0.5\n",
    "lfunc = ment.LagrangeFunction(ndim=1, axis=0, coords=coords, values=values)\n",
    "\n",
    "x = torch.zeros((bins**2, 2))\n",
    "x[:, 0] = torch.linspace(-2.0 * xmax, 2.0 * xmax, x.shape[0])\n",
    "\n",
    "f = lfunc(x)\n",
    "\n",
    "fig, ax = plt.subplots(figsize=(4, 2))\n",
    "ax.plot(x[:, 0], f)\n",
    "ax.plot(coords, values, marker=\".\", lw=0)\n",
    "ax.set_ylim(-0.1, ax.get_ylim()[1])"
   ]
  },
  {
   "cell_type": "code",
   "execution_count": null,
   "id": "5c4b07f5",
   "metadata": {},
   "outputs": [],
   "source": []
  }
 ],
 "metadata": {
  "kernelspec": {
   "display_name": "ment",
   "language": "python",
   "name": "python3"
  },
  "language_info": {
   "codemirror_mode": {
    "name": "ipython",
    "version": 3
   },
   "file_extension": ".py",
   "mimetype": "text/x-python",
   "name": "python",
   "nbconvert_exporter": "python",
   "pygments_lexer": "ipython3",
   "version": "3.13.9"
  }
 },
 "nbformat": 4,
 "nbformat_minor": 5
}
