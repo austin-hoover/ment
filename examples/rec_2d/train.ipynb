{
 "cells": [
  {
   "cell_type": "markdown",
   "id": "c2ac3b4e-3775-47e7-b334-46e8b1e13077",
   "metadata": {},
   "source": [
    "# 2:1 MENT"
   ]
  },
  {
   "cell_type": "code",
   "execution_count": null,
   "id": "553be401-ef87-43c2-81ae-82a085fd7fbe",
   "metadata": {
    "execution": {
     "iopub.execute_input": "2025-05-08T16:56:26.556718Z",
     "iopub.status.busy": "2025-05-08T16:56:26.556159Z",
     "iopub.status.idle": "2025-05-08T16:56:27.579921Z",
     "shell.execute_reply": "2025-05-08T16:56:27.579613Z"
    }
   },
   "outputs": [],
   "source": [
    "import os\n",
    "import time\n",
    "\n",
    "import numpy as np\n",
    "import psdist as ps\n",
    "import psdist.plot as psv\n",
    "import ultraplot as plt\n",
    "\n",
    "import ment\n",
    "import ment.train"
   ]
  },
  {
   "cell_type": "code",
   "execution_count": null,
   "id": "5d223313-d7d0-41ec-b323-bf36b3619f03",
   "metadata": {
    "execution": {
     "iopub.execute_input": "2025-05-08T16:56:27.581533Z",
     "iopub.status.busy": "2025-05-08T16:56:27.581379Z",
     "iopub.status.idle": "2025-05-08T16:56:27.583722Z",
     "shell.execute_reply": "2025-05-08T16:56:27.583440Z"
    }
   },
   "outputs": [],
   "source": [
    "plt.rc[\"cmap.discrete\"] = False\n",
    "plt.rc[\"cmap.sequential\"] = \"viridis\"\n",
    "plt.rc[\"colorbar.width\"] = \"1.2em\"\n",
    "plt.rc[\"figure.facecolor\"] = \"white\"\n",
    "plt.rc[\"grid\"] = False"
   ]
  },
  {
   "cell_type": "markdown",
   "id": "2b06b0ea-9a6c-4f57-b05a-f0e5b1d0cbbc",
   "metadata": {},
   "source": [
    "## Settings"
   ]
  },
  {
   "cell_type": "code",
   "execution_count": null,
   "id": "802e2ae5-fc61-4ca0-a132-635bb7a5dc5f",
   "metadata": {
    "execution": {
     "iopub.execute_input": "2025-05-08T16:56:27.584903Z",
     "iopub.status.busy": "2025-05-08T16:56:27.584828Z",
     "iopub.status.idle": "2025-05-08T16:56:27.586463Z",
     "shell.execute_reply": "2025-05-08T16:56:27.586254Z"
    }
   },
   "outputs": [],
   "source": [
    "dist_name = \"galaxy\"\n",
    "ndim = 2\n",
    "n_meas = 6\n",
    "n_bins = 80\n",
    "xmax = 6.0\n",
    "seed = 0"
   ]
  },
  {
   "cell_type": "markdown",
   "id": "98da359a-b574-4d32-ac37-070006133006",
   "metadata": {},
   "source": [
    "## Source distribution"
   ]
  },
  {
   "cell_type": "code",
   "execution_count": null,
   "id": "35ce0a95-a5ce-407c-87b6-c6e688b78a32",
   "metadata": {
    "execution": {
     "iopub.execute_input": "2025-05-08T16:56:27.587533Z",
     "iopub.status.busy": "2025-05-08T16:56:27.587451Z",
     "iopub.status.idle": "2025-05-08T16:56:28.025476Z",
     "shell.execute_reply": "2025-05-08T16:56:28.025206Z"
    }
   },
   "outputs": [],
   "source": [
    "dist = ment.dist.get_dist(dist_name, ndim=ndim, seed=seed, normalize=True)\n",
    "x_true = dist.sample(1_000_000)"
   ]
  },
  {
   "cell_type": "code",
   "execution_count": null,
   "id": "eb737a85-3622-4ea3-9af0-9c7dd2e6517b",
   "metadata": {
    "execution": {
     "iopub.execute_input": "2025-05-08T16:56:28.026867Z",
     "iopub.status.busy": "2025-05-08T16:56:28.026776Z",
     "iopub.status.idle": "2025-05-08T16:56:28.601933Z",
     "shell.execute_reply": "2025-05-08T16:56:28.601674Z"
    }
   },
   "outputs": [],
   "source": [
    "limits = 2 * [(-xmax, xmax)]\n",
    "\n",
    "fig, axs = plt.subplots(ncols=2, figheight=2.5)\n",
    "for i, ax in enumerate(axs):\n",
    "    hist, edges = np.histogramdd(x_true, bins=75, range=limits)\n",
    "    psv.plot(\n",
    "        x_true,\n",
    "        limits=limits,\n",
    "        bins=75,\n",
    "        offset=1.0,\n",
    "        norm=(\"log\" if i else None),\n",
    "        colorbar=True,\n",
    "        ax=ax,\n",
    "    )"
   ]
  },
  {
   "cell_type": "markdown",
   "id": "a3730928-01e3-4592-856f-eff841c4bc7b",
   "metadata": {},
   "source": [
    "## Data generation"
   ]
  },
  {
   "cell_type": "code",
   "execution_count": null,
   "id": "ada46396-03f8-4bd9-9348-d2e85f94794b",
   "metadata": {
    "execution": {
     "iopub.execute_input": "2025-05-08T16:56:28.603233Z",
     "iopub.status.busy": "2025-05-08T16:56:28.603124Z",
     "iopub.status.idle": "2025-05-08T16:56:28.837720Z",
     "shell.execute_reply": "2025-05-08T16:56:28.837450Z"
    }
   },
   "outputs": [],
   "source": [
    "phase_advances = np.linspace(0.0, np.pi, n_meas, endpoint=False)\n",
    "\n",
    "transfer_matrices = []\n",
    "for phase_advance in phase_advances:\n",
    "    matrix = ment.sim.rotation_matrix(phase_advance)\n",
    "    transfer_matrices.append(matrix)\n",
    "\n",
    "transforms = []\n",
    "for matrix in transfer_matrices:\n",
    "    transform = ment.sim.LinearTransform(matrix)\n",
    "    transforms.append(transform)\n",
    "\n",
    "bin_edges = np.linspace(-xmax, xmax, n_bins + 1)\n",
    "\n",
    "diagnostics = []\n",
    "for transform in transforms:\n",
    "    diagnostic = ment.Histogram1D(axis=0, edges=bin_edges)\n",
    "    diagnostics.append([diagnostic])\n",
    "\n",
    "projections = ment.sim.simulate_with_diag_update(\n",
    "    x_true,\n",
    "    transforms,\n",
    "    diagnostics,\n",
    "    kde=False,\n",
    "    blur=0.0,\n",
    ")"
   ]
  },
  {
   "cell_type": "markdown",
   "id": "e03c8f77-ca48-45b6-857d-6ac5c03b790c",
   "metadata": {},
   "source": [
    "## Reconstruction model"
   ]
  },
  {
   "cell_type": "code",
   "execution_count": null,
   "id": "6e17440a-e578-43c8-8bbb-62697f920776",
   "metadata": {
    "execution": {
     "iopub.execute_input": "2025-05-08T16:56:28.839241Z",
     "iopub.status.busy": "2025-05-08T16:56:28.839158Z",
     "iopub.status.idle": "2025-05-08T16:56:28.841963Z",
     "shell.execute_reply": "2025-05-08T16:56:28.841677Z"
    }
   },
   "outputs": [],
   "source": [
    "prior = ment.GaussianPrior(ndim=2, scale=1.0)\n",
    "\n",
    "samp_grid_limits = limits\n",
    "samp_grid_shape = ndim * [200]\n",
    "sampler = ment.GridSampler(grid_limits=samp_grid_limits, grid_shape=samp_grid_shape)\n",
    "\n",
    "integration_limits = [(-xmax, xmax)]\n",
    "integration_limits = [integration_limits for transform in transforms]\n",
    "integration_size = 200\n",
    "\n",
    "model = ment.MENT(\n",
    "    ndim=ndim,\n",
    "    transforms=transforms,\n",
    "    projections=projections,\n",
    "    prior=prior,\n",
    "    interpolation_kws=dict(method=\"linear\"),\n",
    "    sampler=sampler,\n",
    "    nsamp=1_000_000,\n",
    "    integration_limits=integration_limits,\n",
    "    integration_size=integration_size,\n",
    "    integration_loop=False,  # vectorize integration\n",
    "    verbose=0,\n",
    ")"
   ]
  },
  {
   "cell_type": "markdown",
   "id": "106bbf19-fa50-46a1-9478-104e028b9002",
   "metadata": {},
   "source": [
    "## Training"
   ]
  },
  {
   "cell_type": "code",
   "execution_count": null,
   "id": "a6b0a9e7-485d-44e5-9c35-0918be80b67e",
   "metadata": {
    "execution": {
     "iopub.execute_input": "2025-05-08T16:56:28.843253Z",
     "iopub.status.busy": "2025-05-08T16:56:28.843169Z",
     "iopub.status.idle": "2025-05-08T16:56:28.846303Z",
     "shell.execute_reply": "2025-05-08T16:56:28.846092Z"
    }
   },
   "outputs": [],
   "source": [
    "def plot_model(model):\n",
    "    figs = []\n",
    "\n",
    "    # Plot reconstructed vs. true distribution.\n",
    "    x_pred = model.sample(1_000_000)\n",
    "\n",
    "    fig, axs = plt.subplots(ncols=2, figheight=2.5)\n",
    "    for i, ax in enumerate(axs):\n",
    "        psv.plot(\n",
    "            x_pred,\n",
    "            limits=limits,\n",
    "            bins=128,\n",
    "            offset=1.0,\n",
    "            norm=(\"log\" if i else None),\n",
    "            colorbar=True,\n",
    "            discrete=False,\n",
    "            ax=ax,\n",
    "        )\n",
    "    figs.append(fig)\n",
    "\n",
    "    # Plot simulated vs. measured projections.\n",
    "    projections_true = ment.unravel(model.projections)\n",
    "    projections_pred = ment.unravel(\n",
    "        ment.simulate(x_pred, model.transforms, model.diagnostics)\n",
    "    )\n",
    "\n",
    "    ncols = min(n_meas, 7)\n",
    "    nrows = int(np.ceil(n_meas / ncols))\n",
    "\n",
    "    for log in [False, True]:\n",
    "        fig, axs = plt.subplots(\n",
    "            ncols=ncols, nrows=nrows, figsize=(1.5 * ncols, 1.25 * nrows)\n",
    "        )\n",
    "        for index in range(len(projections_true)):\n",
    "            ax = axs[index]\n",
    "            proj_true = projections_true[index]\n",
    "            proj_pred = projections_pred[index]\n",
    "            scale = np.max(proj_true.values)\n",
    "            ax.plot(proj_true.coords, proj_true.values / scale, color=\"lightgray\")\n",
    "            ax.plot(\n",
    "                proj_pred.coords,\n",
    "                proj_pred.values / scale,\n",
    "                color=\"black\",\n",
    "                marker=\".\",\n",
    "                lw=0,\n",
    "                ms=1.0,\n",
    "            )\n",
    "            ax.format(ymax=1.25, xlim=(-xmax, xmax))\n",
    "            if log:\n",
    "                ax.format(yscale=\"log\", ymax=5.0, ymin=1.00e-05, yformatter=\"log\")\n",
    "        figs.append(fig)\n",
    "\n",
    "    return figs"
   ]
  },
  {
   "cell_type": "code",
   "execution_count": null,
   "id": "a83549f8-ec16-4053-aadc-ec203fcf45be",
   "metadata": {
    "execution": {
     "iopub.execute_input": "2025-05-08T16:56:28.847456Z",
     "iopub.status.busy": "2025-05-08T16:56:28.847370Z",
     "iopub.status.idle": "2025-05-08T16:56:35.455491Z",
     "shell.execute_reply": "2025-05-08T16:56:35.455225Z"
    }
   },
   "outputs": [],
   "source": [
    "model.mode = \"integrate\"\n",
    "\n",
    "trainer = ment.train.Trainer(\n",
    "    model,\n",
    "    plot_func=plot_model,\n",
    "    eval_func=ment.train.Evaluator(nsamp=100_000),\n",
    "    notebook=True,\n",
    ")\n",
    "\n",
    "trainer.train(epochs=4, learning_rate=0.75)"
   ]
  },
  {
   "cell_type": "code",
   "execution_count": null,
   "id": "cecb1652-56c2-43d2-8b8f-9005757c126c",
   "metadata": {},
   "outputs": [],
   "source": []
  },
  {
   "cell_type": "code",
   "execution_count": null,
   "id": "23e0b56d-177d-4610-9e39-93b183ae0da6",
   "metadata": {},
   "outputs": [],
   "source": []
  }
 ],
 "metadata": {
  "kernelspec": {
   "display_name": "ment",
   "language": "python",
   "name": "ment"
  },
  "language_info": {
   "codemirror_mode": {
    "name": "ipython",
    "version": 3
   },
   "file_extension": ".py",
   "mimetype": "text/x-python",
   "name": "python",
   "nbconvert_exporter": "python",
   "pygments_lexer": "ipython3",
   "version": "3.12.8"
  }
 },
 "nbformat": 4,
 "nbformat_minor": 5
}
