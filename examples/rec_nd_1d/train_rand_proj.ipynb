{
 "cells": [
  {
   "cell_type": "markdown",
   "id": "c2ac3b4e-3775-47e7-b334-46e8b1e13077",
   "metadata": {},
   "source": [
    "# N:1 MENT — random projections"
   ]
  },
  {
   "cell_type": "code",
   "execution_count": null,
   "id": "553be401-ef87-43c2-81ae-82a085fd7fbe",
   "metadata": {
    "execution": {
     "iopub.execute_input": "2025-05-08T16:56:37.183970Z",
     "iopub.status.busy": "2025-05-08T16:56:37.183345Z",
     "iopub.status.idle": "2025-05-08T16:56:38.205315Z",
     "shell.execute_reply": "2025-05-08T16:56:38.205024Z"
    }
   },
   "outputs": [],
   "source": [
    "import os\n",
    "import sys\n",
    "import time\n",
    "\n",
    "import numpy as np\n",
    "import psdist as ps\n",
    "import psdist.plot as psv\n",
    "import ultraplot as plt\n",
    "from ipywidgets import interact\n",
    "from tqdm.notebook import tqdm\n",
    "from tqdm.notebook import trange\n",
    "\n",
    "import ment\n",
    "from ment.train.plot import Plotter\n",
    "from ment.train.plot import PlotDistCorner\n",
    "from ment.train.plot import PlotProj1D\n",
    "from ment.utils import unravel"
   ]
  },
  {
   "cell_type": "code",
   "execution_count": null,
   "id": "5d223313-d7d0-41ec-b323-bf36b3619f03",
   "metadata": {
    "execution": {
     "iopub.execute_input": "2025-05-08T16:56:38.206925Z",
     "iopub.status.busy": "2025-05-08T16:56:38.206789Z",
     "iopub.status.idle": "2025-05-08T16:56:38.208999Z",
     "shell.execute_reply": "2025-05-08T16:56:38.208731Z"
    }
   },
   "outputs": [],
   "source": [
    "plt.rc[\"cmap.discrete\"] = False\n",
    "plt.rc[\"cmap.sequential\"] = \"viridis\"\n",
    "plt.rc[\"figure.facecolor\"] = \"white\"\n",
    "plt.rc[\"grid\"] = False"
   ]
  },
  {
   "cell_type": "markdown",
   "id": "2b06b0ea-9a6c-4f57-b05a-f0e5b1d0cbbc",
   "metadata": {},
   "source": [
    "## Settings"
   ]
  },
  {
   "cell_type": "code",
   "execution_count": null,
   "id": "802e2ae5-fc61-4ca0-a132-635bb7a5dc5f",
   "metadata": {
    "execution": {
     "iopub.execute_input": "2025-05-08T16:56:38.210220Z",
     "iopub.status.busy": "2025-05-08T16:56:38.210146Z",
     "iopub.status.idle": "2025-05-08T16:56:38.211758Z",
     "shell.execute_reply": "2025-05-08T16:56:38.211565Z"
    }
   },
   "outputs": [],
   "source": [
    "dist_name = \"gaussian-mixture\"\n",
    "ndim = 6\n",
    "xmax = 3.5\n",
    "seed = 12345"
   ]
  },
  {
   "cell_type": "markdown",
   "id": "98da359a-b574-4d32-ac37-070006133006",
   "metadata": {},
   "source": [
    "## Source distribution"
   ]
  },
  {
   "cell_type": "code",
   "execution_count": null,
   "id": "4676ab41-fca5-441e-bd1d-8ccab2f1299f",
   "metadata": {
    "execution": {
     "iopub.execute_input": "2025-05-08T16:56:38.212791Z",
     "iopub.status.busy": "2025-05-08T16:56:38.212710Z",
     "iopub.status.idle": "2025-05-08T16:56:38.361089Z",
     "shell.execute_reply": "2025-05-08T16:56:38.360766Z"
    }
   },
   "outputs": [],
   "source": [
    "dist = ment.dist.get_dist(dist_name, ndim=ndim, seed=seed)\n",
    "x_true = dist.sample(1_000_000)"
   ]
  },
  {
   "cell_type": "code",
   "execution_count": null,
   "id": "35ce0a95-a5ce-407c-87b6-c6e688b78a32",
   "metadata": {
    "execution": {
     "iopub.execute_input": "2025-05-08T16:56:38.362574Z",
     "iopub.status.busy": "2025-05-08T16:56:38.362482Z",
     "iopub.status.idle": "2025-05-08T16:56:41.014067Z",
     "shell.execute_reply": "2025-05-08T16:56:41.013768Z"
    }
   },
   "outputs": [],
   "source": [
    "limits = ndim * [(-xmax, xmax)]\n",
    "\n",
    "grid = psv.CornerGrid(ndim, figwidth=(ndim * 1.25))\n",
    "grid.plot_points(x_true, limits=limits, bins=64, mask=False)\n",
    "plt.show()"
   ]
  },
  {
   "cell_type": "markdown",
   "id": "a3730928-01e3-4592-856f-eff841c4bc7b",
   "metadata": {},
   "source": [
    "## Data generation"
   ]
  },
  {
   "cell_type": "code",
   "execution_count": null,
   "id": "f2bab6a2-d0f5-41da-8120-b3af5bb1abd9",
   "metadata": {
    "execution": {
     "iopub.execute_input": "2025-05-08T16:56:41.015580Z",
     "iopub.status.busy": "2025-05-08T16:56:41.015469Z",
     "iopub.status.idle": "2025-05-08T16:56:41.017208Z",
     "shell.execute_reply": "2025-05-08T16:56:41.016931Z"
    }
   },
   "outputs": [],
   "source": [
    "nmeas = 10\n",
    "nbins = 64\n",
    "blur = 0.0\n",
    "kde = False\n",
    "kde_bandwidth_frac = 1.0"
   ]
  },
  {
   "cell_type": "markdown",
   "id": "3673e5b2-157d-4937-b192-bb3919443f2f",
   "metadata": {},
   "source": [
    "Create phase space transformations."
   ]
  },
  {
   "cell_type": "code",
   "execution_count": null,
   "id": "109fde53-2012-4a3e-9678-894041d7711e",
   "metadata": {
    "execution": {
     "iopub.execute_input": "2025-05-08T16:56:41.018406Z",
     "iopub.status.busy": "2025-05-08T16:56:41.018330Z",
     "iopub.status.idle": "2025-05-08T16:56:41.020283Z",
     "shell.execute_reply": "2025-05-08T16:56:41.020058Z"
    }
   },
   "outputs": [],
   "source": [
    "class ProjectionTransform:\n",
    "    def __init__(self, direction: np.ndarray) -> None:\n",
    "        self.direction = direction\n",
    "\n",
    "    def __call__(self, x: np.ndarray) -> np.ndarray:\n",
    "        return np.sum(x * self.direction, axis=1)[:, None]"
   ]
  },
  {
   "cell_type": "code",
   "execution_count": null,
   "id": "5396a582-f8d2-4d85-a4cd-c079ed16f77b",
   "metadata": {
    "execution": {
     "iopub.execute_input": "2025-05-08T16:56:41.021443Z",
     "iopub.status.busy": "2025-05-08T16:56:41.021345Z",
     "iopub.status.idle": "2025-05-08T16:56:41.023304Z",
     "shell.execute_reply": "2025-05-08T16:56:41.023106Z"
    }
   },
   "outputs": [],
   "source": [
    "transforms = []\n",
    "directions = np.random.normal(size=(nmeas, ndim))\n",
    "for direction in directions:\n",
    "    direction = np.random.normal(size=ndim)\n",
    "    direction = direction / np.linalg.norm(direction)\n",
    "    transform = ProjectionTransform(direction)\n",
    "    transforms.append(transform)"
   ]
  },
  {
   "cell_type": "markdown",
   "id": "0cd02b03-3313-47b7-ac76-df6b83751d79",
   "metadata": {},
   "source": [
    "Create histogram diagnostics."
   ]
  },
  {
   "cell_type": "code",
   "execution_count": null,
   "id": "bb185bd0-81b0-423d-a8d0-b81c0df105cb",
   "metadata": {
    "execution": {
     "iopub.execute_input": "2025-05-08T16:56:41.024469Z",
     "iopub.status.busy": "2025-05-08T16:56:41.024388Z",
     "iopub.status.idle": "2025-05-08T16:56:41.026273Z",
     "shell.execute_reply": "2025-05-08T16:56:41.026077Z"
    }
   },
   "outputs": [],
   "source": [
    "axis_proj = axis_meas = 0\n",
    "bin_edges = np.linspace(-xmax, xmax, nbins + 1)\n",
    "\n",
    "diagnostics = []\n",
    "for transform in transforms:\n",
    "    diagnostic = ment.diag.Histogram1D(\n",
    "        axis=axis_meas,\n",
    "        edges=bin_edges,\n",
    "        kde=kde,\n",
    "        kde_bandwidth_frac=kde_bandwidth_frac,\n",
    "    )\n",
    "    diagnostics.append([diagnostic])"
   ]
  },
  {
   "cell_type": "markdown",
   "id": "2fd11247-802b-4700-bb9a-5e08e0ae637f",
   "metadata": {},
   "source": [
    "Generate data from the source distribution."
   ]
  },
  {
   "cell_type": "code",
   "execution_count": null,
   "id": "8961e6ce-a8d0-4bb6-8cf1-f63b4447dc1c",
   "metadata": {
    "execution": {
     "iopub.execute_input": "2025-05-08T16:56:41.027310Z",
     "iopub.status.busy": "2025-05-08T16:56:41.027232Z",
     "iopub.status.idle": "2025-05-08T16:56:41.471257Z",
     "shell.execute_reply": "2025-05-08T16:56:41.470936Z"
    }
   },
   "outputs": [],
   "source": [
    "projections = ment.simulate_with_diag_update(\n",
    "    x_true,\n",
    "    transforms,\n",
    "    diagnostics,\n",
    "    kde=False,\n",
    "    blur=False,\n",
    "    thresh=5.00e-03,\n",
    ")"
   ]
  },
  {
   "cell_type": "markdown",
   "id": "feded3ff-bf64-4dd0-aec0-8bfa50234f1f",
   "metadata": {},
   "source": [
    "## Reconstruction model"
   ]
  },
  {
   "cell_type": "code",
   "execution_count": null,
   "id": "b37ff667-6766-4074-b125-2fe80b2ea8d9",
   "metadata": {
    "execution": {
     "iopub.execute_input": "2025-05-08T16:56:41.472892Z",
     "iopub.status.busy": "2025-05-08T16:56:41.472797Z",
     "iopub.status.idle": "2025-05-08T16:56:41.474756Z",
     "shell.execute_reply": "2025-05-08T16:56:41.474521Z"
    }
   },
   "outputs": [],
   "source": [
    "prior = ment.GaussianPrior(ndim=ndim, scale=1.0)"
   ]
  },
  {
   "cell_type": "code",
   "execution_count": null,
   "id": "29b4b160-4f18-446c-ad1c-599e1d2bbcdc",
   "metadata": {
    "execution": {
     "iopub.execute_input": "2025-05-08T16:56:41.475901Z",
     "iopub.status.busy": "2025-05-08T16:56:41.475812Z",
     "iopub.status.idle": "2025-05-08T16:56:41.478337Z",
     "shell.execute_reply": "2025-05-08T16:56:41.478136Z"
    }
   },
   "outputs": [],
   "source": [
    "samp_method = \"mcmc\"\n",
    "\n",
    "if samp_method == \"grid\":\n",
    "    samp_grid_res = 32\n",
    "    samp_noise = 0.5\n",
    "    samp_grid_shape = ndim * [samp_grid_res]\n",
    "    samp_grid_limits = limits\n",
    "\n",
    "    sampler = ment.samp.GridSampler(\n",
    "        grid_limits=samp_grid_limits,\n",
    "        grid_shape=samp_grid_shape,\n",
    "        noise=samp_noise,\n",
    "    )\n",
    "elif samp_method == \"mcmc\":\n",
    "    samp_burnin = 500\n",
    "    samp_chains = 1000\n",
    "    samp_prop_cov = np.eye(ndim) * (0.5**2)\n",
    "    samp_start = np.random.normal(size=(samp_chains, ndim)) * 0.50\n",
    "\n",
    "    sampler = ment.MetropolisHastingsSampler(\n",
    "        ndim=ndim,\n",
    "        chains=samp_chains,\n",
    "        start=samp_start,\n",
    "        proposal_cov=samp_prop_cov,\n",
    "        burnin=samp_burnin,\n",
    "        shuffle=True,\n",
    "        verbose=False,\n",
    "        debug=False,\n",
    "        noise_scale=0.10,  # slight smoothing\n",
    "        noise_type=\"gaussian\",\n",
    "    )\n",
    "\n",
    "else:\n",
    "    raise ValueError"
   ]
  },
  {
   "cell_type": "code",
   "execution_count": null,
   "id": "776602a0-51eb-4293-b503-e9989b5eada8",
   "metadata": {
    "execution": {
     "iopub.execute_input": "2025-05-08T16:56:41.479672Z",
     "iopub.status.busy": "2025-05-08T16:56:41.479576Z",
     "iopub.status.idle": "2025-05-08T16:56:41.481552Z",
     "shell.execute_reply": "2025-05-08T16:56:41.481342Z"
    }
   },
   "outputs": [],
   "source": [
    "model = ment.MENT(\n",
    "    ndim=ndim,\n",
    "    transforms=transforms,\n",
    "    projections=projections,\n",
    "    prior=prior,\n",
    "    interpolation_kws=dict(method=\"linear\"),\n",
    "    sampler=sampler,\n",
    "    nsamp=100_000,\n",
    "    mode=\"sample\",\n",
    "    verbose=True,\n",
    ")"
   ]
  },
  {
   "cell_type": "code",
   "execution_count": null,
   "id": "619425df-7868-40fe-a862-11fd30c089fa",
   "metadata": {
    "execution": {
     "iopub.execute_input": "2025-05-08T16:56:41.482619Z",
     "iopub.status.busy": "2025-05-08T16:56:41.482533Z",
     "iopub.status.idle": "2025-05-08T16:56:41.950976Z",
     "shell.execute_reply": "2025-05-08T16:56:41.950706Z"
    }
   },
   "outputs": [],
   "source": [
    "sampler.debug = True\n",
    "model.sample(1000)\n",
    "sampler.debug = False"
   ]
  },
  {
   "cell_type": "markdown",
   "id": "adb5bd95-d320-4dc0-bb13-a14673ced12e",
   "metadata": {},
   "source": [
    "## Training"
   ]
  },
  {
   "cell_type": "code",
   "execution_count": null,
   "id": "ab619ba5-5784-414e-9571-3ece55909c83",
   "metadata": {
    "execution": {
     "iopub.execute_input": "2025-05-08T16:56:41.952490Z",
     "iopub.status.busy": "2025-05-08T16:56:41.952401Z",
     "iopub.status.idle": "2025-05-08T16:56:41.954274Z",
     "shell.execute_reply": "2025-05-08T16:56:41.953991Z"
    }
   },
   "outputs": [],
   "source": [
    "plot_nsamp = x_true.shape[0]"
   ]
  },
  {
   "cell_type": "code",
   "execution_count": null,
   "id": "a063d318-7f3d-4691-8500-038ea8adbb17",
   "metadata": {
    "execution": {
     "iopub.execute_input": "2025-05-08T16:56:41.955469Z",
     "iopub.status.busy": "2025-05-08T16:56:41.955382Z",
     "iopub.status.idle": "2025-05-08T16:56:41.957339Z",
     "shell.execute_reply": "2025-05-08T16:56:41.957111Z"
    }
   },
   "outputs": [],
   "source": [
    "plot_model = Plotter(\n",
    "    n_samples=plot_nsamp,\n",
    "    plot_proj=[\n",
    "        PlotProj1D(log=False),\n",
    "    ],\n",
    "    plot_dist=[\n",
    "        PlotDistCorner(\n",
    "            fig_kws=dict(figwidth=(ndim * 1.25), diag_shrink=0.80),\n",
    "            limits=(ndim * [(-xmax, xmax)]),\n",
    "            bins=64,\n",
    "        ),\n",
    "    ],\n",
    ")\n",
    "\n",
    "eval_model = ment.train.Evaluator(nsamp=plot_nsamp)"
   ]
  },
  {
   "cell_type": "code",
   "execution_count": null,
   "id": "132104e7-8115-4d6d-b236-c857d90617bc",
   "metadata": {
    "execution": {
     "iopub.execute_input": "2025-05-08T16:56:41.958451Z",
     "iopub.status.busy": "2025-05-08T16:56:41.958370Z",
     "iopub.status.idle": "2025-05-08T16:57:31.577868Z",
     "shell.execute_reply": "2025-05-08T16:57:31.577606Z"
    }
   },
   "outputs": [],
   "source": [
    "trainer = ment.train.Trainer(\n",
    "    model,\n",
    "    plot_func=plot_model,\n",
    "    eval_func=eval_model,\n",
    "    notebook=True,\n",
    ")\n",
    "\n",
    "trainer.train(epochs=3, learning_rate=0.95)"
   ]
  },
  {
   "cell_type": "markdown",
   "id": "b23a420f-052b-4f67-82b2-45f394de801d",
   "metadata": {},
   "source": [
    "## Evaluate"
   ]
  },
  {
   "cell_type": "code",
   "execution_count": null,
   "id": "b695765a-e70b-4c65-9a77-bddced9378fa",
   "metadata": {
    "execution": {
     "iopub.execute_input": "2025-05-08T16:57:31.579239Z",
     "iopub.status.busy": "2025-05-08T16:57:31.579159Z",
     "iopub.status.idle": "2025-05-08T16:57:33.461626Z",
     "shell.execute_reply": "2025-05-08T16:57:33.461333Z"
    }
   },
   "outputs": [],
   "source": [
    "x_pred = model.unnormalize(model.sample(1_000_000))"
   ]
  },
  {
   "cell_type": "code",
   "execution_count": null,
   "id": "5058a270-000e-4b73-9ba9-8e53e4d18da0",
   "metadata": {
    "execution": {
     "iopub.execute_input": "2025-05-08T16:57:33.463120Z",
     "iopub.status.busy": "2025-05-08T16:57:33.463038Z",
     "iopub.status.idle": "2025-05-08T16:57:37.629588Z",
     "shell.execute_reply": "2025-05-08T16:57:37.629162Z"
    }
   },
   "outputs": [],
   "source": [
    "grid = psv.CornerGrid(\n",
    "    ndim, figheight=(ndim * 1.10), figwidth=(ndim * 1.25), diag_rspine=True, space=1.5\n",
    ")\n",
    "for i, x in enumerate([x_true, x_pred]):\n",
    "    color = [\"black\", \"red\"][i]\n",
    "    lw = [1.2, 0.7][i]\n",
    "    grid.plot(\n",
    "        x,\n",
    "        limits=limits,\n",
    "        bins=75,\n",
    "        diag_kws=dict(color=color, lw=(lw * 1.25)),\n",
    "        kind=\"contour\",\n",
    "        process_kws=dict(blur=0.0, scale=\"max\"),\n",
    "        mask=False,\n",
    "        levels=np.linspace(0.01, 1.0, 7),\n",
    "        color=color,\n",
    "        lw=lw,\n",
    "    )\n",
    "plt.show()"
   ]
  },
  {
   "cell_type": "code",
   "execution_count": null,
   "id": "80fbd755-4f2a-4ef2-8251-e3fdfe9e2dee",
   "metadata": {
    "execution": {
     "iopub.execute_input": "2025-05-08T16:57:37.631905Z",
     "iopub.status.busy": "2025-05-08T16:57:37.631773Z",
     "iopub.status.idle": "2025-05-08T16:57:41.895664Z",
     "shell.execute_reply": "2025-05-08T16:57:41.895389Z"
    }
   },
   "outputs": [],
   "source": [
    "grid = psv.CornerGrid(\n",
    "    ndim, figheight=(ndim * 1.10), figwidth=(ndim * 1.25), diag_rspine=True, space=1.5\n",
    ")\n",
    "for i, x in enumerate([x_true, x_pred]):\n",
    "    color = [\"black\", \"red\"][i]\n",
    "    lw = [1.2, 0.7][i]\n",
    "    grid.plot(\n",
    "        x,\n",
    "        limits=limits,\n",
    "        bins=75,\n",
    "        diag_kws=dict(color=color, lw=(lw * 1.25)),\n",
    "        kind=\"contour\",\n",
    "        process_kws=dict(blur=1.0, scale=\"max\"),\n",
    "        mask=False,\n",
    "        levels=(10.0 ** np.linspace(-3.0, 0.0, 7)),\n",
    "        color=color,\n",
    "        lw=lw,\n",
    "    )\n",
    "    grid.format_diag(yscale=\"log\", yformatter=\"log\", ymax=5.0, ymin=0.0001)\n",
    "plt.show()"
   ]
  },
  {
   "cell_type": "code",
   "execution_count": null,
   "id": "f87f91f3-b30f-4b3e-88dc-d41c4805472c",
   "metadata": {},
   "outputs": [],
   "source": []
  }
 ],
 "metadata": {
  "kernelspec": {
   "display_name": "ment",
   "language": "python",
   "name": "ment"
  },
  "language_info": {
   "codemirror_mode": {
    "name": "ipython",
    "version": 3
   },
   "file_extension": ".py",
   "mimetype": "text/x-python",
   "name": "python",
   "nbconvert_exporter": "python",
   "pygments_lexer": "ipython3",
   "version": "3.12.8"
  }
 },
 "nbformat": 4,
 "nbformat_minor": 5
}
