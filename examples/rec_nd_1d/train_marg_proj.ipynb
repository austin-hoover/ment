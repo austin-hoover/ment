{
 "cells": [
  {
   "cell_type": "markdown",
   "id": "c2ac3b4e-3775-47e7-b334-46e8b1e13077",
   "metadata": {},
   "source": [
    "# N:1 MENT — marginal projections"
   ]
  },
  {
   "cell_type": "code",
   "execution_count": null,
   "id": "553be401-ef87-43c2-81ae-82a085fd7fbe",
   "metadata": {
    "execution": {
     "iopub.execute_input": "2025-05-08T16:57:43.824296Z",
     "iopub.status.busy": "2025-05-08T16:57:43.823846Z",
     "iopub.status.idle": "2025-05-08T16:57:45.019409Z",
     "shell.execute_reply": "2025-05-08T16:57:45.019158Z"
    }
   },
   "outputs": [],
   "source": [
    "import os\n",
    "import sys\n",
    "import time\n",
    "\n",
    "import numpy as np\n",
    "import psdist as ps\n",
    "import psdist.plot as psv\n",
    "import ultraplot as plt\n",
    "from ipywidgets import interact\n",
    "from tqdm.notebook import tqdm\n",
    "from tqdm.notebook import trange\n",
    "\n",
    "import ment\n",
    "from ment.train.plot import Plotter\n",
    "from ment.train.plot import PlotDistCorner\n",
    "from ment.train.plot import PlotProj1D\n",
    "from ment.utils import unravel"
   ]
  },
  {
   "cell_type": "code",
   "execution_count": null,
   "id": "5d223313-d7d0-41ec-b323-bf36b3619f03",
   "metadata": {
    "execution": {
     "iopub.execute_input": "2025-05-08T16:57:45.020915Z",
     "iopub.status.busy": "2025-05-08T16:57:45.020784Z",
     "iopub.status.idle": "2025-05-08T16:57:45.022856Z",
     "shell.execute_reply": "2025-05-08T16:57:45.022606Z"
    }
   },
   "outputs": [],
   "source": [
    "plt.rc[\"cmap.discrete\"] = False\n",
    "plt.rc[\"cmap.sequential\"] = \"viridis\"\n",
    "plt.rc[\"figure.facecolor\"] = \"white\"\n",
    "plt.rc[\"grid\"] = False"
   ]
  },
  {
   "cell_type": "markdown",
   "id": "2b06b0ea-9a6c-4f57-b05a-f0e5b1d0cbbc",
   "metadata": {},
   "source": [
    "## Settings"
   ]
  },
  {
   "cell_type": "code",
   "execution_count": null,
   "id": "802e2ae5-fc61-4ca0-a132-635bb7a5dc5f",
   "metadata": {
    "execution": {
     "iopub.execute_input": "2025-05-08T16:57:45.023979Z",
     "iopub.status.busy": "2025-05-08T16:57:45.023890Z",
     "iopub.status.idle": "2025-05-08T16:57:45.025438Z",
     "shell.execute_reply": "2025-05-08T16:57:45.025216Z"
    }
   },
   "outputs": [],
   "source": [
    "dist_name = \"gaussian-mixture\"\n",
    "ndim = 6\n",
    "xmax = 3.5\n",
    "seed = 12345"
   ]
  },
  {
   "cell_type": "markdown",
   "id": "98da359a-b574-4d32-ac37-070006133006",
   "metadata": {},
   "source": [
    "## Source distribution"
   ]
  },
  {
   "cell_type": "code",
   "execution_count": null,
   "id": "4676ab41-fca5-441e-bd1d-8ccab2f1299f",
   "metadata": {
    "execution": {
     "iopub.execute_input": "2025-05-08T16:57:45.026489Z",
     "iopub.status.busy": "2025-05-08T16:57:45.026406Z",
     "iopub.status.idle": "2025-05-08T16:57:45.181690Z",
     "shell.execute_reply": "2025-05-08T16:57:45.181387Z"
    }
   },
   "outputs": [],
   "source": [
    "dist = ment.dist.get_dist(dist_name, ndim=ndim, seed=seed)\n",
    "x_true = dist.sample(1_000_000)"
   ]
  },
  {
   "cell_type": "code",
   "execution_count": null,
   "id": "35ce0a95-a5ce-407c-87b6-c6e688b78a32",
   "metadata": {
    "execution": {
     "iopub.execute_input": "2025-05-08T16:57:45.183213Z",
     "iopub.status.busy": "2025-05-08T16:57:45.183118Z",
     "iopub.status.idle": "2025-05-08T16:57:47.870150Z",
     "shell.execute_reply": "2025-05-08T16:57:47.869740Z"
    }
   },
   "outputs": [],
   "source": [
    "limits = ndim * [(-xmax, xmax)]\n",
    "\n",
    "grid = psv.CornerGrid(ndim, figwidth=(ndim * 1.25))\n",
    "grid.plot_points(x_true, limits=limits, bins=64, mask=False)\n",
    "plt.show()"
   ]
  },
  {
   "cell_type": "markdown",
   "id": "a3730928-01e3-4592-856f-eff841c4bc7b",
   "metadata": {},
   "source": [
    "## Data generation"
   ]
  },
  {
   "cell_type": "code",
   "execution_count": null,
   "id": "91d7008b-c009-4c02-8224-540b61b5a4c9",
   "metadata": {
    "execution": {
     "iopub.execute_input": "2025-05-08T16:57:47.871533Z",
     "iopub.status.busy": "2025-05-08T16:57:47.871428Z",
     "iopub.status.idle": "2025-05-08T16:57:47.873578Z",
     "shell.execute_reply": "2025-05-08T16:57:47.873249Z"
    }
   },
   "outputs": [],
   "source": [
    "nmeas = ndim * (ndim - 1) // 2\n",
    "nbins = 64\n",
    "blur = 0.0\n",
    "kde = False\n",
    "kde_bandwidth_frac = 1.0\n",
    "axis_meas = (0, 2)"
   ]
  },
  {
   "cell_type": "markdown",
   "id": "3f8953aa-5243-4d3b-b10b-76a0d4e4fbfd",
   "metadata": {},
   "source": [
    "Create phase space transformations."
   ]
  },
  {
   "cell_type": "code",
   "execution_count": null,
   "id": "9d2f179f-a3dd-4521-a7cf-5e7d23b81829",
   "metadata": {
    "execution": {
     "iopub.execute_input": "2025-05-08T16:57:47.875294Z",
     "iopub.status.busy": "2025-05-08T16:57:47.875173Z",
     "iopub.status.idle": "2025-05-08T16:57:47.877687Z",
     "shell.execute_reply": "2025-05-08T16:57:47.877373Z"
    }
   },
   "outputs": [],
   "source": [
    "rng = np.random.default_rng(seed)\n",
    "axis_meas = 0\n",
    "n_meas = ndim\n",
    "\n",
    "transfer_matrices = []\n",
    "for i in range(ndim):\n",
    "    j = axis_meas\n",
    "    matrix = np.identity(ndim)\n",
    "    matrix[i, i] = matrix[j, j] = 0.0\n",
    "    matrix[i, j] = matrix[j, i] = 1.0\n",
    "    transfer_matrices.append(matrix)\n",
    "\n",
    "transforms = []\n",
    "for matrix in transfer_matrices:\n",
    "    transform = ment.sim.LinearTransform(matrix)\n",
    "    transforms.append(transform)"
   ]
  },
  {
   "cell_type": "markdown",
   "id": "10b1b0ab-f9d9-4627-abe2-92efbe01f6fd",
   "metadata": {},
   "source": [
    "Create histogram diagnostics."
   ]
  },
  {
   "cell_type": "code",
   "execution_count": null,
   "id": "c798b661-f4cf-45e2-b24d-32890bb55b86",
   "metadata": {
    "execution": {
     "iopub.execute_input": "2025-05-08T16:57:47.879154Z",
     "iopub.status.busy": "2025-05-08T16:57:47.879052Z",
     "iopub.status.idle": "2025-05-08T16:57:47.881250Z",
     "shell.execute_reply": "2025-05-08T16:57:47.881020Z"
    }
   },
   "outputs": [],
   "source": [
    "axis_proj = axis_meas\n",
    "bin_edges = np.linspace(-xmax, xmax, nbins + 1)\n",
    "\n",
    "diagnostics = []\n",
    "for transform in transforms:\n",
    "    diagnostic = ment.diag.Histogram1D(\n",
    "        axis=axis_meas,\n",
    "        edges=bin_edges,\n",
    "        kde=kde,\n",
    "        kde_bandwidth_frac=kde_bandwidth_frac,\n",
    "    )\n",
    "    diagnostics.append([diagnostic])"
   ]
  },
  {
   "cell_type": "markdown",
   "id": "9811d365-7eb7-4119-82fc-c3dabf517f7c",
   "metadata": {},
   "source": [
    "Generate data from the source distribution."
   ]
  },
  {
   "cell_type": "code",
   "execution_count": null,
   "id": "ada46396-03f8-4bd9-9348-d2e85f94794b",
   "metadata": {
    "execution": {
     "iopub.execute_input": "2025-05-08T16:57:47.882478Z",
     "iopub.status.busy": "2025-05-08T16:57:47.882378Z",
     "iopub.status.idle": "2025-05-08T16:57:48.114618Z",
     "shell.execute_reply": "2025-05-08T16:57:48.114340Z"
    }
   },
   "outputs": [],
   "source": [
    "projections = ment.simulate_with_diag_update(\n",
    "    x_true,\n",
    "    transforms,\n",
    "    diagnostics,\n",
    "    kde=False,\n",
    "    blur=False,\n",
    "    thresh=5.00e-03,\n",
    ")"
   ]
  },
  {
   "cell_type": "markdown",
   "id": "feded3ff-bf64-4dd0-aec0-8bfa50234f1f",
   "metadata": {},
   "source": [
    "## Reconstruction model"
   ]
  },
  {
   "cell_type": "code",
   "execution_count": null,
   "id": "480ecc1b-fc1a-4dc8-ac9d-5827ee3879db",
   "metadata": {
    "execution": {
     "iopub.execute_input": "2025-05-08T16:57:48.116225Z",
     "iopub.status.busy": "2025-05-08T16:57:48.116111Z",
     "iopub.status.idle": "2025-05-08T16:57:48.118058Z",
     "shell.execute_reply": "2025-05-08T16:57:48.117834Z"
    }
   },
   "outputs": [],
   "source": [
    "prior = ment.GaussianPrior(ndim=ndim, scale=1.0)"
   ]
  },
  {
   "cell_type": "code",
   "execution_count": null,
   "id": "b37ff667-6766-4074-b125-2fe80b2ea8d9",
   "metadata": {
    "execution": {
     "iopub.execute_input": "2025-05-08T16:57:48.119226Z",
     "iopub.status.busy": "2025-05-08T16:57:48.119140Z",
     "iopub.status.idle": "2025-05-08T16:57:48.121910Z",
     "shell.execute_reply": "2025-05-08T16:57:48.121682Z"
    }
   },
   "outputs": [],
   "source": [
    "samp_method = \"mcmc\"\n",
    "\n",
    "if samp_method == \"grid\":\n",
    "    samp_grid_res = 32\n",
    "    samp_noise = 0.5\n",
    "    samp_grid_shape = ndim * [samp_grid_res]\n",
    "    samp_grid_limits = limits\n",
    "\n",
    "    sampler = ment.samp.GridSampler(\n",
    "        grid_limits=samp_grid_limits,\n",
    "        grid_shape=samp_grid_shape,\n",
    "        noise=samp_noise,\n",
    "    )\n",
    "elif samp_method == \"mcmc\":\n",
    "    samp_burnin = 500\n",
    "    samp_chains = 1000\n",
    "    samp_prop_cov = np.eye(ndim) * (0.5**2)\n",
    "    samp_start = np.random.normal(size=(samp_chains, ndim)) * 0.50\n",
    "\n",
    "    sampler = ment.MetropolisHastingsSampler(\n",
    "        ndim=ndim,\n",
    "        chains=samp_chains,\n",
    "        start=samp_start,\n",
    "        proposal_cov=samp_prop_cov,\n",
    "        burnin=samp_burnin,\n",
    "        shuffle=True,\n",
    "        verbose=False,\n",
    "        debug=False,\n",
    "        noise_scale=0.10,  # slight smoothing\n",
    "        noise_type=\"gaussian\",\n",
    "    )\n",
    "\n",
    "else:\n",
    "    raise ValueError"
   ]
  },
  {
   "cell_type": "code",
   "execution_count": null,
   "id": "29b4b160-4f18-446c-ad1c-599e1d2bbcdc",
   "metadata": {
    "execution": {
     "iopub.execute_input": "2025-05-08T16:57:48.123059Z",
     "iopub.status.busy": "2025-05-08T16:57:48.122953Z",
     "iopub.status.idle": "2025-05-08T16:57:48.125135Z",
     "shell.execute_reply": "2025-05-08T16:57:48.124911Z"
    }
   },
   "outputs": [],
   "source": [
    "model = ment.MENT(\n",
    "    ndim=ndim,\n",
    "    transforms=transforms,\n",
    "    projections=projections,\n",
    "    prior=prior,\n",
    "    interpolation_kws=dict(method=\"linear\"),\n",
    "    sampler=sampler,\n",
    "    nsamp=100_000,\n",
    "    mode=\"sample\",\n",
    "    verbose=True,\n",
    ")"
   ]
  },
  {
   "cell_type": "code",
   "execution_count": null,
   "id": "a66540ba-06b3-4450-94ff-b5b96e09a0a5",
   "metadata": {
    "execution": {
     "iopub.execute_input": "2025-05-08T16:57:48.126339Z",
     "iopub.status.busy": "2025-05-08T16:57:48.126248Z",
     "iopub.status.idle": "2025-05-08T16:57:48.442601Z",
     "shell.execute_reply": "2025-05-08T16:57:48.442322Z"
    }
   },
   "outputs": [],
   "source": [
    "sampler.debug = True\n",
    "model.sample(1000)\n",
    "sampler.debug = False"
   ]
  },
  {
   "cell_type": "markdown",
   "id": "adb5bd95-d320-4dc0-bb13-a14673ced12e",
   "metadata": {},
   "source": [
    "## Train"
   ]
  },
  {
   "cell_type": "code",
   "execution_count": null,
   "id": "ab619ba5-5784-414e-9571-3ece55909c83",
   "metadata": {
    "execution": {
     "iopub.execute_input": "2025-05-08T16:57:48.443922Z",
     "iopub.status.busy": "2025-05-08T16:57:48.443839Z",
     "iopub.status.idle": "2025-05-08T16:57:48.445847Z",
     "shell.execute_reply": "2025-05-08T16:57:48.445528Z"
    }
   },
   "outputs": [],
   "source": [
    "plot_nsamp = x_true.shape[0]"
   ]
  },
  {
   "cell_type": "code",
   "execution_count": null,
   "id": "a063d318-7f3d-4691-8500-038ea8adbb17",
   "metadata": {
    "execution": {
     "iopub.execute_input": "2025-05-08T16:57:48.447246Z",
     "iopub.status.busy": "2025-05-08T16:57:48.447128Z",
     "iopub.status.idle": "2025-05-08T16:57:48.449061Z",
     "shell.execute_reply": "2025-05-08T16:57:48.448850Z"
    }
   },
   "outputs": [],
   "source": [
    "plot_model = Plotter(\n",
    "    n_samples=plot_nsamp,\n",
    "    plot_proj=[\n",
    "        PlotProj1D(log=False),\n",
    "        PlotProj1D(log=True),\n",
    "    ],\n",
    "    plot_dist=[\n",
    "        PlotDistCorner(\n",
    "            fig_kws=dict(figwidth=(ndim * 1.25), diag_shrink=0.80),\n",
    "            limits=(ndim * [(-xmax, xmax)]),\n",
    "            bins=64,\n",
    "        ),\n",
    "    ],\n",
    ")\n",
    "\n",
    "eval_model = ment.train.Evaluator(nsamp=plot_nsamp)"
   ]
  },
  {
   "cell_type": "code",
   "execution_count": null,
   "id": "132104e7-8115-4d6d-b236-c857d90617bc",
   "metadata": {
    "execution": {
     "iopub.execute_input": "2025-05-08T16:57:48.450087Z",
     "iopub.status.busy": "2025-05-08T16:57:48.449993Z",
     "iopub.status.idle": "2025-05-08T16:58:22.057675Z",
     "shell.execute_reply": "2025-05-08T16:58:22.057417Z"
    }
   },
   "outputs": [],
   "source": [
    "trainer = ment.train.Trainer(\n",
    "    model,\n",
    "    plot_func=plot_model,\n",
    "    eval_func=eval_model,\n",
    "    notebook=True,\n",
    ")\n",
    "\n",
    "trainer.train(epochs=3, learning_rate=0.80)"
   ]
  },
  {
   "cell_type": "markdown",
   "id": "04936f78-f357-4ab6-b7f1-743f40cc360a",
   "metadata": {},
   "source": [
    "## Evaluate"
   ]
  },
  {
   "cell_type": "code",
   "execution_count": null,
   "id": "fd72dd0e-2ad8-4d3e-830f-deac16622547",
   "metadata": {
    "execution": {
     "iopub.execute_input": "2025-05-08T16:58:22.059102Z",
     "iopub.status.busy": "2025-05-08T16:58:22.059013Z",
     "iopub.status.idle": "2025-05-08T16:58:23.554086Z",
     "shell.execute_reply": "2025-05-08T16:58:23.553790Z"
    }
   },
   "outputs": [],
   "source": [
    "x_pred = model.unnormalize(model.sample(1_000_000))"
   ]
  },
  {
   "cell_type": "code",
   "execution_count": null,
   "id": "7476aa21-c02f-420c-8c73-2261674dd8bb",
   "metadata": {
    "execution": {
     "iopub.execute_input": "2025-05-08T16:58:23.555536Z",
     "iopub.status.busy": "2025-05-08T16:58:23.555453Z",
     "iopub.status.idle": "2025-05-08T16:58:27.703570Z",
     "shell.execute_reply": "2025-05-08T16:58:27.703290Z"
    }
   },
   "outputs": [],
   "source": [
    "grid = psv.CornerGrid(\n",
    "    ndim, figheight=(ndim * 1.10), figwidth=(ndim * 1.25), diag_rspine=True, space=1.5\n",
    ")\n",
    "for i, x in enumerate([x_true, x_pred]):\n",
    "    color = [\"black\", \"red\"][i]\n",
    "    lw = [1.2, 0.7][i]\n",
    "    grid.plot(\n",
    "        x,\n",
    "        limits=limits,\n",
    "        bins=75,\n",
    "        diag_kws=dict(color=color, lw=(lw * 1.25)),\n",
    "        kind=\"contour\",\n",
    "        process_kws=dict(blur=0.0, scale=\"max\"),\n",
    "        mask=False,\n",
    "        levels=np.linspace(0.01, 1.0, 7),\n",
    "        color=color,\n",
    "        lw=lw,\n",
    "    )\n",
    "plt.show()"
   ]
  },
  {
   "cell_type": "code",
   "execution_count": null,
   "id": "6b4bb023-8d67-4d7e-91a2-18161c3c4b52",
   "metadata": {
    "execution": {
     "iopub.execute_input": "2025-05-08T16:58:27.705567Z",
     "iopub.status.busy": "2025-05-08T16:58:27.705482Z",
     "iopub.status.idle": "2025-05-08T16:58:31.797684Z",
     "shell.execute_reply": "2025-05-08T16:58:31.797397Z"
    }
   },
   "outputs": [],
   "source": [
    "grid = psv.CornerGrid(\n",
    "    ndim, figheight=(ndim * 1.10), figwidth=(ndim * 1.25), diag_rspine=True, space=1.5\n",
    ")\n",
    "for i, x in enumerate([x_true, x_pred]):\n",
    "    color = [\"black\", \"red\"][i]\n",
    "    lw = [1.2, 0.7][i]\n",
    "    grid.plot(\n",
    "        x,\n",
    "        limits=limits,\n",
    "        bins=75,\n",
    "        diag_kws=dict(color=color, lw=(lw * 1.25)),\n",
    "        kind=\"contour\",\n",
    "        process_kws=dict(blur=1.0, scale=\"max\"),\n",
    "        mask=False,\n",
    "        levels=(10.0 ** np.linspace(-3.0, 0.0, 7)),\n",
    "        color=color,\n",
    "        lw=lw,\n",
    "    )\n",
    "    grid.format_diag(yscale=\"log\", yformatter=\"log\", ymax=5.0, ymin=0.0001)\n",
    "plt.show()"
   ]
  },
  {
   "cell_type": "code",
   "execution_count": null,
   "id": "c3d5bff8-61cf-481e-bb4c-45c555cfa234",
   "metadata": {},
   "outputs": [],
   "source": []
  }
 ],
 "metadata": {
  "kernelspec": {
   "display_name": "ment",
   "language": "python",
   "name": "ment"
  },
  "language_info": {
   "codemirror_mode": {
    "name": "ipython",
    "version": 3
   },
   "file_extension": ".py",
   "mimetype": "text/x-python",
   "name": "python",
   "nbconvert_exporter": "python",
   "pygments_lexer": "ipython3",
   "version": "3.12.8"
  }
 },
 "nbformat": 4,
 "nbformat_minor": 5
}
