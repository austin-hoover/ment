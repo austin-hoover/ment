{
 "cells": [
  {
   "cell_type": "markdown",
   "id": "c2ac3b4e-3775-47e7-b334-46e8b1e13077",
   "metadata": {},
   "source": [
    "# 4:2 MENT — random uncoupled phase advances"
   ]
  },
  {
   "cell_type": "code",
   "execution_count": null,
   "id": "553be401-ef87-43c2-81ae-82a085fd7fbe",
   "metadata": {},
   "outputs": [],
   "source": [
    "import os\n",
    "import sys\n",
    "import time\n",
    "\n",
    "import matplotlib.pyplot as plt\n",
    "import numpy as np\n",
    "import proplot as pplt\n",
    "import psdist as ps\n",
    "import psdist.plot as psv\n",
    "from tqdm.notebook import tqdm\n",
    "from tqdm.notebook import trange\n",
    "\n",
    "import ment\n",
    "from ment.utils import unravel"
   ]
  },
  {
   "cell_type": "code",
   "execution_count": null,
   "id": "5d223313-d7d0-41ec-b323-bf36b3619f03",
   "metadata": {},
   "outputs": [],
   "source": [
    "pplt.rc[\"cmap.discrete\"] = False\n",
    "pplt.rc[\"cmap.sequential\"] = \"viridis\"\n",
    "pplt.rc[\"figure.facecolor\"] = \"white\"\n",
    "pplt.rc[\"grid\"] = False"
   ]
  },
  {
   "cell_type": "markdown",
   "id": "2b06b0ea-9a6c-4f57-b05a-f0e5b1d0cbbc",
   "metadata": {},
   "source": [
    "## Settings"
   ]
  },
  {
   "cell_type": "code",
   "execution_count": null,
   "id": "802e2ae5-fc61-4ca0-a132-635bb7a5dc5f",
   "metadata": {},
   "outputs": [],
   "source": [
    "dist_name = \"gaussian_mixture\"\n",
    "ndim = 4\n",
    "nmeas = 9\n",
    "nbins = 50\n",
    "xmax = 3.5\n",
    "seed = 12345"
   ]
  },
  {
   "cell_type": "markdown",
   "id": "98da359a-b574-4d32-ac37-070006133006",
   "metadata": {},
   "source": [
    "## Source distribution"
   ]
  },
  {
   "cell_type": "code",
   "execution_count": null,
   "id": "4676ab41-fca5-441e-bd1d-8ccab2f1299f",
   "metadata": {},
   "outputs": [],
   "source": [
    "dist = ment.dist.get_dist(dist_name, ndim=ndim, seed=seed, noise=0.25)\n",
    "X_true = dist.sample(1_000_000)"
   ]
  },
  {
   "cell_type": "code",
   "execution_count": null,
   "id": "35ce0a95-a5ce-407c-87b6-c6e688b78a32",
   "metadata": {},
   "outputs": [],
   "source": [
    "limits = ndim * [(-xmax, xmax)]\n",
    "\n",
    "grid = psv.CornerGrid(ndim, figwidth=(ndim * 1.5))\n",
    "grid.plot_points(X_true, limits=limits, bins=75, mask=False, kind=\"contourf\")\n",
    "plt.show()"
   ]
  },
  {
   "cell_type": "markdown",
   "id": "a3730928-01e3-4592-856f-eff841c4bc7b",
   "metadata": {},
   "source": [
    "## Data generation"
   ]
  },
  {
   "cell_type": "code",
   "execution_count": null,
   "id": "ada46396-03f8-4bd9-9348-d2e85f94794b",
   "metadata": {},
   "outputs": [],
   "source": [
    "# Create transforms (random phase advances)\n",
    "rng = np.random.default_rng(seed)\n",
    "phase_advances = rng.uniform(0.0, np.pi, size=(nmeas, 2))\n",
    "transfer_matrices = []\n",
    "for mux, muy in phase_advances:\n",
    "    matrix = np.eye(ndim)\n",
    "    matrix[0:2, 0:2] = ment.sim.rotation_matrix(mux)\n",
    "    matrix[2:4, 2:4] = ment.sim.rotation_matrix(muy)\n",
    "    transfer_matrices.append(matrix)\n",
    "\n",
    "transforms = []\n",
    "for matrix in transfer_matrices:\n",
    "    transform = ment.sim.LinearTransform(matrix)\n",
    "    transforms.append(transform)\n",
    "\n",
    "# Create diagnostics (x-y histogram).\n",
    "axis_proj = (0, 2)\n",
    "bin_edges = len(axis_proj) * [np.linspace(-xmax, xmax, nbins + 1)]\n",
    "\n",
    "diagnostics = []\n",
    "for transform in transforms:\n",
    "    diagnostic = ment.diag.HistogramND(axis=(0, 2), edges=bin_edges)\n",
    "    diagnostics.append([diagnostic])\n",
    "\n",
    "# Generate data.\n",
    "projections = ment.sim.forward(X_true, transforms, diagnostics)"
   ]
  },
  {
   "cell_type": "markdown",
   "id": "feded3ff-bf64-4dd0-aec0-8bfa50234f1f",
   "metadata": {},
   "source": [
    "## Reconstruction model"
   ]
  },
  {
   "cell_type": "code",
   "execution_count": null,
   "id": "6e17440a-e578-43c8-8bbb-62697f920776",
   "metadata": {},
   "outputs": [],
   "source": [
    "prior = ment.GaussianPrior(ndim=ndim, scale=1.0)\n",
    "\n",
    "samp_grid_res = 32\n",
    "samp_noise = 0.0\n",
    "samp_grid_shape = ndim * [samp_grid_res]\n",
    "samp_grid_limits = limits\n",
    "\n",
    "sampler = ment.samp.GridSampler(\n",
    "    grid_limits=samp_grid_limits,\n",
    "    grid_shape=samp_grid_shape,\n",
    "    noise=samp_noise,\n",
    ")\n",
    "\n",
    "integration_limits = [limits[axis] for axis in range(ndim) if axis not in axis_proj]\n",
    "integration_limits = [[integration_limits]] * len(transforms)\n",
    "\n",
    "model = ment.MENT(\n",
    "    ndim=ndim,\n",
    "    projections=projections,\n",
    "    transforms=transforms,\n",
    "    diagnostics=diagnostics,\n",
    "    prior=prior,\n",
    "    interpolation_kws=dict(method=\"linear\"),\n",
    "    sampler=sampler,\n",
    "    nsamp=1_000_000,\n",
    "    integration_limits=integration_limits,\n",
    "    integration_size=(15**4),\n",
    "    integration_batches=1,\n",
    "    mode=\"sample\",  # {\"sample\", \"integrate\"}\n",
    "    verbose=2,\n",
    ")"
   ]
  },
  {
   "cell_type": "markdown",
   "id": "adb5bd95-d320-4dc0-bb13-a14673ced12e",
   "metadata": {},
   "source": [
    "## Training"
   ]
  },
  {
   "cell_type": "code",
   "execution_count": null,
   "id": "4da258ef-f7c8-43ba-bab2-22a589f4aac8",
   "metadata": {},
   "outputs": [],
   "source": [
    "def plot_model(model):\n",
    "    figs = []\n",
    "\n",
    "    # Plot reconstructed vs. true distribution.\n",
    "    X_pred = model.sample(1_000_000)\n",
    "\n",
    "    grid = psv.CornerGrid(ndim, figwidth=(ndim * 1.25), diag_shrink=0.80)\n",
    "    grid.plot_points(\n",
    "        X_pred,\n",
    "        limits=limits,\n",
    "        bins=65,\n",
    "        mask=False,\n",
    "        cmap=\"viridis\",\n",
    "    )\n",
    "    figs.append(grid.fig)\n",
    "\n",
    "    # Plot simulated vs. measured projections.\n",
    "    projections_true = model.projections\n",
    "    projections_true = unravel(projections_true)\n",
    "    projections_pred = ment.sim.forward(X_pred, transforms, diagnostics)\n",
    "    projections_pred = unravel(projections_pred)\n",
    "\n",
    "    ncols = min(nmeas, 7)\n",
    "    nrows = int(np.ceil(nmeas / ncols))\n",
    "    fig, axs = pplt.subplots(ncols=ncols, nrows=nrows, figwidth=(1.1 * ncols))\n",
    "    for ax, values_true, values_pred in zip(axs, projections_true, projections_pred):\n",
    "        psv.plot_image(\n",
    "            values_true.T,\n",
    "            ax=ax,\n",
    "            kind=\"contour\",\n",
    "            process_kws=dict(blur=0.5, norm=\"max\"),\n",
    "            colors=\"black\",\n",
    "            lw=0.7,\n",
    "            levels=np.linspace(0.01, 1.0, 7),\n",
    "        )\n",
    "        psv.plot_image(\n",
    "            values_pred.T,\n",
    "            ax=ax,\n",
    "            kind=\"contour\",\n",
    "            process_kws=dict(blur=0.5, norm=\"max\"),\n",
    "            colors=\"red\",\n",
    "            lw=0.7,\n",
    "            levels=np.linspace(0.01, 1.0, 7),\n",
    "        )\n",
    "    figs.append(fig)\n",
    "\n",
    "    return figs"
   ]
  },
  {
   "cell_type": "code",
   "execution_count": null,
   "id": "042fc5e4-c391-4198-9ada-ef883db3c705",
   "metadata": {},
   "outputs": [],
   "source": [
    "model.mode = \"sample\"\n",
    "\n",
    "trainer = ment.train.Trainer(\n",
    "    model,\n",
    "    plot_func=plot_model,\n",
    "    eval_func=None,\n",
    "    notebook=True,\n",
    ")\n",
    "\n",
    "trainer.train(epochs=3, learning_rate=0.80)"
   ]
  },
  {
   "cell_type": "code",
   "execution_count": null,
   "id": "a1a424be-e94e-43bb-bc3d-28134803e751",
   "metadata": {},
   "outputs": [],
   "source": []
  }
 ],
 "metadata": {
  "kernelspec": {
   "display_name": "Python [conda env:ment]",
   "language": "python",
   "name": "conda-env-ment-py"
  },
  "language_info": {
   "codemirror_mode": {
    "name": "ipython",
    "version": 3
   },
   "file_extension": ".py",
   "mimetype": "text/x-python",
   "name": "python",
   "nbconvert_exporter": "python",
   "pygments_lexer": "ipython3",
   "version": "3.11.9"
  }
 },
 "nbformat": 4,
 "nbformat_minor": 5
}
