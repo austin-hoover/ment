{
 "cells": [
  {
   "cell_type": "markdown",
   "id": "2c795b88-378b-489d-85bb-3e1786930b4a",
   "metadata": {},
   "source": [
    "# Test sampling algorithms (dynamic nested)"
   ]
  },
  {
   "cell_type": "code",
   "execution_count": null,
   "id": "eafc9aac-719c-434f-8816-7aae59f171db",
   "metadata": {},
   "outputs": [],
   "source": [
    "import os\n",
    "import time\n",
    "\n",
    "import numpy as np\n",
    "import psdist as ps\n",
    "import psdist.plot as psv\n",
    "import scipy.interpolate\n",
    "import ultraplot as plt\n",
    "from tqdm import tqdm\n",
    "\n",
    "import ment"
   ]
  },
  {
   "cell_type": "code",
   "execution_count": null,
   "id": "4cee8542-05d6-413f-8dc4-e2e0cde02748",
   "metadata": {},
   "outputs": [],
   "source": [
    "plt.rc[\"cmap.discrete\"] = False\n",
    "plt.rc[\"cmap.sequential\"] = \"viridis\"\n",
    "plt.rc[\"figure.facecolor\"] = \"white\"\n",
    "plt.rc[\"grid\"] = False"
   ]
  },
  {
   "cell_type": "markdown",
   "id": "e5922304-a9c9-47a7-b09f-7ae4f4845d2d",
   "metadata": {},
   "source": [
    "Create a particle distribution."
   ]
  },
  {
   "cell_type": "code",
   "execution_count": null,
   "id": "3b8a7941-17c2-446d-aa36-6a3cb7308de2",
   "metadata": {},
   "outputs": [],
   "source": [
    "# Settings\n",
    "ndim = 2\n",
    "size = 1_000_000\n",
    "n_modes = 5\n",
    "seed = 1241\n",
    "\n",
    "# Create gaussian particle distribution\n",
    "rng = np.random.default_rng(seed)\n",
    "mean = np.zeros(ndim)\n",
    "cov = np.identity(ndim)\n",
    "for i in range(ndim):\n",
    "    for j in range(i):\n",
    "        cov[i, j] = cov[j, i] = rng.uniform(-0.4, 0.4)\n",
    "x = rng.multivariate_normal(mean, cov, size=size)\n",
    "\n",
    "# Add gaussian blobs\n",
    "for _ in range(n_modes):\n",
    "    scale = rng.uniform(0.8, 1.5, size=ndim)\n",
    "    loc = rng.uniform(-5.0, 3.0, size=ndim)\n",
    "    x = np.vstack([x, rng.normal(loc=loc, scale=scale, size=(size // n_modes, ndim))])\n",
    "x = x - np.mean(x, axis=0)\n",
    "\n",
    "rng.shuffle(x)\n",
    "\n",
    "# Unit std\n",
    "x = x / np.std(x, axis=0)\n",
    "\n",
    "x_true = np.copy(x)"
   ]
  },
  {
   "cell_type": "code",
   "execution_count": null,
   "id": "92462b5d-00ec-473e-bed9-83890cb84f8d",
   "metadata": {},
   "outputs": [],
   "source": [
    "limits = ps.limits(x_true)\n",
    "\n",
    "grid = psv.CornerGrid(ndim, corner=True, figwidth=(1.25 * ndim))\n",
    "grid.plot(x_true, bins=50, limits=limits, cmap=\"mono\")\n",
    "plt.show()"
   ]
  },
  {
   "cell_type": "markdown",
   "id": "a6acffc0-ca57-4eaf-b653-277d50c9de1f",
   "metadata": {},
   "source": [
    "Compute ground-truth histogram. This will act as our ground-truth distribution function to sample from."
   ]
  },
  {
   "cell_type": "code",
   "execution_count": null,
   "id": "b867c8bf-4249-4e08-91c7-0b47bec1bde7",
   "metadata": {},
   "outputs": [],
   "source": [
    "n_bins = 25\n",
    "values, edges = np.histogramdd(x_true, bins=n_bins, range=limits, density=True)\n",
    "hist = ps.Histogram(values=values, edges=edges)\n",
    "print(\"hist.shape =\", hist.shape)"
   ]
  },
  {
   "cell_type": "markdown",
   "id": "6bc9ba5f-1a70-4025-a3ce-78ba5ed78d8a",
   "metadata": {},
   "source": [
    "Interpolate to obtain a smooth density function."
   ]
  },
  {
   "cell_type": "code",
   "execution_count": null,
   "id": "c2fa95da-05ec-4202-93d6-a869ac508ea0",
   "metadata": {},
   "outputs": [],
   "source": [
    "prob_func = scipy.interpolate.RegularGridInterpolator(\n",
    "    hist.coords,\n",
    "    hist.values,\n",
    "    method=\"linear\",\n",
    "    bounds_error=False,\n",
    "    fill_value=0.0,\n",
    ")"
   ]
  },
  {
   "cell_type": "markdown",
   "id": "50b58ee8-e59e-4283-b2d6-12420a817021",
   "metadata": {},
   "source": [
    "## Plot utilities"
   ]
  },
  {
   "cell_type": "code",
   "execution_count": null,
   "id": "e6b975c7-1752-460c-b56c-b8ddb637bc00",
   "metadata": {},
   "outputs": [],
   "source": [
    "def plot_corner_samp(x_samp: np.ndarray):\n",
    "    limits = ps.limits(x_true, rms=2.5)\n",
    "\n",
    "    grid = psv.CornerGrid(ndim, corner=True, figwidth=(1.25 * ndim))\n",
    "    grid.set_limits(limits)\n",
    "    grid.plot_hist(hist, cmap=\"mono\")\n",
    "    grid.plot(x_samp[:, :], kind=\"hist\", alpha=0.0, diag_kws=dict(color=\"red\"))\n",
    "    grid.plot(\n",
    "        x_samp[:1000, :],\n",
    "        diag=False,\n",
    "        kind=\"scatter\",\n",
    "        color=\"red\",\n",
    "        s=0.25,\n",
    "    )\n",
    "    return grid"
   ]
  },
  {
   "cell_type": "markdown",
   "id": "0dad75fd-3e39-444a-b5ab-d7d5d218d3a8",
   "metadata": {},
   "source": [
    "## Nested sampler"
   ]
  },
  {
   "cell_type": "code",
   "execution_count": null,
   "id": "e35fe426-725b-47a7-9a10-99f4b1f247f0",
   "metadata": {},
   "outputs": [],
   "source": [
    "import dynesty\n",
    "import math"
   ]
  },
  {
   "cell_type": "code",
   "execution_count": null,
   "id": "dd450964-dc1b-41a2-b2cc-5dccefe6f906",
   "metadata": {},
   "outputs": [],
   "source": [
    "# # defining constants\n",
    "# r = 2.0  # radius\n",
    "# w = 0.1  # width\n",
    "# c1 = np.array([-3.5, 0.0])  # center of shell 1\n",
    "# c2 = np.array([3.5, 0.0])  # center of shell 2\n",
    "# const = math.log(1.0 / math.sqrt(2.0 * math.pi * w**2))  # normalization constant\n",
    "\n",
    "\n",
    "# # log-likelihood of a single shell\n",
    "# def logcirc(theta, c):\n",
    "#     d = np.sqrt(np.sum((theta - c) ** 2, axis=-1))  # |theta - c|\n",
    "#     return const - (d - r) ** 2 / (2.0 * w**2)\n",
    "\n",
    "\n",
    "# # log-likelihood of two shells\n",
    "# def log_prob_func(theta):\n",
    "#     log_prob = np.logaddexp(logcirc(theta, c1), logcirc(theta, c2))\n",
    "#     return log_prob\n",
    "\n",
    "# # our prior transform\n",
    "# def prior_transform(x):\n",
    "#     return 12.0 * x - 6.0"
   ]
  },
  {
   "cell_type": "code",
   "execution_count": null,
   "id": "b8855b3c-5e99-4fdc-82e7-cd840bb9332c",
   "metadata": {},
   "outputs": [],
   "source": [
    "def log_prob_func(x):\n",
    "    return np.squeeze(prob_func(x) + 1.00e-15)\n",
    "    \n",
    "def prior_transform(z):\n",
    "    return (z - 0.5) * 4.0"
   ]
  },
  {
   "cell_type": "code",
   "execution_count": null,
   "id": "033e8a95-d739-48b0-b13e-75bca1bb0ac1",
   "metadata": {},
   "outputs": [],
   "source": [
    "rng = np.random.default_rng(None)\n",
    "\n",
    "sampler = dynesty.DynamicNestedSampler(\n",
    "    log_prob_func,\n",
    "    prior_transform,\n",
    "    ndim=ndim,\n",
    "    rstate=rng,\n",
    "    sample=\"rwalk\",\n",
    "    bound=\"balls\",\n",
    ")"
   ]
  },
  {
   "cell_type": "code",
   "execution_count": null,
   "id": "1e889913-d6ac-441d-b6c5-81c477543285",
   "metadata": {
    "scrolled": true
   },
   "outputs": [],
   "source": [
    "sampler.run_nested()"
   ]
  },
  {
   "cell_type": "code",
   "execution_count": null,
   "id": "d203f3e6-1f6e-4ec9-aee1-4c53917d9215",
   "metadata": {},
   "outputs": [],
   "source": [
    "x_samp = sampler.results.samples\n",
    "rng.shuffle(x_samp)\n",
    "psv.plot_corner(\n",
    "    x_samp[:, :], \n",
    "    bins=100, \n",
    "    mask=False, \n",
    "    # limits=ps.limits(x_samp, rms=4.0)\n",
    ")"
   ]
  },
  {
   "cell_type": "code",
   "execution_count": null,
   "id": "b204327a-3249-4f60-80e6-3f1d981af06f",
   "metadata": {},
   "outputs": [],
   "source": [
    "print(x_samp.shape)\n",
    "rng.shuffle(x_samp)\n",
    "grid = plot_corner_samp(x_samp)"
   ]
  },
  {
   "cell_type": "code",
   "execution_count": null,
   "id": "1403c480-f752-45a9-92b7-7ab3bffb3d84",
   "metadata": {},
   "outputs": [],
   "source": [
    "help(sampler)"
   ]
  },
  {
   "cell_type": "code",
   "execution_count": null,
   "id": "841cef2c-84e3-4f3b-97e3-b933307830cc",
   "metadata": {},
   "outputs": [],
   "source": [
    "help(sampler.run_nested)"
   ]
  },
  {
   "cell_type": "code",
   "execution_count": null,
   "id": "bd294297-20f8-4caf-a974-9affeae2ed5a",
   "metadata": {},
   "outputs": [],
   "source": []
  }
 ],
 "metadata": {
  "kernelspec": {
   "display_name": "ment",
   "language": "python",
   "name": "ment"
  },
  "language_info": {
   "codemirror_mode": {
    "name": "ipython",
    "version": 3
   },
   "file_extension": ".py",
   "mimetype": "text/x-python",
   "name": "python",
   "nbconvert_exporter": "python",
   "pygments_lexer": "ipython3",
   "version": "3.11.9"
  }
 },
 "nbformat": 4,
 "nbformat_minor": 5
}
