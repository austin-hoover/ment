{
 "cells": [
  {
   "cell_type": "markdown",
   "id": "2c795b88-378b-489d-85bb-3e1786930b4a",
   "metadata": {},
   "source": [
    "# Test sampling algorithms"
   ]
  },
  {
   "cell_type": "code",
   "execution_count": null,
   "id": "eafc9aac-719c-434f-8816-7aae59f171db",
   "metadata": {
    "execution": {
     "iopub.execute_input": "2025-05-08T16:21:49.363904Z",
     "iopub.status.busy": "2025-05-08T16:21:49.363456Z",
     "iopub.status.idle": "2025-05-08T16:21:50.671986Z",
     "shell.execute_reply": "2025-05-08T16:21:50.671739Z"
    }
   },
   "outputs": [],
   "source": [
    "import matplotlib.pyplot as plt\n",
    "import numpy as np\n",
    "\n",
    "import ment"
   ]
  },
  {
   "cell_type": "code",
   "execution_count": null,
   "id": "b2fda8d3",
   "metadata": {},
   "outputs": [],
   "source": [
    "plt.style.use(\"../style.mplstyle\")"
   ]
  },
  {
   "cell_type": "markdown",
   "id": "e5922304-a9c9-47a7-b09f-7ae4f4845d2d",
   "metadata": {},
   "source": [
    "## Create distribution"
   ]
  },
  {
   "cell_type": "code",
   "execution_count": null,
   "id": "3b8a7941-17c2-446d-aa36-6a3cb7308de2",
   "metadata": {
    "execution": {
     "iopub.execute_input": "2025-05-08T16:21:50.676745Z",
     "iopub.status.busy": "2025-05-08T16:21:50.676655Z",
     "iopub.status.idle": "2025-05-08T16:21:52.023604Z",
     "shell.execute_reply": "2025-05-08T16:21:52.023261Z"
    }
   },
   "outputs": [],
   "source": [
    "class RingDistribution:\n",
    "    def __init__(self) -> None:\n",
    "        self.ndim = 2\n",
    "\n",
    "    def prob(self, x: np.ndarray) -> np.ndarray:\n",
    "        x1 = x[:, 0]\n",
    "        x2 = x[:, 1]\n",
    "        log_prob = np.sin(np.pi * x1) - 2.0 * (x1**2 + x2**2 - 2.0) ** 2\n",
    "        return np.exp(log_prob)\n",
    "\n",
    "    def prob_grid(\n",
    "        self, shape: tuple[int], limits: list[tuple[float, float]]\n",
    "    ) -> tuple[np.ndarray, list[np.ndarray]]:\n",
    "        edges = [\n",
    "            np.linspace(limits[i][0], limits[i][1], shape[i] + 1)\n",
    "            for i in range(self.ndim)\n",
    "        ]\n",
    "        coords = [0.5 * (e[:-1] + e[1:]) for e in edges]\n",
    "        points = np.stack(\n",
    "            [c.ravel() for c in np.meshgrid(*coords, indexing=\"ij\")], axis=-1\n",
    "        )\n",
    "        values = self.prob(points)\n",
    "        values = values.reshape(shape)\n",
    "        return values, coords"
   ]
  },
  {
   "cell_type": "code",
   "execution_count": null,
   "id": "fe88acb4-1a21-4565-81f2-e41de80586bc",
   "metadata": {},
   "outputs": [],
   "source": [
    "ndim = 2\n",
    "xmax = 3.0\n",
    "dist = RingDistribution()"
   ]
  },
  {
   "cell_type": "code",
   "execution_count": null,
   "id": "e083ac94",
   "metadata": {},
   "outputs": [],
   "source": [
    "grid_limits = 2 * [(-xmax, xmax)]\n",
    "grid_shape = (128, 128)\n",
    "grid_values, grid_coords = dist.prob_grid(grid_shape, grid_limits)\n",
    "\n",
    "fig, ax = plt.subplots(figsize=(2.5, 2.5))\n",
    "ax.pcolormesh(grid_coords[0], grid_coords[1], grid_values.T)\n",
    "plt.show()"
   ]
  },
  {
   "cell_type": "code",
   "execution_count": null,
   "id": "4a72fdfd",
   "metadata": {},
   "outputs": [],
   "source": [
    "def plot_samples(x_pred: np.ndarray) -> tuple:\n",
    "    fig, axs = plt.subplots(ncols=2, figsize=(5.0, 2.75), sharex=True, sharey=True)\n",
    "    hist, edges = np.histogramdd(x_pred, bins=80, range=grid_limits)\n",
    "    axs[0].pcolormesh(edges[0], edges[1], hist.T)\n",
    "    axs[1].pcolormesh(grid_coords[0], grid_coords[1], grid_values.T)\n",
    "    axs[0].set_title(\"PRED\", fontsize=\"medium\")\n",
    "    axs[1].set_title(\"TRUE\", fontsize=\"medium\")\n",
    "    return fig, axs"
   ]
  },
  {
   "cell_type": "code",
   "execution_count": null,
   "id": "f5ff2f9d",
   "metadata": {},
   "outputs": [],
   "source": [
    "def evaluate_sampler(sampler, size: int = 100_000):\n",
    "    x_pred = sampler(dist.prob, size=size)\n",
    "    return plot_samples(x_pred)"
   ]
  },
  {
   "cell_type": "markdown",
   "id": "18c50faa",
   "metadata": {},
   "source": [
    "## Grid sampler"
   ]
  },
  {
   "cell_type": "code",
   "execution_count": null,
   "id": "09414cdc",
   "metadata": {},
   "outputs": [],
   "source": [
    "sampler = ment.GridSampler(grid_limits=grid_limits, grid_shape=grid_shape)\n",
    "\n",
    "evaluate_sampler(sampler);"
   ]
  },
  {
   "cell_type": "markdown",
   "id": "1cfb7494",
   "metadata": {},
   "source": [
    "## Metropolis-Hastings sampler"
   ]
  },
  {
   "cell_type": "code",
   "execution_count": null,
   "id": "37e61a8a",
   "metadata": {},
   "outputs": [],
   "source": [
    "chains = 4\n",
    "proposal_cov = np.identity(ndim) * 0.25\n",
    "start_loc = np.zeros(ndim)\n",
    "start_cov = np.identity(ndim) * 0.25\n",
    "start_point = np.random.multivariate_normal(start_loc, start_cov, size=chains)\n",
    "\n",
    "sampler = ment.samp.MetropolisHastingsSampler(\n",
    "    ndim=ndim,\n",
    "    proposal_cov=proposal_cov,\n",
    "    start=start_point,\n",
    "    chains=chains,\n",
    "    burnin=0,\n",
    ")\n",
    "evaluate_sampler(sampler);\n"
   ]
  },
  {
   "cell_type": "code",
   "execution_count": null,
   "id": "00ab115a",
   "metadata": {},
   "outputs": [],
   "source": []
  }
 ],
 "metadata": {
  "kernelspec": {
   "display_name": "ment",
   "language": "python",
   "name": "python3"
  },
  "language_info": {
   "codemirror_mode": {
    "name": "ipython",
    "version": 3
   },
   "file_extension": ".py",
   "mimetype": "text/x-python",
   "name": "python",
   "nbconvert_exporter": "python",
   "pygments_lexer": "ipython3",
   "version": "3.13.9"
  }
 },
 "nbformat": 4,
 "nbformat_minor": 5
}
