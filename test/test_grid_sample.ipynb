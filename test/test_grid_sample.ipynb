{
 "cells": [
  {
   "cell_type": "markdown",
   "id": "2c795b88-378b-489d-85bb-3e1786930b4a",
   "metadata": {},
   "source": [
    "# Test grid sampling"
   ]
  },
  {
   "cell_type": "code",
   "execution_count": null,
   "id": "eafc9aac-719c-434f-8816-7aae59f171db",
   "metadata": {},
   "outputs": [],
   "source": [
    "import os\n",
    "import sys\n",
    "import time\n",
    "\n",
    "import matplotlib.pyplot as plt\n",
    "import numpy as np\n",
    "import proplot as pplt\n",
    "import psdist as ps\n",
    "import psdist.visualization as psv\n",
    "import scipy.interpolate\n",
    "\n",
    "sys.path.append(\"..\")\n",
    "import ment.samp"
   ]
  },
  {
   "cell_type": "code",
   "execution_count": null,
   "id": "4cee8542-05d6-413f-8dc4-e2e0cde02748",
   "metadata": {},
   "outputs": [],
   "source": [
    "pplt.rc[\"cmap.discrete\"] = False\n",
    "pplt.rc[\"cmap.sequential\"] = \"viridis\"\n",
    "pplt.rc[\"figure.facecolor\"] = \"white\"\n",
    "pplt.rc[\"grid\"] = False"
   ]
  },
  {
   "cell_type": "markdown",
   "id": "e5922304-a9c9-47a7-b09f-7ae4f4845d2d",
   "metadata": {},
   "source": [
    "Create a particle distribution."
   ]
  },
  {
   "cell_type": "code",
   "execution_count": null,
   "id": "3b8a7941-17c2-446d-aa36-6a3cb7308de2",
   "metadata": {},
   "outputs": [],
   "source": [
    "# Settings\n",
    "dim = 6\n",
    "size = int(4.00e+05)\n",
    "n_modes = 5\n",
    "seed = 1241\n",
    "\n",
    "# Create gaussian particle distribution.\n",
    "rng = np.random.default_rng(seed)\n",
    "mean = np.zeros(dim)\n",
    "cov = np.identity(dim)\n",
    "for i in range(dim):\n",
    "    for j in range(i):\n",
    "        cov[i, j] = cov[j, i] = rng.uniform(-0.2, 0.2)\n",
    "x = rng.multivariate_normal(mean, cov, size=size)\n",
    "\n",
    "# Add some Gaussian blobs.\n",
    "for _ in range(n_modes):\n",
    "    scale = rng.uniform(0.5, 1.5, size=dim)\n",
    "    loc = rng.uniform(-3.0, 3.0, size=dim)\n",
    "    x = np.vstack([x, rng.normal(loc=loc, scale=scale, size=(size // n_modes, dim))])\n",
    "x = x - np.mean(x, axis=0)"
   ]
  },
  {
   "cell_type": "code",
   "execution_count": null,
   "id": "92462b5d-00ec-473e-bed9-83890cb84f8d",
   "metadata": {},
   "outputs": [],
   "source": [
    "limits = ps.points.limits(x)\n",
    "grid = psv.CornerGrid(dim, corner=True)\n",
    "grid.plot_points(\n",
    "    x, \n",
    "    bins=50, \n",
    "    limits=limits, \n",
    "    cmap=\"mono\",\n",
    ")\n",
    "plt.show()"
   ]
  },
  {
   "cell_type": "markdown",
   "id": "a6acffc0-ca57-4eaf-b653-277d50c9de1f",
   "metadata": {},
   "source": [
    "Compute ground-truth histogram."
   ]
  },
  {
   "cell_type": "code",
   "execution_count": null,
   "id": "b867c8bf-4249-4e08-91c7-0b47bec1bde7",
   "metadata": {},
   "outputs": [],
   "source": [
    "n_bins = 25\n",
    "hist, edges = np.histogramdd(x, bins=n_bins, range=limits, density=True)\n",
    "coords = [0.5 * (e[:-1] + e[1:]) for e in edges]\n",
    "print(\"hist.shape =\", hist.shape)"
   ]
  },
  {
   "cell_type": "markdown",
   "id": "6bc9ba5f-1a70-4025-a3ce-78ba5ed78d8a",
   "metadata": {},
   "source": [
    "Interpolate to obtain a smooth density function."
   ]
  },
  {
   "cell_type": "code",
   "execution_count": null,
   "id": "c2fa95da-05ec-4202-93d6-a869ac508ea0",
   "metadata": {},
   "outputs": [],
   "source": [
    "prob_func = scipy.interpolate.RegularGridInterpolator(\n",
    "    coords, hist, method=\"linear\", bounds_error=False, fill_value=0.0,\n",
    ")"
   ]
  },
  {
   "cell_type": "markdown",
   "id": "edd37ee4-e77d-4e63-8ac7-655ea2a717a5",
   "metadata": {},
   "source": [
    "## Grid Sampling (GS)"
   ]
  },
  {
   "cell_type": "markdown",
   "id": "3ae3e130-c6aa-49c8-a3ad-a9031c5321cf",
   "metadata": {},
   "source": [
    "Sample from the distribution."
   ]
  },
  {
   "cell_type": "code",
   "execution_count": null,
   "id": "1cae078b-f513-4520-bc58-701acd1a532a",
   "metadata": {},
   "outputs": [],
   "source": [
    "samp_grid_res = 15  # limit ~ 15\n",
    "grid_shape = [samp_grid_res] * dim\n",
    "grid_limits = limits\n",
    "\n",
    "sampler = ment.samp.GridSampler(\n",
    "    grid_limits=grid_limits,\n",
    "    grid_shape=grid_shape,\n",
    "    noise=0.0,\n",
    ")\n",
    "\n",
    "start_time = time.time()\n",
    "x_samp = sampler(prob_func, size)\n",
    "print(\"time:\", time.time() - start_time)"
   ]
  },
  {
   "cell_type": "markdown",
   "id": "8ce9518f-fc65-4b53-ac4d-329f5f7d56db",
   "metadata": {},
   "source": [
    "Plot a samples over histogram projections."
   ]
  },
  {
   "cell_type": "code",
   "execution_count": null,
   "id": "b2df452c-954d-4f8c-a797-1572a2f7e4ba",
   "metadata": {},
   "outputs": [],
   "source": [
    "limits = ps.points.limits(x)\n",
    "grid = psv.CornerGrid(dim, corner=True)\n",
    "grid.set_limits(limits)\n",
    "grid.plot_image(hist, coords=coords, cmap=\"mono\")\n",
    "grid.plot_points(\n",
    "    x_samp[:1000, :], \n",
    "    kind=\"scatter\", \n",
    "    color=\"red\", \n",
    "    s=0.5,\n",
    "    diag_kws=dict(color=\"red\")\n",
    ")\n",
    "plt.show()"
   ]
  },
  {
   "cell_type": "code",
   "execution_count": null,
   "id": "7689dba4-e32e-4594-8785-43c1791604ae",
   "metadata": {},
   "outputs": [],
   "source": [
    "limits = ps.points.limits(x)\n",
    "grid = psv.CornerGrid(dim, corner=False)\n",
    "grid.set_limits(limits)\n",
    "grid.plot_image(hist, coords=coords, lower=False, cmap=\"mono\")\n",
    "grid.plot_points(x_samp, upper=False, bins=n_bins, limits=limits, cmap=\"mono\")\n",
    "plt.show()"
   ]
  },
  {
   "cell_type": "markdown",
   "id": "9a78a618-78c5-4ab6-b20d-cccb0ad3eb2e",
   "metadata": {},
   "source": [
    "## Slice Grid Sampling (GS)"
   ]
  },
  {
   "cell_type": "code",
   "execution_count": null,
   "id": "4655da16-a2b9-4c78-8bf4-5ec5b73a6455",
   "metadata": {},
   "outputs": [],
   "source": [
    "samp_res = 20\n",
    "int_res  = 10\n",
    "\n",
    "ndim = dim\n",
    "ndim_proj = 3\n",
    "ndim_samp = ndim_int = ndim - ndim_proj\n",
    "\n",
    "grid_shape = [samp_res] * ndim\n",
    "grid_limits = limits\n",
    "int_size = int(int_res ** ndim_int)\n",
    "\n",
    "sampler = ment.samp.SliceGridSampler(\n",
    "    grid_limits=grid_limits,\n",
    "    grid_shape=grid_shape,\n",
    "    proj_dim=ndim_proj,\n",
    "    int_size=int_size,\n",
    "    int_method=\"grid\",\n",
    "    int_batches=1,\n",
    "    noise=0.0,\n",
    "    verbose=True,\n",
    ")\n",
    "\n",
    "start_time = time.time()\n",
    "x_samp = sampler(prob_func, size)\n",
    "print(\"time:\", time.time() - start_time)"
   ]
  },
  {
   "cell_type": "code",
   "execution_count": null,
   "id": "19d7cdc4-fd5a-42e2-b9c9-7cec1671e4df",
   "metadata": {},
   "outputs": [],
   "source": [
    "limits = ps.points.limits(x)\n",
    "grid = psv.CornerGrid(dim, corner=True)\n",
    "grid.set_limits(limits)\n",
    "grid.plot_image(hist, coords=coords, cmap=\"mono\")\n",
    "grid.plot_points(\n",
    "    x_samp[:1000, :], \n",
    "    kind=\"scatter\", \n",
    "    color=\"red\", \n",
    "    s=0.5,\n",
    "    diag_kws=dict(color=\"red\")\n",
    ")\n",
    "plt.show()"
   ]
  },
  {
   "cell_type": "code",
   "execution_count": null,
   "id": "d3a20c1c-dea5-46b7-8d2f-6b173c7913ee",
   "metadata": {},
   "outputs": [],
   "source": [
    "limits = ps.points.limits(x)\n",
    "grid = psv.CornerGrid(dim, corner=False)\n",
    "grid.set_limits(limits)\n",
    "grid.plot_image(hist, coords=coords, lower=False, cmap=\"mono\")\n",
    "grid.plot_points(x_samp, upper=False, bins=n_bins, limits=limits, cmap=\"mono\")\n",
    "plt.show()"
   ]
  },
  {
   "cell_type": "code",
   "execution_count": null,
   "id": "12afa61b-cc8e-49f6-bdc8-ab1917c0935d",
   "metadata": {},
   "outputs": [],
   "source": []
  }
 ],
 "metadata": {
  "kernelspec": {
   "display_name": "Python (ment)",
   "language": "python",
   "name": "ment"
  },
  "language_info": {
   "codemirror_mode": {
    "name": "ipython",
    "version": 3
   },
   "file_extension": ".py",
   "mimetype": "text/x-python",
   "name": "python",
   "nbconvert_exporter": "python",
   "pygments_lexer": "ipython3",
   "version": "3.10.14"
  }
 },
 "nbformat": 4,
 "nbformat_minor": 5
}
