{
 "cells": [
  {
   "cell_type": "markdown",
   "id": "c2ac3b4e-3775-47e7-b334-46e8b1e13077",
   "metadata": {},
   "source": [
    "# 4:2 MENT"
   ]
  },
  {
   "cell_type": "code",
   "execution_count": null,
   "id": "553be401-ef87-43c2-81ae-82a085fd7fbe",
   "metadata": {},
   "outputs": [],
   "source": [
    "import os\n",
    "import sys\n",
    "import time\n",
    "\n",
    "import matplotlib.pyplot as plt\n",
    "import numpy as np\n",
    "import proplot as pplt\n",
    "import psdist as ps\n",
    "import psdist.visualization as psv\n",
    "\n",
    "import ment"
   ]
  },
  {
   "cell_type": "code",
   "execution_count": null,
   "id": "5d223313-d7d0-41ec-b323-bf36b3619f03",
   "metadata": {},
   "outputs": [],
   "source": [
    "pplt.rc[\"cmap.discrete\"] = False\n",
    "pplt.rc[\"cmap.sequential\"] = \"viridis\"\n",
    "pplt.rc[\"figure.facecolor\"] = \"white\"\n",
    "pplt.rc[\"grid\"] = False"
   ]
  },
  {
   "cell_type": "markdown",
   "id": "2b06b0ea-9a6c-4f57-b05a-f0e5b1d0cbbc",
   "metadata": {},
   "source": [
    "Settings:"
   ]
  },
  {
   "cell_type": "code",
   "execution_count": null,
   "id": "802e2ae5-fc61-4ca0-a132-635bb7a5dc5f",
   "metadata": {},
   "outputs": [],
   "source": [
    "dist_name = \"gaussian_mixture\"\n",
    "ndim = 4\n",
    "n_meas = 32\n",
    "n_bins = 70\n",
    "xmax = 3.5\n",
    "seed = 145"
   ]
  },
  {
   "cell_type": "markdown",
   "id": "98da359a-b574-4d32-ac37-070006133006",
   "metadata": {},
   "source": [
    "Define the source distribution."
   ]
  },
  {
   "cell_type": "code",
   "execution_count": null,
   "id": "35ce0a95-a5ce-407c-87b6-c6e688b78a32",
   "metadata": {},
   "outputs": [],
   "source": [
    "dist = ment.dist.get_dist(\n",
    "    dist_name, ndim=ndim, seed=seed, \n",
    "    # scale=1.0,\n",
    ")\n",
    "x_true = dist.sample(1_000_000)\n",
    "\n",
    "limits = ndim * [(-xmax, xmax)]\n",
    "\n",
    "grid = psv.CornerGrid(ndim, figwidth=(ndim * 1.5))\n",
    "grid.plot_points(x_true, limits=limits, bins=75, mask=False);"
   ]
  },
  {
   "cell_type": "markdown",
   "id": "a3730928-01e3-4592-856f-eff841c4bc7b",
   "metadata": {},
   "source": [
    "Generate data."
   ]
  },
  {
   "cell_type": "code",
   "execution_count": null,
   "id": "ada46396-03f8-4bd9-9348-d2e85f94794b",
   "metadata": {},
   "outputs": [],
   "source": [
    "# ## Create transforms: rotations in x-x' and y-y'.\n",
    "# phase_advances_x = np.linspace(0.0, np.pi, int(np.sqrt(n_meas)), endpoint=False)\n",
    "# phase_advances_y = phase_advances_x\n",
    "# transfer_matrices = []\n",
    "# for mux in phase_advances_x:\n",
    "#     for muy in phase_advances_y:\n",
    "#         matrix = np.eye(ndim)\n",
    "#         matrix[0:2, 0:2] = ment.sim.rotation_matrix(mux)\n",
    "#         matrix[2:4, 2:4] = ment.sim.rotation_matrix(muy)\n",
    "#         transfer_matrices.append(matrix)\n",
    "\n",
    "\n",
    "# Create transforms\n",
    "rng = np.random.default_rng(seed)\n",
    "phase_advances = rng.uniform(0.0, np.pi, size=(n_meas, 2))\n",
    "transfer_matrices = []\n",
    "for (mux, muy) in phase_advances:\n",
    "    matrix = np.eye(ndim)\n",
    "    matrix[0:2, 0:2] = ment.sim.rotation_matrix(mux)\n",
    "    matrix[2:4, 2:4] = ment.sim.rotation_matrix(muy)\n",
    "    transfer_matrices.append(matrix)\n",
    "\n",
    "\n",
    "transforms = []\n",
    "for matrix in transfer_matrices:\n",
    "    transform = ment.sim.LinearTransform(matrix)\n",
    "    transforms.append(transform)\n",
    "\n",
    "# Create diagnostics (x-y histogram).\n",
    "axis_proj = (0, 2)\n",
    "bin_edges = len(axis_proj) * [np.linspace(-xmax, xmax, n_bins + 1)]\n",
    "\n",
    "diagnostics = []\n",
    "for transform in transforms:\n",
    "    diagnostic = ment.diag.HistogramND(axis=(0, 2), bin_edges=bin_edges)\n",
    "    diagnostics.append([diagnostic])\n",
    "diagnostics\n",
    "\n",
    "# Generate measurement data.\n",
    "measurements = []\n",
    "for index, transform in enumerate(transforms):\n",
    "    u = transform(x_true)\n",
    "    measurements.append([diagnostic(u) for diagnostic in diagnostics[index]])"
   ]
  },
  {
   "cell_type": "markdown",
   "id": "feded3ff-bf64-4dd0-aec0-8bfa50234f1f",
   "metadata": {},
   "source": [
    "Create reconstruction model."
   ]
  },
  {
   "cell_type": "code",
   "execution_count": null,
   "id": "6e17440a-e578-43c8-8bbb-62697f920776",
   "metadata": {},
   "outputs": [],
   "source": [
    "# Prior distribution\n",
    "prior = ment.UniformPrior(ndim=ndim, scale=(2.0 * xmax))\n",
    "\n",
    "# Sampler\n",
    "samp_grid_res = 32\n",
    "samp_noise = 1.0\n",
    "samp_grid_shape = ndim * [samp_grid_res]\n",
    "samp_grid_limits = limits\n",
    "\n",
    "sampler = ment.samp.GridSampler(\n",
    "    grid_limits=samp_grid_limits, \n",
    "    grid_shape=samp_grid_shape,\n",
    "    noise=samp_noise,\n",
    ")\n",
    "\n",
    "# MENT solver\n",
    "model = ment.MENT(\n",
    "    ndim=ndim,\n",
    "    measurements=measurements,\n",
    "    transforms=transforms,\n",
    "    diagnostics=diagnostics,\n",
    "    prior=prior,\n",
    "    sampler=sampler,\n",
    "    n_samples=200_000,\n",
    "    verbose=True,\n",
    "    interpolation=dict(method=\"linear\"),\n",
    ")\n",
    "\n",
    "\n",
    "learning_rate = 0.90\n",
    "n_epochs = 10"
   ]
  },
  {
   "cell_type": "code",
   "execution_count": null,
   "id": "82a46289-b2af-4e8e-9834-97b83279fd5c",
   "metadata": {},
   "outputs": [],
   "source": [
    "t0 = time.time()\n",
    "model.sample(10000)\n",
    "print(time.time() - t0)"
   ]
  },
  {
   "cell_type": "code",
   "execution_count": null,
   "id": "f547dfe5-a3ec-463c-a872-5f8d8bd8a2e6",
   "metadata": {},
   "outputs": [],
   "source": [
    "start_time = time.time()\n",
    "\n",
    "for epoch in range(-1, n_epochs):\n",
    "    print(f\"epoch = {epoch}\")\n",
    "    if epoch >= 0:\n",
    "        model.gauss_seidel_step(lr=learning_rate)\n",
    "        print(\"time = {:0.3f}\".format(time.time() - start_time))\n",
    "\n",
    "    x = model.sample(1_000_000)\n",
    "    \n",
    "    grid = psv.CornerGrid(ndim, figwidth=(ndim * 1.5), corner=False)\n",
    "    kws = dict(limits=limits, bins=75, mask=True)\n",
    "    grid.plot_points(\n",
    "        x_true, \n",
    "        lower=False, \n",
    "        diag_kws=dict(kind=\"line\", color=\"red8\", lw=1.1),\n",
    "        cmap=pplt.Colormap(\"reds\"),\n",
    "    )\n",
    "    grid.plot_points(\n",
    "        x, \n",
    "        upper=False, \n",
    "        diag_kws=dict(kind=\"line\", color=\"blue8\", lw=1.1), \n",
    "        cmap=pplt.Colormap(\"blues\"),\n",
    "        **kws\n",
    "    )\n",
    "    plt.show()"
   ]
  },
  {
   "cell_type": "code",
   "execution_count": null,
   "id": "7eb1a88f-830d-4c3f-b3eb-ba3dd2d08f1d",
   "metadata": {},
   "outputs": [],
   "source": []
  }
 ],
 "metadata": {
  "kernelspec": {
   "display_name": "Python (ment)",
   "language": "python",
   "name": "ment"
  },
  "language_info": {
   "codemirror_mode": {
    "name": "ipython",
    "version": 3
   },
   "file_extension": ".py",
   "mimetype": "text/x-python",
   "name": "python",
   "nbconvert_exporter": "python",
   "pygments_lexer": "ipython3",
   "version": "3.10.14"
  }
 },
 "nbformat": 4,
 "nbformat_minor": 5
}
