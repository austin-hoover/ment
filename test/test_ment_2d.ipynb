{
 "cells": [
  {
   "cell_type": "markdown",
   "id": "c2ac3b4e-3775-47e7-b334-46e8b1e13077",
   "metadata": {},
   "source": [
    "# 2:1 MENT"
   ]
  },
  {
   "cell_type": "code",
   "execution_count": null,
   "id": "553be401-ef87-43c2-81ae-82a085fd7fbe",
   "metadata": {},
   "outputs": [],
   "source": [
    "import os\n",
    "import sys\n",
    "import time\n",
    "\n",
    "import matplotlib.pyplot as plt\n",
    "import numpy as np\n",
    "import proplot as pplt\n",
    "\n",
    "import ment"
   ]
  },
  {
   "cell_type": "code",
   "execution_count": null,
   "id": "5d223313-d7d0-41ec-b323-bf36b3619f03",
   "metadata": {},
   "outputs": [],
   "source": [
    "pplt.rc[\"cmap.discrete\"] = False\n",
    "pplt.rc[\"cmap.sequential\"] = \"viridis\"\n",
    "pplt.rc[\"figure.facecolor\"] = \"white\"\n",
    "pplt.rc[\"grid\"] = False"
   ]
  },
  {
   "cell_type": "markdown",
   "id": "2b06b0ea-9a6c-4f57-b05a-f0e5b1d0cbbc",
   "metadata": {},
   "source": [
    "Settings:"
   ]
  },
  {
   "cell_type": "code",
   "execution_count": null,
   "id": "802e2ae5-fc61-4ca0-a132-635bb7a5dc5f",
   "metadata": {},
   "outputs": [],
   "source": [
    "dist_name = \"swissroll\"\n",
    "ndim = 2\n",
    "n_meas = 6\n",
    "n_bins = 75\n",
    "xmax = 3.0\n",
    "seed = 0"
   ]
  },
  {
   "cell_type": "markdown",
   "id": "98da359a-b574-4d32-ac37-070006133006",
   "metadata": {},
   "source": [
    "Define the source distribution."
   ]
  },
  {
   "cell_type": "code",
   "execution_count": null,
   "id": "35ce0a95-a5ce-407c-87b6-c6e688b78a32",
   "metadata": {
    "scrolled": true
   },
   "outputs": [],
   "source": [
    "dist = ment.dist.get_dist(dist_name, ndim=ndim, seed=seed)\n",
    "x_true = dist.sample(1_000_000)\n",
    "\n",
    "limits = 2 * [(-xmax, xmax)]\n",
    "\n",
    "fig, ax = pplt.subplots()\n",
    "ax.hist2d(x_true[:, 0], x_true[:, 1], bins=75, range=limits)\n",
    "plt.show()"
   ]
  },
  {
   "cell_type": "markdown",
   "id": "a3730928-01e3-4592-856f-eff841c4bc7b",
   "metadata": {},
   "source": [
    "Create the measurement data."
   ]
  },
  {
   "cell_type": "code",
   "execution_count": null,
   "id": "ada46396-03f8-4bd9-9348-d2e85f94794b",
   "metadata": {},
   "outputs": [],
   "source": [
    "phase_advances = np.linspace(0.0, np.pi, n_meas, endpoint=False)\n",
    "\n",
    "transfer_matrices = []\n",
    "for phase_advance in phase_advances:\n",
    "    matrix = ment.sim.rotation_matrix(phase_advance)\n",
    "    transfer_matrices.append(matrix)\n",
    "\n",
    "transforms = []\n",
    "for matrix in transfer_matrices:\n",
    "    transform = ment.sim.LinearTransform(matrix)\n",
    "    transforms.append(transform)\n",
    "\n",
    "bin_edges = np.linspace(-xmax, xmax, n_bins + 1)\n",
    "\n",
    "diagnostics = []\n",
    "for transform in transforms:\n",
    "    diagnostic = ment.diag.Histogram1D(axis=0, bin_edges=bin_edges)\n",
    "    diagnostics.append([diagnostic])\n",
    "diagnostics\n",
    "\n",
    "measurements = []\n",
    "for index, transform in enumerate(transforms):\n",
    "    u = transform(x_true)\n",
    "    measurements.append([diagnostic(u) for diagnostic in diagnostics[index]])"
   ]
  },
  {
   "cell_type": "code",
   "execution_count": null,
   "id": "6e17440a-e578-43c8-8bbb-62697f920776",
   "metadata": {},
   "outputs": [],
   "source": [
    "prior = ment.UniformPrior(ndim=2, scale=(2.0 * xmax))\n",
    "\n",
    "sampler = ment.samp.GridSampler(grid_limits=limits, grid_shape=(ndim * [100]))\n",
    "\n",
    "model = ment.MENT(\n",
    "    ndim=ndim,\n",
    "    measurements=measurements,\n",
    "    transforms=transforms,\n",
    "    diagnostics=diagnostics,\n",
    "    prior=prior,\n",
    "    sampler=sampler,\n",
    "    n_samples=500_000,\n",
    "    interpolation=dict(method=\"linear\"),\n",
    "    verbose=True,\n",
    ")\n",
    "\n",
    "learning_rate = 0.99\n",
    "n_epochs = 10"
   ]
  },
  {
   "cell_type": "code",
   "execution_count": null,
   "id": "f547dfe5-a3ec-463c-a872-5f8d8bd8a2e6",
   "metadata": {},
   "outputs": [],
   "source": [
    "for epoch in range(-1, n_epochs):\n",
    "    if epoch >= 0:\n",
    "        model.gauss_seidel_step(lr=learning_rate)\n",
    "\n",
    "    x = model.sample(1_000_000)\n",
    "    \n",
    "    fig, ax = pplt.subplots()\n",
    "    ax.hist2d(x[:, 0], x[:, 1], bins=75, range=limits)\n",
    "    plt.show()\n",
    "\n",
    "    ncols = min(n_meas, 7)\n",
    "    nrows = int(np.ceil(n_meas / ncols))\n",
    "    figwidth = 2.0 * ncols\n",
    "    figheight = 1.25 * nrows\n",
    "    fig, axs = plt.subplots(ncols=ncols, nrows=nrows, figsize=(figwidth, figheight), sharex=True, sharey=True)\n",
    "    for index, transform in enumerate(transforms):\n",
    "        prediction = model.simulate(index, diag_index=0).copy()\n",
    "        measurement = measurements[index][0].copy()\n",
    "        ax = axs.ravel()[index]\n",
    "\n",
    "        normalization = measurement.max()\n",
    "        prediction = prediction / normalization\n",
    "        measurement = measurement / normalization\n",
    "        ax.plot(measurement, color=\"red3\");\n",
    "        ax.plot(prediction, color=\"black\");\n",
    "    plt.show()"
   ]
  },
  {
   "cell_type": "code",
   "execution_count": null,
   "id": "7eb1a88f-830d-4c3f-b3eb-ba3dd2d08f1d",
   "metadata": {},
   "outputs": [],
   "source": []
  }
 ],
 "metadata": {
  "kernelspec": {
   "display_name": "Python (ment)",
   "language": "python",
   "name": "ment"
  },
  "language_info": {
   "codemirror_mode": {
    "name": "ipython",
    "version": 3
   },
   "file_extension": ".py",
   "mimetype": "text/x-python",
   "name": "python",
   "nbconvert_exporter": "python",
   "pygments_lexer": "ipython3",
   "version": "3.10.14"
  }
 },
 "nbformat": 4,
 "nbformat_minor": 5
}
